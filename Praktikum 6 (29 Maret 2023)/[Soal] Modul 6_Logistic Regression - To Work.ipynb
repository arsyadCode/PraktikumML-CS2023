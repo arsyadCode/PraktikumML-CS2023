{
 "cells": [
  {
   "cell_type": "markdown",
   "metadata": {},
   "source": [
    "# Load Libraries"
   ]
  },
  {
   "cell_type": "code",
   "execution_count": 1,
   "metadata": {},
   "outputs": [],
   "source": [
    "import numpy as np\n",
    "import pandas as pd\n",
    "from sklearn import datasets\n",
    "import seaborn as sns\n",
    "%matplotlib inline\n",
    "import matplotlib.pyplot as plt\n",
    "#sns.set(style='whitegrid', context='notebook')"
   ]
  },
  {
   "cell_type": "markdown",
   "metadata": {
    "id": "rbxeYfd1Slsx",
    "tags": []
   },
   "source": [
    "## Linear regression vs Logistic regression untuk klasifikasi\n",
    "\n",
    "Apakah klasifikasi dapat dilakukan menggunakan linear regresion? \n",
    "\n",
    "Sebagai contoh, dataset `default` (mampu/gagal bayar hutang) memiliki dua kelas:\n",
    "\n",
    "$$\n",
    "Y=\\left\\{\\begin{array}{ll}\n",
    "0 & \\text { if No } \\\\\n",
    "1 & \\text { if Yes. }\n",
    "\\end{array}\\right.\n",
    "$$\n",
    "\n",
    "Apakah kita bisa membuat model klasifikasi dengan regresi linear dari $Y$ dengan input $X$ dan mengklasifikasikan $Yes$ saat $\\hat{Y} > 0.5$?\n",
    "\n",
    "- Dalam kasus binary classification seperti data `default`, linear regression bisa saja digunakan.\n",
    "- Populasi dari $E(Y|X=x) = Pr(Y=1|X=x)$, sehingga regresi linear dapat digunakan untuk kasus ini.\n",
    "- Kelemahan dalam penggunaan linear regression untuk kasus ini adalah, nilai probabilitas yang di keluarkan oleh linear regression dapat bernilai lebih kecil dari 0 dan lebih besar dari 1. \n",
    "- Penggunaan linear regression untuk kasus ini juga sangat sensitif terhadap outliers, dengan satu outlier saja garis pisahya bisa berubah drastis. Hal ini dapat di-illustrasikan sebagai berikut:\n",
    "\n",
    "<img src=\"https://i.stack.imgur.com/VVtRW.png\" width= 300px;/>\n",
    "\n",
    "<img src=\"https://i.stack.imgur.com/nEC4H.png\" width= 500px;/>\n",
    "\n",
    "\n",
    "\n"
   ]
  },
  {
   "cell_type": "markdown",
   "metadata": {
    "id": "lUEbqR1B3-IP"
   },
   "source": [
    "Sekarang mari kita lihat visualisasi dari Linear regresion vs Logistik regresion untuk kasus ini. Disini kita hanya menggunakan variabel `balance` dari dataset `default` sebagai input $X$ kita. "
   ]
  },
  {
   "cell_type": "markdown",
   "metadata": {
    "id": "jFEEg5Je_6zI"
   },
   "source": [
    "### linear regression vs logistic regression visualization"
   ]
  },
  {
   "cell_type": "markdown",
   "metadata": {},
   "source": [
    "Code berikut diadopsi dari https://github.com/JWarmenhoven/ISLR-python/blob/master/Notebooks/Chapter%204.ipynb\n",
    "\n",
    "Kita memerlukan library `openpyxl` untuk membaca file excel"
   ]
  },
  {
   "cell_type": "code",
   "execution_count": 2,
   "metadata": {},
   "outputs": [
    {
     "name": "stdout",
     "output_type": "stream",
     "text": [
      "Requirement already satisfied: openpyxl in c:\\programdata\\anaconda3\\lib\\site-packages (3.0.9)"
     ]
    },
    {
     "name": "stderr",
     "output_type": "stream",
     "text": [
      "WARNING: Ignoring invalid distribution -cikit-learn (c:\\programdata\\anaconda3\\lib\\site-packages)\n",
      "WARNING: Ignoring invalid distribution -cikit-learn (c:\\programdata\\anaconda3\\lib\\site-packages)\n",
      "WARNING: Ignoring invalid distribution -cikit-learn (c:\\programdata\\anaconda3\\lib\\site-packages)\n",
      "WARNING: Ignoring invalid distribution -cikit-learn (c:\\programdata\\anaconda3\\lib\\site-packages)\n",
      "WARNING: Ignoring invalid distribution -cikit-learn (c:\\programdata\\anaconda3\\lib\\site-packages)\n",
      "WARNING: Ignoring invalid distribution -cikit-learn (c:\\programdata\\anaconda3\\lib\\site-packages)\n"
     ]
    },
    {
     "name": "stdout",
     "output_type": "stream",
     "text": [
      "\n",
      "Requirement already satisfied: et-xmlfile in c:\\programdata\\anaconda3\\lib\\site-packages (from openpyxl) (1.1.0)\n"
     ]
    }
   ],
   "source": [
    "# install library openpyxl\n",
    "!pip install openpyxl"
   ]
  },
  {
   "cell_type": "code",
   "execution_count": 3,
   "metadata": {},
   "outputs": [
    {
     "name": "stderr",
     "output_type": "stream",
     "text": [
      "C:\\ProgramData\\Anaconda3\\lib\\site-packages\\openpyxl\\styles\\stylesheet.py:226: UserWarning: Workbook contains no default style, apply openpyxl's default\n",
      "  warn(\"Workbook contains no default style, apply openpyxl's default\")\n"
     ]
    },
    {
     "data": {
      "text/html": [
       "<div>\n",
       "<style scoped>\n",
       "    .dataframe tbody tr th:only-of-type {\n",
       "        vertical-align: middle;\n",
       "    }\n",
       "\n",
       "    .dataframe tbody tr th {\n",
       "        vertical-align: top;\n",
       "    }\n",
       "\n",
       "    .dataframe thead th {\n",
       "        text-align: right;\n",
       "    }\n",
       "</style>\n",
       "<table border=\"1\" class=\"dataframe\">\n",
       "  <thead>\n",
       "    <tr style=\"text-align: right;\">\n",
       "      <th></th>\n",
       "      <th>Unnamed: 0</th>\n",
       "      <th>default</th>\n",
       "      <th>student</th>\n",
       "      <th>balance</th>\n",
       "      <th>income</th>\n",
       "    </tr>\n",
       "  </thead>\n",
       "  <tbody>\n",
       "    <tr>\n",
       "      <th>0</th>\n",
       "      <td>1</td>\n",
       "      <td>No</td>\n",
       "      <td>No</td>\n",
       "      <td>729.526495</td>\n",
       "      <td>44361.625074</td>\n",
       "    </tr>\n",
       "    <tr>\n",
       "      <th>1</th>\n",
       "      <td>2</td>\n",
       "      <td>No</td>\n",
       "      <td>Yes</td>\n",
       "      <td>817.180407</td>\n",
       "      <td>12106.134700</td>\n",
       "    </tr>\n",
       "    <tr>\n",
       "      <th>2</th>\n",
       "      <td>3</td>\n",
       "      <td>No</td>\n",
       "      <td>No</td>\n",
       "      <td>1073.549164</td>\n",
       "      <td>31767.138947</td>\n",
       "    </tr>\n",
       "    <tr>\n",
       "      <th>3</th>\n",
       "      <td>4</td>\n",
       "      <td>No</td>\n",
       "      <td>No</td>\n",
       "      <td>529.250605</td>\n",
       "      <td>35704.493935</td>\n",
       "    </tr>\n",
       "    <tr>\n",
       "      <th>4</th>\n",
       "      <td>5</td>\n",
       "      <td>No</td>\n",
       "      <td>No</td>\n",
       "      <td>785.655883</td>\n",
       "      <td>38463.495879</td>\n",
       "    </tr>\n",
       "  </tbody>\n",
       "</table>\n",
       "</div>"
      ],
      "text/plain": [
       "   Unnamed: 0 default student      balance        income\n",
       "0           1      No      No   729.526495  44361.625074\n",
       "1           2      No     Yes   817.180407  12106.134700\n",
       "2           3      No      No  1073.549164  31767.138947\n",
       "3           4      No      No   529.250605  35704.493935\n",
       "4           5      No      No   785.655883  38463.495879"
      ]
     },
     "execution_count": 3,
     "metadata": {},
     "output_type": "execute_result"
    }
   ],
   "source": [
    "# load dataset 'default'\n",
    "defaultdata = pd.read_excel(\"https://github.com/JWarmenhoven/ISLR-python/blob/master/Notebooks/Data/Default.xlsx?raw=true\")\n",
    "# lihat 5 data pertama\n",
    "defaultdata.head(5)"
   ]
  },
  {
   "cell_type": "markdown",
   "metadata": {},
   "source": [
    "### visualisasi perbandingan linear dan logistic regression"
   ]
  },
  {
   "cell_type": "code",
   "execution_count": 4,
   "metadata": {
    "colab": {
     "base_uri": "https://localhost:8080/",
     "height": 390
    },
    "id": "smCjfLHLhGde",
    "outputId": "e254791b-15f0-40fd-b3f5-3e12b0233759"
   },
   "outputs": [
    {
     "name": "stderr",
     "output_type": "stream",
     "text": [
      "C:\\ProgramData\\Anaconda3\\lib\\site-packages\\seaborn\\_decorators.py:36: FutureWarning: Pass the following variables as keyword args: x, y. From version 0.12, the only valid positional argument will be `data`, and passing other arguments without an explicit keyword will result in an error or misinterpretation.\n",
      "  warnings.warn(\n"
     ]
    },
    {
     "data": {
      "image/png": "[encoded data removed]",
      "text/plain": [
       "<Figure size 864x360 with 2 Axes>"
      ]
     },
     "metadata": {
      "needs_background": "light"
     },
     "output_type": "display_data"
    }
   ],
   "source": [
    "from sklearn.linear_model import LogisticRegression\n",
    "\n",
    "defaultdata['default2'] = defaultdata.default.factorize()[0]\n",
    "X_train = defaultdata.balance.values.reshape(-1,1) \n",
    "y = defaultdata.default2\n",
    "\n",
    "# Create array of test data. Calculate the classification probability\n",
    "# and predicted classification.\n",
    "X_test = np.arange(defaultdata.balance.min(), defaultdata.balance.max()).reshape(-1,1)\n",
    "\n",
    "clf = LogisticRegression(solver='newton-cg')\n",
    "clf.fit(X_train,y)\n",
    "prob = clf.predict_proba(X_test)\n",
    "\n",
    "fig, (ax1, ax2) = plt.subplots(1,2, figsize=(12,5))\n",
    "# Left plot\n",
    "sns.regplot(defaultdata.balance, defaultdata.default2, order=1, ci=None,\n",
    "            scatter_kws={'color':'orange'},\n",
    "            line_kws={'color':'lightblue', 'lw':2}, ax=ax1)\n",
    "# Right plot\n",
    "ax2.scatter(X_train, y, color='orange')\n",
    "ax2.plot(X_test, prob[:,1], color='lightblue')\n",
    "\n",
    "for ax in fig.axes:\n",
    "    ax.hlines(1, xmin=ax.xaxis.get_data_interval()[0],\n",
    "              xmax=ax.xaxis.get_data_interval()[1], linestyles='dashed', lw=1)\n",
    "    ax.hlines(0, xmin=ax.xaxis.get_data_interval()[0],\n",
    "              xmax=ax.xaxis.get_data_interval()[1], linestyles='dashed', lw=1)\n",
    "    ax.set_ylabel('Probability of default')\n",
    "    ax.set_xlabel('Balance')\n",
    "    ax.set_yticks([0, 0.25, 0.5, 0.75, 1.])\n",
    "    ax.set_xlim(xmin=-100)"
   ]
  },
  {
   "cell_type": "markdown",
   "metadata": {
    "id": "fr0G9_F8Ak_4"
   },
   "source": [
    "Titik oranye menunjukan output $Y$ dari data kita yang bernilai 1 atau 0. \n",
    "\n",
    "Linear regresion tidak dapat mengestimasi $Pr(Y=1|X)$ dengan baik dibandingkan dengan Logistic regression!\n",
    "\n",
    "---"
   ]
  },
  {
   "cell_type": "markdown",
   "metadata": {
    "id": "3fJHmPQPZ0LC"
   },
   "source": [
    "Jika kita memodelkan hubungan $X$ dengan $p(X)$ menggunakan regressi linear dengan bentuk $p(X)=w_{0}+w_{1} X $, kita akan mendapatkan garis pisah seperti pada visualisasi diatas sebelah kiri. \n",
    "\n",
    "Kita dapat melihat beberapa masalah yang muncul dengan pemodelan relasi dengan cara seperti ini:\n",
    "\n",
    "- Jika balance $X$ kita mendekati $0$ maka nilai $p(X)$ kita negatif.\n",
    "- Jika balance $X$ kita besar maka nilai $p(X)$ kita dapat bernilai lebih dari 1.\n",
    "\n",
    "Mengapa hal ini menjadi masalah?\n",
    "Ingat kembali salah satu sifat probabilitas: \n",
    "\n",
    "$$\n",
    "0 \\leq P(A) \\leq 1\n",
    "$$ \n",
    "\n",
    "Masalah ini dapat terjadi tidak hanya pada data `default` saja. Tiap data dengan output binary $\\{0,1\\}$, jika dimodelkan dengan regresi linear seperti diatas, prediksinya dapat bernilai $p(X)<0$ dan $p(X)>1$ kecuali jika input $X$ berada dalam domain tertentu.\n",
    "\n",
    "---\n",
    "\n"
   ]
  },
  {
   "cell_type": "markdown",
   "metadata": {
    "id": "xAVsLVbSdccN"
   },
   "source": [
    "Kita dapat mengatasi hal ini dengan memodelkan $p(X)$ dengan nilai output $[0,1]$\n",
    "\n",
    "Banyak macam fungsi memiliki sifat ini, pada model logistic regression kita akan menggunakan fungsi sigmoid dengan bentuk:"
   ]
  },
  {
   "cell_type": "markdown",
   "metadata": {
    "id": "NXWOCmQBZ-_b"
   },
   "source": [
    "$$\n",
    "\\begin{align}\n",
    "p(X)&=\\frac{e^{w_{0}+w_{1} X}}{1+e^{w_{0}+w_{1} X}} \\\\\n",
    "&= \\frac{1}{1+e^{-(w_{0}+w_{1} X)}}\n",
    "\\end{align}\n",
    "$$"
   ]
  },
  {
   "cell_type": "markdown",
   "metadata": {
    "id": "mwM7dd_Pgs7C"
   },
   "source": [
    "Rumus tersebut akan membentuk kurva seperti berikut:\n",
    "\n",
    "<img src=\"https://upload.wikimedia.org/wikipedia/commons/8/88/Logistic-curve.svg?download\" width= 500px;/>\n",
    "\n",
    "Dengan demikian kita menjamin bahwa output dari model logistic regression memiliki range $[0,1]$, cocok untuk merepresentasikan probabilitas. \n",
    "\n",
    "---"
   ]
  },
  {
   "cell_type": "markdown",
   "metadata": {
    "tags": []
   },
   "source": [
    "## Logistic Regression with Scikit Learn"
   ]
  },
  {
   "cell_type": "markdown",
   "metadata": {},
   "source": [
    "Kembali ke dataset `default`, kita cek datanya secara visual:"
   ]
  },
  {
   "cell_type": "code",
   "execution_count": 5,
   "metadata": {
    "tags": []
   },
   "outputs": [
    {
     "data": {
      "text/plain": [
       "<AxesSubplot:xlabel='default', ylabel='income'>"
      ]
     },
     "execution_count": 5,
     "metadata": {},
     "output_type": "execute_result"
    },
    {
     "data": {
      "image/png": "[encoded data removed]",
      "text/plain": [
       "<Figure size 1440x360 with 3 Axes>"
      ]
     },
     "metadata": {
      "needs_background": "light"
     },
     "output_type": "display_data"
    }
   ],
   "source": [
    "fig, axs = plt.subplots(ncols=3,figsize=(20,5),gridspec_kw={'width_ratios': [3, 1,1]})\n",
    "sns.scatterplot(data=defaultdata, x=\"balance\", y=\"income\", hue=\"default\", ax=axs[0])\n",
    "# hubungan default terhadap variabel balance\n",
    "sns.boxplot(x=\"default\", y=\"balance\", data=defaultdata, ax=axs[1])\n",
    "# hubungan default terhadap variabel income\n",
    "sns.boxplot(x=\"default\", y=\"income\", data=defaultdata, ax=axs[2])"
   ]
  },
  {
   "cell_type": "markdown",
   "metadata": {},
   "source": [
    "### Pertanyaan:\n",
    "apa saja yang bisa Anda analisis dari data tersebut ? "
   ]
  },
  {
   "cell_type": "markdown",
   "metadata": {
    "tags": []
   },
   "source": [
    "### Jawab:\n",
    "1. Scatterplot paling kiri \n",
    "  - Terdapat data imbalance dalam dataset kita\n",
    "  - Dapat kita lihat pula kalau ada beberapa pencilan atau outlier data di kedua kelas\n",
    "2. Boxplot kiri (Default terhadap balance)\n",
    "  - Kita dapat melihat pemisahan data dengan kelas default dan tidak dengan jelas disini\n",
    "  - Ada pencilan data dalam distribusi kedua kelas\n",
    "3. Boxplot kanan (Default terhadap Income)\n",
    "  - Tidak ada pemisahan yang jelas pada kedua kelas"
   ]
  },
  {
   "cell_type": "markdown",
   "metadata": {},
   "source": [
    "Kita coba aplikasikan logistic regression dari library scikit learn:"
   ]
  },
  {
   "cell_type": "code",
   "execution_count": 6,
   "metadata": {
    "id": "W5VEsAQmdzyM"
   },
   "outputs": [],
   "source": [
    "X = defaultdata[[\"balance\",\"income\"]].to_numpy()\n",
    "#X = defaultdata[[\"balance\"]].to_numpy()\n",
    "Y = defaultdata[\"default2\"].to_numpy()"
   ]
  },
  {
   "cell_type": "markdown",
   "metadata": {
    "id": "YXcnfpPJOfuJ"
   },
   "source": [
    "Selanjutnya kita bisa membagi data kita menjadi data training dan testing"
   ]
  },
  {
   "cell_type": "code",
   "execution_count": 7,
   "metadata": {
    "id": "8-YxPPbHdH_c"
   },
   "outputs": [],
   "source": [
    "from sklearn.model_selection import train_test_split\n",
    "\n",
    "X_train, X_test, y_train, y_test = train_test_split(X, Y, test_size=0.30, random_state=123)"
   ]
  },
  {
   "cell_type": "markdown",
   "metadata": {
    "id": "WVcwd70AO1_x"
   },
   "source": [
    "Mari kita buat model logistic regression dari data kita dan hitung akurasinya."
   ]
  },
  {
   "cell_type": "code",
   "execution_count": 8,
   "metadata": {
    "colab": {
     "base_uri": "https://localhost:8080/"
    },
    "id": "uq28RjELZWyi",
    "outputId": "0bf6dbac-205e-4ec2-cff6-7aeefd99379d"
   },
   "outputs": [
    {
     "data": {
      "text/plain": [
       "0.9673333333333334"
      ]
     },
     "execution_count": 8,
     "metadata": {},
     "output_type": "execute_result"
    }
   ],
   "source": [
    "from sklearn.linear_model import LogisticRegression\n",
    "\n",
    "clf = LogisticRegression(random_state=0).fit(X_train, y_train)\n",
    "predicted = clf.predict(X_test)\n",
    "\n",
    "# clf.predict_proba(X_test)\n",
    "# Hitung akurasi\n",
    "clf.score(X_test, y_test)"
   ]
  },
  {
   "cell_type": "markdown",
   "metadata": {
    "id": "l2DUC7E-PVt3"
   },
   "source": [
    "**Diskusi**\n",
    "\n",
    "Akurasi yang kita dapat cukup bagus apakah kita berhasil membuat model klasifikasi data kita? adakah yang janggal dari model kita? \n",
    "\n",
    "---"
   ]
  },
  {
   "cell_type": "markdown",
   "metadata": {
    "id": "Zg85Kd15PidY",
    "tags": []
   },
   "source": [
    "Dengan data yang tidak berimbang, melihat nilai akurasinya saja belum cukup. Mari kita cek precision dan recallnya!\n",
    "\n",
    "Sedikit pengingat rumus precision dan recall adalah: \n",
    "\n",
    "$\\text { Precision }=\\frac{\\text { True Positive }}{\\text { True Positive }+\\text { False Positive }}$\n",
    "\n",
    "$\\text { Recall }=\\frac{\\text { True Positive }}{\\text { True Positive }+\\text { False Negative }}$\n",
    "\n",
    "- Precision mengukur rate False positive terhadap True positive: metric ini berguna untuk kasus klasifikasi spam pada email, karena kita tidak ingin mengklasifikasikan email penting sebagai spam (False positive)\n",
    "\n",
    "- Recall mengukur rate False negative terhadap True positive: berguna untuk aplikasi deteksi penyakit, karena mengklasifikasikan orang yang menderita penyakit sebagai orang yang bebas penyakit tersebut (False negative) sangat berbahaya apalagi jika penyakitnya merupakan penyakit menular.  \n",
    "\n",
    "Kita dapat menggunakan scikit-learn untuk menghitung precision dan recall kita:"
   ]
  },
  {
   "cell_type": "code",
   "execution_count": 9,
   "metadata": {
    "colab": {
     "base_uri": "https://localhost:8080/"
    },
    "id": "JF-k2TjVYmYJ",
    "outputId": "75df551d-de49-431d-9c4d-7d71d682535c"
   },
   "outputs": [
    {
     "name": "stdout",
     "output_type": "stream",
     "text": [
      "              precision    recall  f1-score   support\n",
      "\n",
      "          No       0.97      1.00      0.98      2902\n",
      "         Yes       0.00      0.00      0.00        98\n",
      "\n",
      "    accuracy                           0.97      3000\n",
      "   macro avg       0.48      0.50      0.49      3000\n",
      "weighted avg       0.94      0.97      0.95      3000\n",
      "\n"
     ]
    },
    {
     "name": "stderr",
     "output_type": "stream",
     "text": [
      "C:\\Users\\User\\AppData\\Roaming\\Python\\Python39\\site-packages\\sklearn\\metrics\\_classification.py:1318: UndefinedMetricWarning: Precision and F-score are ill-defined and being set to 0.0 in labels with no predicted samples. Use `zero_division` parameter to control this behavior.\n",
      "  _warn_prf(average, modifier, msg_start, len(result))\n",
      "C:\\Users\\User\\AppData\\Roaming\\Python\\Python39\\site-packages\\sklearn\\metrics\\_classification.py:1318: UndefinedMetricWarning: Precision and F-score are ill-defined and being set to 0.0 in labels with no predicted samples. Use `zero_division` parameter to control this behavior.\n",
      "  _warn_prf(average, modifier, msg_start, len(result))\n",
      "C:\\Users\\User\\AppData\\Roaming\\Python\\Python39\\site-packages\\sklearn\\metrics\\_classification.py:1318: UndefinedMetricWarning: Precision and F-score are ill-defined and being set to 0.0 in labels with no predicted samples. Use `zero_division` parameter to control this behavior.\n",
      "  _warn_prf(average, modifier, msg_start, len(result))\n",
      "C:\\Users\\User\\AppData\\Roaming\\Python\\Python39\\site-packages\\sklearn\\metrics\\_classification.py:1318: UndefinedMetricWarning: Precision and F-score are ill-defined and being set to 0.0 in labels with no predicted samples. Use `zero_division` parameter to control this behavior.\n",
      "  _warn_prf(average, modifier, msg_start, len(result))\n"
     ]
    }
   ],
   "source": [
    "from sklearn.metrics import precision_recall_fscore_support as score\n",
    "from sklearn.metrics import classification_report\n",
    "\n",
    "precision, recall, fscore, support = score(y_test, predicted)\n",
    "\n",
    "print(classification_report(y_test, predicted, target_names=['No', 'Yes']))"
   ]
  },
  {
   "cell_type": "markdown",
   "metadata": {
    "id": "c9ltd2W7P7zx"
   },
   "source": [
    "Dapat kita lihat nilai precission dan recall dari kelas kedua kita 0! Mengapa ?"
   ]
  },
  {
   "cell_type": "markdown",
   "metadata": {
    "id": "EL0g1aOfQjI_",
    "jp-MarkdownHeadingCollapsed": true,
    "tags": []
   },
   "source": [
    "Dari visualisasi data di atas, dapat kita lihat bahwa fitur income tidak dapat memisahkan kelas dengan baik.  \n",
    "\n",
    "## Tugas:\n",
    "Ubah input data dengan hanya menggunakan data balance dan membuang data income yang kurang informatif dan lihat hasilnya!\n",
    "\n",
    "\n",
    "## Pertanyaan:\n",
    "\n",
    "Dalam kasus ini, metric manakah yang lebih tepat untuk digunakan? precission atau recall? Berikan alasannya !\n",
    "\n",
    "---\n",
    "\n",
    "Kita dapat melihat peningkatan performa pada model kita, namun model kita masih memiliki performa kurang bagus pada kelas dengan jumlah data yang sedikit.\n",
    "\n",
    "Masalah class imbalance ini sangat krusial terutama pada kasus yang berhubungan dengan kesehatan. \n",
    "\n",
    "Kita akan mengeksplor lebih lanjut tentang class imbalance dalam logistic regression di bawah ini ! \n",
    "\n",
    "---"
   ]
  },
  {
   "cell_type": "markdown",
   "metadata": {},
   "source": [
    "## Konsep dan Penurunan Logistic Regression"
   ]
  },
  {
   "cell_type": "markdown",
   "metadata": {
    "id": "-byLcuZX5spE"
   },
   "source": [
    "Sebelum kita membahas intuisi dari logistic regression mari kita ingat kembali definisi dari Odds.\n",
    "\n",
    "Odds merupakan rasio dari seberapa mungkin probabilitas suatu event $p(X)$ terjadi dibanding event lainnya. Dalam kasus binary classification, terjadinya $p(X)$ dibandingkan dengan tidak terjadinya $p(X)$.\n",
    "\n",
    "Dengan menggunakan sifat komplemen dari probabilitas:\n",
    "\n",
    "$$\n",
    "p(X)^c = 1- p(X)\n",
    "$$ \n",
    "\n",
    "Odds dari kasus kita dapat didefinisikan dengan:"
   ]
  },
  {
   "cell_type": "markdown",
   "metadata": {
    "id": "jwI3CMp_aFvs"
   },
   "source": [
    "$$\n",
    "\\frac{p(X)}{1-p(X)}\n",
    "$$"
   ]
  },
  {
   "cell_type": "markdown",
   "metadata": {
    "id": "nPFPzP9oSeiW"
   },
   "source": [
    "- Odds dapat bernilai mendekati $0$ ataupun mendekati $\\infty$\n",
    "  \n",
    "  1. Jika Odds mendekati $0$ berarti semakin kecil kemungkinan event $p(X)$ terjadi. Atau dalam kasus dataset kita berarti kemungkinan **default** (gagal bayar hutang) lebih kecil.\n",
    "  2. Jika Odds mendekati $\\infty$ berarti semakin besar event $p(X)$ terjadi. Atau kemungkinan **default** lebih besar. \n",
    "\n",
    "- Contohnya:\n",
    "  1. Jika odds kita 1/4 maka rata-rata 1 dari 5 orang akan masuk kelas **default**. Karena jika $p(X)=0.2$ maka oddsnya adalah:\n",
    "$$\n",
    "\\frac{p(X)}{1-p(X)} =  \\frac{0.2}{1-0.2} = \\frac{1}{4}\n",
    "$$ \n",
    "  2. 9 dari 10 orang rata-rata akan masuk kelas **default** saat $p(X)=0.9$, Oddsnya adalah:\n",
    "$$\n",
    "\\frac{p(X)}{1-p(X)} =  \\frac{0.9}{1-0.9} = 9\n",
    "$$ \n",
    "\n",
    "- Odds disebut juga sebagai nilai ekspektasi dari kejadian \"sukses\" per kejadian \"gagal\" sehingga nilainya $\\geq 0$. Atau dengan kata lain domainnya berada pada $[0,\\infty]$.\n",
    "\n",
    "---\n",
    "\n"
   ]
  },
  {
   "cell_type": "markdown",
   "metadata": {
    "id": "62NENL4chhQa"
   },
   "source": [
    "\n",
    "Mari kita turunkan rumus Odds dari logistic regression kita. Misalkan $t=w_{0}+w_{1} X$, maka:"
   ]
  },
  {
   "cell_type": "markdown",
   "metadata": {
    "id": "i4gH6IFq5rdZ"
   },
   "source": [
    "$$\n",
    "\\begin{align}\n",
    "\\frac{p(X)}{1-p(X)} &= \\frac{\\frac{e^{t}}{1+e^{t}}}{1-\\frac{e^{t}}{1+e^{t}}}\\\\\n",
    "\\frac{p(X)}{1-p(X)} &= \\frac{\\frac{e^{t}}{1+e^{t}}}{1-\\frac{e^{t}}{1+e^{t}}}\\frac{1+e^{t}}{1+e^{t}} \\\\\n",
    "\\frac{p(X)}{1-p(X)} &= \\frac{e^{t}}{1+e^{t}-{e^{t}}}\\\\\n",
    "\\frac{p(X)}{1-p(X)} &= {e^{t}}\\\\\n",
    "\\frac{p(X)}{1-p(X)} &= e^{w_{0}+w_{1} X}\n",
    "\\end{align}\n",
    "$$"
   ]
  },
  {
   "cell_type": "markdown",
   "metadata": {
    "id": "7ZKr-3ze9WjL"
   },
   "source": [
    "Jika kita operasikan $log$ pada Odds diatas maka kita akan mendapatkan:"
   ]
  },
  {
   "cell_type": "markdown",
   "metadata": {
    "id": "Kd3nBFDJaHlN"
   },
   "source": [
    "$$\n",
    "\\log \\left(\\frac{p(X)}{1-p(X)}\\right)=w_{0}+w_{1} X\n",
    "$$"
   ]
  },
  {
   "cell_type": "markdown",
   "metadata": {
    "id": "CpzQO1IdaBbL"
   },
   "source": [
    "Ingat lagi fungsi sigmoid kita, persamaan diatas merupakan variabel perpangkatan dari eksponensial di fungsi sigmoid tersebut!\n",
    "\n",
    "Dari sini dapat kita interpretasikan bahwa:\n",
    "\n",
    "> **log(Odds) dari logistic regression merupakan suatu linear model**\n"
   ]
  },
  {
   "cell_type": "markdown",
   "metadata": {
    "id": "B8NsslCSwQgQ"
   },
   "source": [
    "Apa artinya?\n",
    "\n",
    "- Pada linear regression perubahan 1 unit dalam $X$ maka akan mengubah respon $Y$ sebesar $w_1$. Sedangkan dalam logistic regression yang berubah sebesar $w_1$ disini adalah log(Odds) nya\n",
    "- Dikarenakan relasi antara $p(X)$ dan X bukanlah garis lurus, perubahan $p(X)$ terhadap peningkatan nilai $X$ akan bergantung pada nilai $X$ saat ini.\n",
    "- Semakin jauh $X$ dari batas kelas maka semakin cepat $X$ mendekati nilai ekstrim $0$ atau $1$.\n",
    "\n",
    "---"
   ]
  },
  {
   "cell_type": "markdown",
   "metadata": {
    "id": "-3GVK7KdTxhv"
   },
   "source": [
    "## Estimasi koefisien "
   ]
  },
  {
   "cell_type": "markdown",
   "metadata": {
    "id": "tdxcATjBX9LQ"
   },
   "source": [
    "### Maximum Likelihood Estimation\n",
    "\n",
    "Koefisien $w_0$ dan $w_1$ harus kita estimasi dengan menggunakan data training kita agar dapat digunakan untuk melakukan prediksi.\n",
    "\n"
   ]
  },
  {
   "cell_type": "markdown",
   "metadata": {
    "id": "Hs7INYiVjhsb"
   },
   "source": [
    "Untuk membentuk lossnya mari kita asumsikan bahwa:\n",
    "\n",
    "$${Pr}(Y=1 \\mid X)=p(x)$$\n",
    "Ingat kasus kita disini adalah binary classification, maka menggunakan sifat probabilitas didapatkan:\n",
    "$${Pr}(Y=0 \\mid X) = 1-p(x)$$\n",
    "\n",
    "dua persamaan diatas dapat digabungkan menjadi:\n",
    "$${Pr}(Y\\mid X) = p(x)^y(1-p(x))^{1-y}$$\n",
    "\n",
    "Karena kita ingin melakukan Maximum Likelihood Estimation (MLE) dan ingat asumsi data kita i.i.d maka likelihoodnya adalah:"
   ]
  },
  {
   "cell_type": "markdown",
   "metadata": {
    "id": "Cir-wm7sbqxB"
   },
   "source": [
    "\n",
    "$$\n",
    "\\ell\\left(w_{0}, w_{1}\\right)= Pr(Y \\mid X,w_{0}, w_{1})\\\\\n",
    "\\ell\\left(w_{0}, w_{1}\\right)=\\prod_{i=1}^{n} p\\left(x_{i}\\right)^{y_i}\\left(1-p\\left(x_{i}\\right)\\right)^{1-y_i}\n",
    "$$"
   ]
  },
  {
   "cell_type": "markdown",
   "metadata": {
    "id": "fTIRBxN7J8iI"
   },
   "source": [
    "Lalu untuk mengupdate parameter di step berikutnya, sebelumnya kita dapat menghitung log likelihoodnya dan menyederhanakannya dengan cara:\n",
    "1. Ambil logaritma dari rumus diatas.\n",
    "2. Baris 1-5: Jabarkan rumus dengan aturan log dan aturan aljabar biasa.\n",
    "3. Baris 6: Gunakan definisi log(Odds) pada term kedua pada ruas kanan.\n",
    "4. Baris ke 7: substitusi $P(X)$ dan sederhanakan."
   ]
  },
  {
   "cell_type": "markdown",
   "metadata": {
    "id": "okIdZyDlMMb1"
   },
   "source": [
    "$$\n",
    "\\begin{aligned}\n",
    "\\ell\\left(w_{0}, w_1\\right) &=\\sum_{i=1}^{n} y_{i} \\log p\\left(x_{i}\\right)+\\left(1-y_{i}\\right) \\log (1-p\\left(x_{i}\\right)) \\\\\n",
    "&=\\sum_{i=1}^{n} y_{i} \\log p\\left(x_{i}\\right)+\\log (1-p\\left(x_{i}\\right))-y_i\\log (1-p\\left(x_{i}\\right)) \\\\\n",
    "&=\\sum_{i=1}^{n} \\log (1-p\\left(x_{i}\\right))+y_{i} \\log p\\left(x_{i}\\right)-y_i\\log (1-p\\left(x_{i}\\right)) \\\\\n",
    "&=\\sum_{i=1}^{n} \\log (1-p\\left(x_{i}\\right))+y_{i} (\\log p\\left(x_{i}\\right)-\\log (1-p\\left(x_{i}\\right))) \\\\\n",
    "&=\\sum_{i=1}^{n} \\log (1-p\\left(x_{i}\\right))+\\sum_{i=1}^{n} y_{i} \\log \\frac{p\\left(x_{i}\\right)}{1-p\\left(x_{i}\\right)} \\\\\n",
    "&=\\sum_{i=1}^{n} \\log (1-p\\left(x_{i}\\right))+\\sum_{i=1}^{n} y_{i}\\left(w_{0}+x_{i} \\cdot w_1\\right) \\\\\n",
    "&=\\sum_{i=1}^{n}-\\log (1+e^{w_{0}+x_{i} \\cdot w_1})+\\sum_{i=1}^{n} y_{i}\\left(w_{0}+x_{i} \\cdot w_1\\right)\n",
    "\\end{aligned}\n",
    "$$"
   ]
  },
  {
   "cell_type": "markdown",
   "metadata": {
    "id": "w1BMtlxpkafh",
    "jp-MarkdownHeadingCollapsed": true,
    "tags": []
   },
   "source": [
    "**Pertanyaan:**\n",
    "\n",
    "Mengapa kita mengambil logaritma dari fungsi likelihood ini? apa yang kita dapat dari \"log trick\" ini?"
   ]
  },
  {
   "cell_type": "markdown",
   "metadata": {},
   "source": [
    "**Jawab**:\n",
    "\n",
    "Menyederhanakan rumus: pangkat menjadi turun, perkalian menjadi penjumlahan.  \n",
    "tambahan:  \n",
    "penggunaan log tidak mengubah posisi dari nilai optimum. Artinya jika posisi nilai y optimum di $\\bar{x}$, maka $\\bar{x}$ itu juga merupakan posisi nilai optimum di log(y)\n"
   ]
  },
  {
   "cell_type": "markdown",
   "metadata": {
    "id": "EgPP8Uo6Ep3M"
   },
   "source": [
    "### Gradient Ascent\n",
    "\n",
    "Kemudian kita dapat melakukan turuanan parsial pada tiap koefisien dengan:\n",
    "1. Gunakan chain rule dan rumus turunan log di term pertama dari ruas kanan\n",
    "2. Lakukan turunan parsial biasa pada term kedua dari ruas kanan\n",
    "3. Setelah itu sederhakan menggunakan definisi dari $p(X)$\n",
    "\n",
    "Sehingga didapatkan:"
   ]
  },
  {
   "cell_type": "markdown",
   "metadata": {
    "id": "GT4NOGk1MV4b"
   },
   "source": [
    "$$\n",
    "\\begin{aligned}\n",
    "\\frac{\\partial \\ell}{\\partial w_{j}} &=-\\sum_{i=1}^{n} \\frac{1}{1+e^{w_{0}+x_{i} \\cdot w_1}} e^{w_{0}+x_{i} \\cdot w_1} x_{i j}+\\sum_{i=1}^{n} y_{i} x_{i j} \\\\\n",
    "&=\\sum_{i=1}^{n}\\left(y_{i}-p\\left(x_{i} ; w_{0}, w_1\\right)\\right) x_{i j}\n",
    "\\end{aligned}\n",
    "$$"
   ]
  },
  {
   "cell_type": "markdown",
   "metadata": {
    "id": "TRw5D611KP2g"
   },
   "source": [
    "Atau dalam bentuk matriks dapat ditulis dengan:"
   ]
  },
  {
   "cell_type": "markdown",
   "metadata": {
    "id": "c1qbPzUqX4Xd"
   },
   "source": [
    "$$\n",
    "\\frac{\\partial \\ell}{\\partial \\beta} = X^T(\\mathbf{y}-p(\\mathbf{x};w_0,w))\n",
    "$$"
   ]
  },
  {
   "cell_type": "markdown",
   "metadata": {
    "id": "wH7Pur2kkuEL"
   },
   "source": [
    "Lalu apa yang kita lakukan setelah mendapat bentuk dari gradientnya? optimasi $w$ dengan men set gradien sama dengan $0$?"
   ]
  },
  {
   "cell_type": "markdown",
   "metadata": {
    "id": "VJpPTZWxMlSG"
   },
   "source": [
    "Dikarenakan kita memiliki fungsi transendental yaitu $e^{(x)}$ dalam rumus tersebut, kita tidak dapat mendapatkan solusi tertutupnya saat turunan tersebut sama dengan $0$.  Sehingga dibutuhkan metode numerik untuk melakukan estimasi koefisiennya. Kita dapat melakukan ini menggunakan gradient ascent, yaitu kebalikan dari gradient descent. \n",
    "\n",
    "Kita dapat melakukan gradient ascent dengan rumus berikut:\n",
    "\n",
    "$$\n",
    "w_j := w_j + \\alpha * \\frac{\\partial \\ell}{\\partial w}\n",
    "$$\n",
    "\n",
    "Perlu menjadi catatan disini karena kita ingin mengestimasi maksimum dari likelihoodnya maka disini kita menggunakan tanda + \n",
    "\n",
    "---"
   ]
  },
  {
   "cell_type": "markdown",
   "metadata": {
    "id": "EmjstsuZT52u"
   },
   "source": [
    "### Prediksi "
   ]
  },
  {
   "cell_type": "markdown",
   "metadata": {
    "id": "ZL_Zu4t6MikK"
   },
   "source": [
    "Setelah Mendapatkan nilai nilai koefisiennya, kita dapat melakukan prediksi pada data baru dengan cara:"
   ]
  },
  {
   "cell_type": "markdown",
   "metadata": {
    "id": "fhaFiTSNcD1v"
   },
   "source": [
    "$\n",
    "\\hat{p}(X)=\\frac{e^{\\hat{w}_{0}+\\hat{w}_{1} X}}{1+e^{\\hat{w}_{0}+\\hat{w}_{1} X}}\n",
    "$"
   ]
  },
  {
   "cell_type": "markdown",
   "metadata": {
    "id": "J_Zip_OQhf6x"
   },
   "source": [
    "## Logistic regression from scratch"
   ]
  },
  {
   "cell_type": "markdown",
   "metadata": {
    "id": "xpMjucY4v5lu"
   },
   "source": [
    "Mari kita tuliskan logistic regression model kita menggunakan lambda function pada python:\n",
    "\n",
    "Pertama dapat kita tuliskan Linear equationnya disini kita hanya menggunakan $X$. $w$ bisa ditambahkan dengan cara menambahkan fitur baru dalam data kita dengan nilai 1:"
   ]
  },
  {
   "cell_type": "code",
   "execution_count": 10,
   "metadata": {
    "id": "InVyvRL9yeBv"
   },
   "outputs": [],
   "source": [
    "linear_eq = lambda X, w: np.dot(X, w)"
   ]
  },
  {
   "cell_type": "markdown",
   "metadata": {
    "id": "fyvgfdJ3LxeT"
   },
   "source": [
    "Kemudian tuliskan fungsi sigmoid kita, dimana inputnya adalah hasil dari linear equation diatas:"
   ]
  },
  {
   "cell_type": "code",
   "execution_count": 11,
   "metadata": {
    "id": "p1D7UlJ8hkoX"
   },
   "outputs": [],
   "source": [
    "sigmoid = lambda z : 1/ (1 + np.exp(-z))"
   ]
  },
  {
   "cell_type": "markdown",
   "metadata": {
    "id": "tDJ2Fi5lb9Iy"
   },
   "source": [
    "Untuk melihat progress training kita kita dapat juga mendefinisikan fungsi log likelihood kita:"
   ]
  },
  {
   "cell_type": "markdown",
   "metadata": {
    "id": "zAnM-C__xMvU"
   },
   "source": [
    "$$\n",
    "\\sum_{i=1}^{n}y_{i}\\left(w_{0}+x_{i} \\cdot w\\right)-\\log 1+e^{w_{0}+x_{i} \\cdot w}\n",
    "$$"
   ]
  },
  {
   "cell_type": "code",
   "execution_count": 12,
   "metadata": {
    "id": "JhyxKREiwddv"
   },
   "outputs": [],
   "source": [
    "def log_likelihood(X, y, w):\n",
    "    z = linear_eq(X,w)\n",
    "    ll = np.sum( y*z - np.log(1 + np.exp(z)) )\n",
    "    return ll"
   ]
  },
  {
   "cell_type": "markdown",
   "metadata": {
    "id": "BcFQcK60vGT6"
   },
   "source": [
    "Untuk estimasi nilai koefisien dari model logistic regression kita, gunakan gradien yang telah kita turunkan seperti di bagian sebelumnya. Selanjutnya gradien ini akan digunakan untuk update koefisien pada algoritm gradient ascent yang akan kita implementasikan bersama dengan fungsi training kita.\n",
    "\n",
    "$$\n",
    "\\frac{\\partial \\ell}{\\partial w} = X^T(\\mathbf{y}-p(\\mathbf{x};w_0,w))\n",
    "$$"
   ]
  },
  {
   "cell_type": "code",
   "execution_count": 13,
   "metadata": {
    "id": "EsYcHhE1z_WW"
   },
   "outputs": [],
   "source": [
    "gradient = lambda X, y, yhat: np.dot(X.T, (y-yhat))"
   ]
  },
  {
   "cell_type": "markdown",
   "metadata": {
    "id": "9a29eS8Hcm0T"
   },
   "source": [
    "Terakhir kita akan menuliskan fungsi training kita, yang outputnya adalah nilai koefisien kita setelah selesai training. \n",
    "- Kita akan mengimplementasikan agoritma gradient ascent karena kita akan mencari maksimum dari log likelihood dengan mengupdate koefisien kita.\n",
    "- Di dalam fungsi ini kita akan menambahkan intercept pada model kita dengan cara memasukan fitur baru dengan nilai 1 pada data kita.\n",
    "- Kita juga akan melakukan pengecekan terhadap nilai log likelihood kita agar kita dapat melihat progress dari training kita"
   ]
  },
  {
   "cell_type": "code",
   "execution_count": 14,
   "metadata": {
    "id": "GvTwGxuczP89"
   },
   "outputs": [],
   "source": [
    "def logistic_regression(X, y, num_steps, learning_rate, add_intercept = False):\n",
    "    if add_intercept:\n",
    "        intercept = np.ones((X.shape[0], 1))\n",
    "        X = np.hstack((intercept, X))\n",
    "        \n",
    "    w = np.zeros(X.shape[1])\n",
    "    \n",
    "    for step in range(num_steps):\n",
    "        z = linear_eq(X, w)\n",
    "        yhat = sigmoid(z) #prediction\n",
    "\n",
    "        # Gradient ascent\n",
    "        w += learning_rate * gradient(X, y, yhat)\n",
    "        \n",
    "        # Print log-likelihood for tracking the training\n",
    "        if step % 5000 == 0:\n",
    "            print (log_likelihood(X, y, w))\n",
    "        \n",
    "    return w"
   ]
  },
  {
   "cell_type": "markdown",
   "metadata": {
    "id": "l8X8nrpjhki9"
   },
   "source": [
    "Disini kita akan menggunakan data default seperti sebelumnya. kita dapat membagi data kita kedalam data training dan testing menggukana scikit-learn seperti sebelumnya:"
   ]
  },
  {
   "cell_type": "code",
   "execution_count": 15,
   "metadata": {
    "id": "3Uw5PhiDJ2T2"
   },
   "outputs": [],
   "source": [
    "from sklearn.model_selection import train_test_split\n",
    "\n",
    "default_train, default_test = train_test_split(defaultdata, test_size=0.2, random_state=1994)"
   ]
  },
  {
   "cell_type": "markdown",
   "metadata": {
    "id": "p0y2iwmTh8fG"
   },
   "source": [
    "Sekarang mari kita jalankan proses trainingnya, namun sebelumnya kita lakukan scaling dulu pada data kita agar proses trainingnya lebih stabil. \n",
    "\n",
    "Scaling akan memastikan bahwa semua fitur berada pada range yang sama hal ini akan membuat kontur dari loss functionnya lebih berimbang (less skewed), sehingga gradient ascentnya akan lebih cepat konvergen. \n",
    "\n",
    "Untuk melakukan scaling kita dapat menggunakan scikit-learn MinMaxScaler():\n",
    "\n"
   ]
  },
  {
   "cell_type": "code",
   "execution_count": 16,
   "metadata": {
    "colab": {
     "base_uri": "https://localhost:8080/"
    },
    "id": "n4jmTnk02XDk",
    "outputId": "bee38e66-fd9a-449b-8756-c9e7cb4e61e4"
   },
   "outputs": [
    {
     "name": "stdout",
     "output_type": "stream",
     "text": [
      "-5395.281775568049\n",
      "-949.8125839401625\n",
      "-820.9755691987374\n",
      "-757.8001993027584\n",
      "-723.049022602751\n",
      "-702.1455950911212\n",
      "-688.7252636716998\n",
      "-679.6870327361482\n",
      "-673.377135250297\n",
      "-668.8481414537879\n",
      "Koefisien: [-8.60491428 11.1419907 ]\n"
     ]
    }
   ],
   "source": [
    "from sklearn.preprocessing import MinMaxScaler\n",
    "\n",
    "scaler = MinMaxScaler()\n",
    "X_train = default_train[[\"balance\"]].to_numpy()\n",
    "scaler.fit(X_train)\n",
    "X_train = scaler.transform(X_train)\n",
    "Y_train = default_train[\"default2\"].to_numpy()\n",
    "\n",
    "w_hat = logistic_regression(X_train, Y_train,\n",
    "                     num_steps = 50000, learning_rate = 1e-5, add_intercept=True)\n",
    "\n",
    "print(\"Koefisien:\",w_hat)"
   ]
  },
  {
   "cell_type": "markdown",
   "metadata": {
    "id": "puzlfimGxFPe"
   },
   "source": [
    "Kemudian kita dapat menulis kode untuk melakukan prediksi, untuk diperhatikan disini kita perlu menambahkan fitur dengan nilai 1 pada data kita untuk dikalikan dengan koefisien $w_0$. Kemudian probabilitas untuk kelas 1 dapat di hitung dengan:"
   ]
  },
  {
   "cell_type": "code",
   "execution_count": 17,
   "metadata": {
    "id": "7fOYJpUbrHJ6"
   },
   "outputs": [],
   "source": [
    "def logreg_class_prob(X, w_hat, add_intercept=False):\n",
    "  intercept = np.ones((X.shape[0], 1))\n",
    "  X = np.hstack((intercept, X))\n",
    "  z = np.dot(X, w_hat)\n",
    "  return sigmoid(z)"
   ]
  },
  {
   "cell_type": "markdown",
   "metadata": {
    "id": "LjPWZvq7rh7f"
   },
   "source": [
    "Prediksinya dapat ditentukan dengan cara merakukan rounding dari probabilitas yang didapat pada fungsi diatas dengan memodifikasinya dengan:"
   ]
  },
  {
   "cell_type": "code",
   "execution_count": 18,
   "metadata": {
    "id": "38wdcxhfruFl"
   },
   "outputs": [],
   "source": [
    "def logreg_prediction(X, w_hat, add_intercept=False):\n",
    "  intercept = np.ones((X.shape[0], 1))\n",
    "  X = np.hstack((intercept, X))\n",
    "  final_scores = np.dot(X, w_hat)\n",
    "  return np.round(sigmoid(final_scores))"
   ]
  },
  {
   "cell_type": "markdown",
   "metadata": {
    "id": "Oz6RZ3wAw6dm"
   },
   "source": [
    "note: np.hstack akan menumpuk array berurutan secara horizontal \n",
    "\n",
    "Mengapa melakukan rounding dapat memberikan kita prediksinya?"
   ]
  },
  {
   "cell_type": "markdown",
   "metadata": {
    "id": "FSWAbHZGxcQH"
   },
   "source": [
    "Kemudian bisa kita ujikan model hasil training kita pada data testing yang kita punya."
   ]
  },
  {
   "cell_type": "code",
   "execution_count": 19,
   "metadata": {
    "colab": {
     "base_uri": "https://localhost:8080/"
    },
    "id": "kQyh_SW37dsh",
    "outputId": "7c0892a3-13fd-4f4d-c913-36527b3a8b0e"
   },
   "outputs": [
    {
     "name": "stdout",
     "output_type": "stream",
     "text": [
      "              precision    recall  f1-score   support\n",
      "\n",
      "          No       0.97      1.00      0.98      1929\n",
      "         Yes       0.80      0.23      0.35        71\n",
      "\n",
      "    accuracy                           0.97      2000\n",
      "   macro avg       0.89      0.61      0.67      2000\n",
      "weighted avg       0.97      0.97      0.96      2000\n",
      "\n"
     ]
    }
   ],
   "source": [
    "X_test = default_test[[\"balance\"]].to_numpy()\n",
    "Y_test = default_test[\"default2\"].to_numpy()\n",
    "X_test = scaler.transform(X_test)\n",
    "\n",
    "preds = logreg_prediction(X_test,w_hat, add_intercept=True)\n",
    "\n",
    "from sklearn.metrics import precision_recall_fscore_support as score\n",
    "from sklearn.metrics import classification_report\n",
    "\n",
    "print(classification_report(Y_test, preds, target_names=['No', 'Yes']))\n"
   ]
  },
  {
   "cell_type": "markdown",
   "metadata": {},
   "source": [
    "### Perbandingan performa dengan menggunakan library scikit-learn"
   ]
  },
  {
   "cell_type": "markdown",
   "metadata": {
    "id": "yL3hP1xhKYWU"
   },
   "source": [
    "Mari kita bandingkan dengan hasil menggunakan scikit-learn:"
   ]
  },
  {
   "cell_type": "code",
   "execution_count": 20,
   "metadata": {
    "colab": {
     "base_uri": "https://localhost:8080/"
    },
    "id": "GUFa7J-sMEuw",
    "outputId": "4348cce8-00a7-409e-bd13-8e09a86cfc8e"
   },
   "outputs": [
    {
     "name": "stdout",
     "output_type": "stream",
     "text": [
      "              precision    recall  f1-score   support\n",
      "\n",
      "          No       0.97      1.00      0.98      1929\n",
      "         Yes       0.83      0.21      0.34        71\n",
      "\n",
      "    accuracy                           0.97      2000\n",
      "   macro avg       0.90      0.60      0.66      2000\n",
      "weighted avg       0.97      0.97      0.96      2000\n",
      "\n"
     ]
    }
   ],
   "source": [
    "from sklearn.linear_model import LogisticRegression\n",
    "\n",
    "clf = LogisticRegression(random_state=0).fit(X_train, Y_train)\n",
    "predicted = clf.predict(X_test)\n",
    "\n",
    "print(classification_report(Y_test, predicted, target_names=['No', 'Yes']))"
   ]
  },
  {
   "cell_type": "markdown",
   "metadata": {
    "id": "XO_1YxtZhH6u"
   },
   "source": [
    "Dapat kita lihat hasil dari implementasi kita tidak jauh performanya diabandingkan dengan menggunakan scikit-learn.  \n",
    "\n",
    "Mari kita cek hasil koefisien model kita dan koefisien logistic regression menggunakan scikit-learn:"
   ]
  },
  {
   "cell_type": "code",
   "execution_count": 21,
   "metadata": {
    "colab": {
     "base_uri": "https://localhost:8080/"
    },
    "id": "6WKOUgQXia2I",
    "outputId": "ce520057-8a10-4c72-a9ca-673fd5f841f5"
   },
   "outputs": [
    {
     "name": "stdout",
     "output_type": "stream",
     "text": [
      "Koefisien model kita [-8.60491428 11.1419907 ]\n",
      "Koefisien scikit learn [-8.34613101] [[10.66015051]]\n"
     ]
    }
   ],
   "source": [
    "print(\"Koefisien model kita\", w_hat)\n",
    "print(\"Koefisien scikit learn\", clf.intercept_, clf.coef_)"
   ]
  },
  {
   "cell_type": "markdown",
   "metadata": {
    "id": "G9Mw9wqpxA84"
   },
   "source": [
    "Koefisien $w_0$ dan $w_1$ tidak jauh beda! \n",
    "\n",
    "Kita sedikit beruntung disini karena dalam implementasinya scikit learn menerapkan regularisasi $L2$ dalam solver defaultnya."
   ]
  },
  {
   "cell_type": "markdown",
   "metadata": {
    "id": "yTojZ_gz_Wt_"
   },
   "source": [
    "---\n",
    "# Mengatasi class imbalance "
   ]
  },
  {
   "cell_type": "markdown",
   "metadata": {
    "id": "0kdbZD3N_ko2"
   },
   "source": [
    "Kita dapat mengatasi class imbalance diatas dengan cara memberikan weight pada kelas yang ada di dalam logistic regression. kita dapat mengubah log likelihood kita sehingga gradien kita menjadi: "
   ]
  },
  {
   "cell_type": "markdown",
   "metadata": {
    "id": "rnfzE0tPcZ0z"
   },
   "source": [
    "$$\n",
    "\\frac{\\partial \\ell}{\\partial w} = X^T(\\mathbf{w}(\\mathbf{y}-p(\\mathbf{x};w_0,w)))\n",
    "$$"
   ]
  },
  {
   "cell_type": "code",
   "execution_count": 22,
   "metadata": {
    "id": "wU4XTPugKOGu"
   },
   "outputs": [],
   "source": [
    "def gradient (X, y, yhat, wclass): \n",
    "  return (np.dot(X.T, (wclass[0]**(1-y)*wclass[1]**y)*(y-yhat)))"
   ]
  },
  {
   "cell_type": "markdown",
   "metadata": {
    "id": "gCap3Jz_eV4-"
   },
   "source": [
    "---\n",
    "\n",
    "### Menentukan class weight\n",
    "\n",
    "Bagaimana cara menentukan class weight? \n",
    "\n",
    "Ada tiga cara menentukan class weight kita:\n",
    "1. Pengetahuan expert\n",
    "2. Hyperparameter optimization\n",
    "3. Heuristik\n",
    "\n",
    "disini kita akan menggunakan heuristic yang digunakan dalam library [scikit-learn](https://scikit-learn.org/stable/modules/generated/sklearn.utils.class_weight.compute_class_weight.html) yaitu dengan rumus:\n",
    "\n",
    "$$\n",
    "w_j = N/(2*N_j) \n",
    "$$\n",
    "\n",
    "dengan $w_j$ adalah weight untuk kelas $j$, $N$ adalah jumlah total data training kita, dan $N_j$ adalah jumlah total data yang berlabelkan $j$.\n",
    "\n",
    "Mari kita hitung weight untuk kedua kelas kita:"
   ]
  },
  {
   "cell_type": "code",
   "execution_count": 32,
   "metadata": {
    "colab": {
     "base_uri": "https://localhost:8080/"
    },
    "id": "Lw8M0f4RfRHN",
    "outputId": "90d5d13a-47b1-416e-bf5b-721eba18aea0"
   },
   "outputs": [
    {
     "name": "stdout",
     "output_type": "stream",
     "text": [
      "[0.5169294391315585, 15.267175572519085]\n"
     ]
    }
   ],
   "source": [
    "total_n = len(default_train[\"default2\"])\n",
    "majority_class = len(default_train[default_train[\"default2\"]==0])\n",
    "minority_class = len(default_train[default_train[\"default2\"]==1])\n",
    "\n",
    "w1 = total_n/(2*majority_class)\n",
    "w2 = total_n/(2*minority_class)\n",
    "\n",
    "wclass = [w1,w2]\n",
    "print(wclass)"
   ]
  },
  {
   "cell_type": "code",
   "execution_count": null,
   "metadata": {},
   "outputs": [],
   "source": []
  },
  {
   "cell_type": "markdown",
   "metadata": {
    "id": "aSPSzYCXeCOx"
   },
   "source": [
    "### Perbandingan dengan scikit-learn\n",
    "Dengan menggunakan gradien baru kita kita dapat menuliskan lagi fungsi gradient ascent kita sebagai berikut:  \n",
    "Kita gunakan simbol $\\beta$ untuk menggantikan w, untuk membedakannya dengan class weight"
   ]
  },
  {
   "cell_type": "code",
   "execution_count": 24,
   "metadata": {
    "id": "mvnM29V-S1uX"
   },
   "outputs": [],
   "source": [
    "def logistic_regression(X, y, num_steps, learning_rate, add_intercept = False, wclass=[1,1]):\n",
    "    if add_intercept:\n",
    "        intercept = np.ones((X.shape[0], 1))\n",
    "        X = np.hstack((intercept, X))\n",
    "        \n",
    "    Beta = np.zeros(X.shape[1])\n",
    "    \n",
    "    for step in range(num_steps):\n",
    "        scores = linear_eq(X, Beta)\n",
    "        yhat = sigmoid(scores) #prediction\n",
    "\n",
    "        # Gradient ascent\n",
    "        Beta += learning_rate * gradient(X, y, yhat, wclass)\n",
    "        # Print log-likelihood for tracking the training\n",
    "        if step % 5000 == 0:\n",
    "            print (log_likelihood(X, y, Beta))\n",
    "        \n",
    "    return Beta\n"
   ]
  },
  {
   "cell_type": "markdown",
   "metadata": {
    "id": "Hbaafr_8eN95"
   },
   "source": [
    "Sekarang kita jalankan ulang logistic regression training kita dengan menggunakan class weight yang kita hitung tadi:"
   ]
  },
  {
   "cell_type": "code",
   "execution_count": 25,
   "metadata": {
    "colab": {
     "base_uri": "https://localhost:8080/"
    },
    "id": "fLFJ2Z8IejyF",
    "outputId": "2a506fea-fea9-4003-8326-8d4a42d1c338"
   },
   "outputs": [
    {
     "name": "stdout",
     "output_type": "stream",
     "text": [
      "-5552.8026857607165\n",
      "-2751.7531858074813\n",
      "-2593.149296929966\n",
      "-2553.314856977518\n",
      "-2539.288782267643\n",
      "-2533.472426234775\n",
      "-2530.791800029983\n",
      "-2529.453428260185\n",
      "-2528.7399578676077\n",
      "-2528.3382737566744\n"
     ]
    }
   ],
   "source": [
    "from sklearn.preprocessing import MinMaxScaler\n",
    "\n",
    "scaler = MinMaxScaler()\n",
    "X_train = default_train[[\"balance\"]].to_numpy()\n",
    "scaler.fit(X_train)\n",
    "X_train = scaler.transform(X_train)\n",
    "Y_train = default_train[\"default2\"].to_numpy()\n",
    "\n",
    "Betahat = logistic_regression(X_train, Y_train,\n",
    "                     num_steps = 50000, learning_rate = 1e-5, add_intercept=True, wclass=wclass)\n"
   ]
  },
  {
   "cell_type": "markdown",
   "metadata": {
    "id": "4KEZNFoAedZ3"
   },
   "source": [
    "Kita lihat performa dari weighted logistic regression kita:"
   ]
  },
  {
   "cell_type": "code",
   "execution_count": 26,
   "metadata": {
    "colab": {
     "base_uri": "https://localhost:8080/"
    },
    "id": "OnvlLKvFeoRO",
    "outputId": "3f46a69e-d1be-48b2-83a1-ff55db41a1e7"
   },
   "outputs": [
    {
     "name": "stdout",
     "output_type": "stream",
     "text": [
      "              precision    recall  f1-score   support\n",
      "\n",
      "          No       1.00      0.86      0.92      1929\n",
      "         Yes       0.20      0.94      0.33        71\n",
      "\n",
      "    accuracy                           0.86      2000\n",
      "   macro avg       0.60      0.90      0.63      2000\n",
      "weighted avg       0.97      0.86      0.90      2000\n",
      "\n"
     ]
    }
   ],
   "source": [
    "X_test = default_test[[\"balance\"]].to_numpy()\n",
    "Y_test = default_test[\"default2\"].to_numpy()\n",
    "X_test = scaler.transform(X_test)\n",
    "\n",
    "preds = logreg_prediction(X_test,Betahat, add_intercept=True)\n",
    "\n",
    "from sklearn.metrics import precision_recall_fscore_support as score\n",
    "from sklearn.metrics import classification_report\n",
    "print(classification_report(Y_test, preds, target_names=['No', 'Yes']))\n"
   ]
  },
  {
   "cell_type": "markdown",
   "metadata": {
    "id": "xkLKydFce-4F"
   },
   "source": [
    "Kita cek apakah implementasi kita sudah benar dengan membandingkannya dengan logistic regression dengan scikit-learn. Jangan lupa gunakan class weight yang sama dengan men set class_weight dengan weight yang sudah kita hitung tadi!"
   ]
  },
  {
   "cell_type": "code",
   "execution_count": 27,
   "metadata": {
    "colab": {
     "base_uri": "https://localhost:8080/"
    },
    "id": "LfmstLXtmaex",
    "outputId": "e40c0aff-a06f-42ee-975c-a0282b8dc765"
   },
   "outputs": [
    {
     "name": "stdout",
     "output_type": "stream",
     "text": [
      "              precision    recall  f1-score   support\n",
      "\n",
      "          No       1.00      0.86      0.92      1929\n",
      "         Yes       0.20      0.94      0.33        71\n",
      "\n",
      "    accuracy                           0.86      2000\n",
      "   macro avg       0.60      0.90      0.63      2000\n",
      "weighted avg       0.97      0.86      0.90      2000\n",
      "\n"
     ]
    }
   ],
   "source": [
    "from sklearn.linear_model import LogisticRegression\n",
    "\n",
    "we = {0:w1, 1:w2}\n",
    "clf = LogisticRegression(random_state=0,class_weight=we).fit(X_train, Y_train)\n",
    "predicted = clf.predict(X_test)\n",
    "print(classification_report(Y_test, predicted, target_names=['No', 'Yes']))"
   ]
  },
  {
   "cell_type": "markdown",
   "metadata": {
    "id": "d5Df0Ge3fZt-"
   },
   "source": [
    "Kita lihat performanya hampir sama! (mungkin ada sedikit perbedaan karena solver yang kita gunakan)\n",
    "\n",
    "Namun kenapa hasilnya lebih jelek dibanding tanpa class weight? \n",
    "\n",
    "---"
   ]
  },
  {
   "cell_type": "markdown",
   "metadata": {
    "id": "sPr4J6OtXYgd"
   },
   "source": [
    "### Koreksi bias/intercept untuk kasus yang diseimbangkan\n",
    "\n",
    "Sekarang mari kita pakai konsep Bayesian kita. Jika kita hubungkan dengan Bayes rule, logistic regression bisa diinterpretasikan sebagai berikut:"
   ]
  },
  {
   "cell_type": "code",
   "execution_count": null,
   "metadata": {},
   "outputs": [],
   "source": []
  },
  {
   "cell_type": "markdown",
   "metadata": {
    "id": "vNucGaU_hqIy"
   },
   "source": [
    "$$\n",
    "\\begin{aligned}\n",
    "p\\left(\\text{True} \\mid x\\right) &=\\frac{p\\left(x \\mid \\text{True}\\right) p\\left(\\text{True}\\right)}{p(x)} \\\\\n",
    "&=\\frac{p\\left(x \\mid \\text{True}\\right) p\\left(\\text{True}\\right)}{p\\left(x \\mid \\text{True}\\right) p\\left(\\text{True}\\right)+p\\left(x \\mid \\text{False}\\right) p\\left(\\text{False}\\right)} \\\\\n",
    "&=\\frac{1}{1+\\frac{p\\left(x \\mid \\text{False}\\right) p\\left(\\text{False}\\right)}{p\\left(x \\mid \\text{True}\\right) p\\left(\\text{True}\\right)}} \\\\\n",
    "&=\\frac{1}{1+\\exp \\left(\\ln \\frac{p\\left(x \\mid \\text{False}\\right) p\\left(\\text{False}\\right)}{p\\left(x \\mid \\text{True}\\right) p\\left(\\text{True}\\right)}\\right)} \\\\\n",
    "&=\\frac{1}{1+\\exp \\left(-\\ln \\frac{p\\left(x \\mid \\text{True}\\right) p\\left(\\text{True}\\right)}{p\\left(x \\mid \\text{False}\\right) p\\left(\\text{False}\\right)}\\right)} \\\\\n",
    "&=\\frac{1}{1+e^{-(\\beta_{0}+\\beta X)}}\n",
    "\\end{aligned}\n",
    "$$\n",
    "\n"
   ]
  },
  {
   "cell_type": "markdown",
   "metadata": {
    "id": "-ORXxXZKi6x_"
   },
   "source": [
    "Dari rumus diatas kita dapat menjabarkan linear model kita sebagai berikut:\n",
    "$$\n",
    "\\beta_{0}+\\beta X=\\ln \\frac{p\\left(x \\mid \\text{True}\\right) p\\left(\\text{True}\\right)}{p\\left(x \\mid \\text{False}\\right) p\\left(\\text{False}\\right)}=\\ln \\frac{p\\left(x \\mid \\text{True}\\right)}{p\\left(x \\mid \\text{False}\\right)}+\\ln \\frac{p\\left(\\text{True}\\right)}{p\\left(\\text{False}\\right)}\n",
    "$$"
   ]
  },
  {
   "cell_type": "markdown",
   "metadata": {
    "id": "x5Isajopj73c"
   },
   "source": [
    "Karena dalam training kita menyeimbangkan kelas kita menggunakan weight maka $p(\\text{True})=p(\\text{False})$. Sehingga prior log odds kita menjadi 0. Lalu kita mendapatkan:\n",
    "$$\n",
    "\\beta_{0}+\\beta X=\\ln \\frac{p\\left(x \\mid \\text{True}\\right)}{p\\left(x \\mid \\text{False}\\right)}\n",
    "$$"
   ]
  },
  {
   "cell_type": "markdown",
   "metadata": {
    "id": "rv8xcHhakdEA"
   },
   "source": [
    "Artinya kita melakukan estimasi dengan asumsi bahwa prior kelas kita seimbang. Kita dapat memasukan prior log odds kita kembali dengan cara:\n",
    "$$\n",
    "\\begin{aligned}\n",
    "\\beta_{0}+\\beta X+\\ln \\frac{p\\left(\\text{True}\\right)}{p\\left(\\text{False}\\right)} &=\\ln \\frac{p\\left(x \\mid \\text{True}\\right)}{p\\left(x \\mid \\text{False}\\right)}+\\ln \\frac{p\\left(\\text{True}\\right)}{p\\left(\\text{False}\\right)} \\\\\n",
    "\\beta_{0}^{\\prime}+\\beta X &=\\ln \\frac{p\\left(x \\mid \\text{True}\\right)}{p\\left(x \\mid \\text{False}\\right)}+\\ln \\frac{p\\left(\\text{True}\\right)}{p\\left(\\text{False}\\right)},\n",
    "\\end{aligned}\n",
    "$$"
   ]
  },
  {
   "cell_type": "markdown",
   "metadata": {
    "id": "DqkJVCiij-KZ"
   },
   "source": [
    "Disini kita definisikan $\\beta_{0}^{\\prime}$ sebagai:\n",
    "\n",
    "$$\n",
    "\\beta_0^{\\prime}=\\beta_0+\\ln \\frac{p\\left(\\text{True}\\right)}{p\\left(\\text{False}\\right)}\n",
    "$$\n",
    "\n"
   ]
  },
  {
   "cell_type": "markdown",
   "metadata": {
    "id": "GK76nFqDmQDN"
   },
   "source": [
    "Sehingga kita dapat melakukan koreksi pada $\\beta_0$ untuk testing dengan:"
   ]
  },
  {
   "cell_type": "code",
   "execution_count": 28,
   "metadata": {
    "colab": {
     "base_uri": "https://localhost:8080/"
    },
    "id": "vIkVJ3q_pbj6",
    "outputId": "1659bfa1-925e-4c6c-af00-e135ca022539"
   },
   "outputs": [
    {
     "name": "stdout",
     "output_type": "stream",
     "text": [
      "Betahat [-7.02373327 14.19565273]\n",
      "Betahat_corrected [-10.4092873   14.19565273]\n"
     ]
    }
   ],
   "source": [
    "import copy\n",
    "Betahat_corrected = copy.deepcopy(Betahat)\n",
    "Betahat_corrected[0]= Betahat[0]+np.log(w1/w2)\n",
    "\n",
    "print(\"Betahat\",Betahat)\n",
    "print(\"Betahat_corrected\", Betahat_corrected)"
   ]
  },
  {
   "cell_type": "markdown",
   "metadata": {
    "id": "zoVSSSwDmcSb"
   },
   "source": [
    "Mari kita lihat performa model kita:"
   ]
  },
  {
   "cell_type": "code",
   "execution_count": 29,
   "metadata": {
    "colab": {
     "base_uri": "https://localhost:8080/"
    },
    "id": "NErRZXUsXX2r",
    "outputId": "c0d01770-f864-455d-81a5-1a3c3ddcd1c7"
   },
   "outputs": [
    {
     "name": "stdout",
     "output_type": "stream",
     "text": [
      "              precision    recall  f1-score   support\n",
      "\n",
      "          No       0.98      1.00      0.99      1929\n",
      "         Yes       0.87      0.37      0.51        71\n",
      "\n",
      "    accuracy                           0.98      2000\n",
      "   macro avg       0.92      0.68      0.75      2000\n",
      "weighted avg       0.97      0.98      0.97      2000\n",
      "\n"
     ]
    }
   ],
   "source": [
    "X_test = default_test[[\"balance\"]].to_numpy()\n",
    "Y_test = default_test[\"default2\"].to_numpy()\n",
    "X_test = scaler.transform(X_test)\n",
    "\n",
    "preds = logreg_prediction(X_test,Betahat_corrected, add_intercept=True)\n",
    "\n",
    "from sklearn.metrics import precision_recall_fscore_support as score\n",
    "from sklearn.metrics import classification_report\n",
    "\n",
    "print(classification_report(Y_test, preds, target_names=['No', 'Yes']))\n"
   ]
  },
  {
   "cell_type": "markdown",
   "metadata": {
    "id": "DyLZs4sOr82U"
   },
   "source": [
    "Bandingkan performa model kita dengan model tanpa class weighting dan bias term correction."
   ]
  },
  {
   "cell_type": "markdown",
   "metadata": {
    "id": "v1xioBwBmmGo"
   },
   "source": [
    "**Diskusi**\n",
    "\n",
    "Terdapat peningkatan sedikit dalam model kita setelah bias corretion yang kita lakukan namun tidak terlalu signifikan. Mengapa?\n",
    "\n",
    "1. Apakah data kita linear?\n",
    "2. Apakah logistik regression cocok digunakan untuk data kita? kalau tidak mengapa? model seperti apa yang lebih cocok dengan data kita?\n"
   ]
  },
  {
   "cell_type": "markdown",
   "metadata": {
    "id": "eVWRnDUZv8_a"
   },
   "source": [
    "Kita bisa cek apa yang dilakukan oleh bias correction term dengan memvisualisasikan garis fungsi logistik kita:"
   ]
  },
  {
   "cell_type": "code",
   "execution_count": 30,
   "metadata": {
    "colab": {
     "base_uri": "https://localhost:8080/",
     "height": 284
    },
    "id": "yzz6SRAQwGVz",
    "outputId": "f8efc2ad-1d59-42e8-89d5-0afdab523b23"
   },
   "outputs": [
    {
     "data": {
      "text/plain": [
       "<matplotlib.legend.Legend at 0x17b78e68ee0>"
      ]
     },
     "execution_count": 30,
     "metadata": {},
     "output_type": "execute_result"
    },
    {
     "data": {
      "image/png": "[encoded data removed]",
      "text/plain": [
       "<Figure size 432x288 with 1 Axes>"
      ]
     },
     "metadata": {
      "needs_background": "light"
     },
     "output_type": "display_data"
    }
   ],
   "source": [
    "prob_betahat = logreg_class_prob(X_test,Betahat, add_intercept=True)\n",
    "idx_prob_betahat = np.argsort(prob_betahat)\n",
    "prob_betahat_c = logreg_class_prob(X_test,Betahat_corrected, add_intercept=True)\n",
    "idx_prob_betahat_c = np.argsort(prob_betahat_c)\n",
    "\n",
    "plt.scatter(X_test,Y_test)\n",
    "plt.plot(X_test[idx_prob_betahat], prob_betahat[idx_prob_betahat],label=\"betahat\")\n",
    "plt.plot(X_test[idx_prob_betahat_c], prob_betahat_c[idx_prob_betahat],label=\"betahat corrected\")\n",
    "plt.legend()"
   ]
  },
  {
   "cell_type": "markdown",
   "metadata": {
    "id": "WN9gozTmwKL3"
   },
   "source": [
    "Garisnya akan berubah menyesuaikan dengan rasio jumlah datanya! \n",
    "\n",
    "(dapat dikatan disini kita mengkoreksi model kita dengan informasi prior)"
   ]
  },
  {
   "cell_type": "markdown",
   "metadata": {
    "tags": []
   },
   "source": [
    "# Tugas"
   ]
  },
  {
   "cell_type": "markdown",
   "metadata": {},
   "source": [
    "1. Gunakan dataset iris\n",
    "2. Bagi dataset iris menjadi data latih dan data uji dengan rasio 80:20, random_state=0\n",
    "3. Bandingkan performa hasil prediksi data uji, antara library scikit learn dan from the scratch"
   ]
  },
  {
   "cell_type": "code",
   "execution_count": 31,
   "metadata": {},
   "outputs": [],
   "source": [
    "#Isilah jawaban tugas dibawah ini"
   ]
  },
  {
   "cell_type": "code",
   "execution_count": null,
   "metadata": {},
   "outputs": [],
   "source": []
  },
  {
   "cell_type": "markdown",
   "metadata": {},
   "source": [
    "# Laporan Akhir"
   ]
  },
  {
   "cell_type": "markdown",
   "metadata": {},
   "source": [
    "- Cari dataset lain. Lakukan pre-processing data jika diperlukan.\n",
    "- Tuliskan sumber dataset yang anda pakai disini\n",
    "- Jelaskan secara singkat mengenai isi dari dataset tersebut\n",
    "- Hitung performance dari hasil prediksi. Gunakan metrik yang sesuai.\n",
    "- Tulis kesimpulan\n",
    "\n",
    "Note : Mohon untuk memberikan keterangan dari setiap kolom kode yang dijalankan pada file .ipynb\n"
   ]
  }
 ],
 "metadata": {
  "kernelspec": {
   "display_name": "Python 3 (ipykernel)",
   "language": "python",
   "name": "python3"
  },
  "language_info": {
   "codemirror_mode": {
    "name": "ipython",
    "version": 3
   },
   "file_extension": ".py",
   "mimetype": "text/x-python",
   "name": "python",
   "nbconvert_exporter": "python",
   "pygments_lexer": "ipython3",
   "version": "3.9.7"
  }
 },
 "nbformat": 4,
 "nbformat_minor": 4
}
