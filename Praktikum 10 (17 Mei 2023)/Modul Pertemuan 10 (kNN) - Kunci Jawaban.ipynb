{
  "cells": [
    {
      "cell_type": "markdown",
      "metadata": {
        "id": "gE48-jloHxwi",
        "tags": []
      },
      "source": [
        "# 1. Pendahuluan\n",
        "\n",
        "KNN termasuk salah satu algoritma tertua dalam ilmu machine learning, yang pertama kali diusulkan pada tahun [1951](https://apps.dtic.mil/dtic/tr/fulltext/u2/a800276.pdf) oleh  Evelyn Fix dan Joseph Hodges. KNN merupakan model non-parametrik yang dapat digunakan sebagai model **klasifikasi** dan juga model **regresi**. Prinsip yang digunakan untuk kedua kasus tersebut sama, yaitu dengan mengambil sejumlah `k` data di set data training yang **mirip** atau **dekat** dengan data baru. `k` data tersebut digunakan untuk menghitung luaran dari model. Perbedaan antara kedua kasus tersebut adalah pada **luaran**nya:\n",
        "\n",
        "* Luaran pada kasus klasifikasi adalah **kelas/label** dari data yang baru. Untuk kasus ini, kita bisa menggunakan **majority label** `k`-data yang paling dekat dengan data baru tersebut.\n",
        "* Luaran pada kasus regresi adalah **bilangan real** yang bisa dihitung dengan melakukan **rata-rata** dari `k`-data yang paling dekat dengan data baru."
      ]
    },
    {
      "cell_type": "markdown",
      "metadata": {
        "id": "6lLw_YR9LyYE",
        "tags": []
      },
      "source": [
        "---\n",
        "\n",
        "## 1.1. KNN Sebagai model non-parametrik "
      ]
    },
    {
      "cell_type": "markdown",
      "metadata": {
        "id": "yySde-ZDFj6S"
      },
      "source": [
        "Berdasarkan parameternya, model dapat digolongkan dalam 2, yaitu parametrik dan non-parametrik. Dalam model **parametrik**, jumlah parameternya tetap. Sebagai contoh dalam *linear regression* terdapat parameter $w$ yang jumlahnya tetap berapapun jumlah sampel yang kita punya. Sedangkan dalam model **non-parametrik**, parameternya bertambah seiring dengan jumlah sampel yang kita punya. Berikut adalah perbedaan dari kedua tipe tersebut:\n",
        "\n",
        "Model Parametrik:\n",
        "- Komputasi ringan dan cepat digunakan karena sebanyak apapun data yang kita punya, parameter yang digunakan jumlahnya tetap.\n",
        "- Hal ini mengindikasikan bahwa model parametrik memberikan asumsi pada distribusi datanya dengan parameter yang berjumlah tetap tersebut. \n",
        "- Karena parameternya berjumlah tetap, dengan data yang tidak terdapat batasan pada jumlah dan variasinya, model parametrik tidak terlalu fleksibel karena memiliki asumsi yang cukup kuat terhadap data.\n",
        "\n",
        "\n",
        "Model Non-parametrik:\n",
        "- Lebih fleksibel karena jumlah parameter bertambah seiring jumlah sampel yang kita punya.\n",
        "- Hal ini mengindikasikan bahwa model tidak memiliki asumsi pada distribusi data kasus yang kita modelkan. Dengan kata lain, struktur modelnya ditentukan oleh data yang kita punya. \n",
        "- Namun, hal ini menyebabkan pelambatan yang cukup signifikan pada sampel yang besar.\n",
        "\n",
        "Berikut adalah beberapa contoh penggolongan model ( [Machine Learning a Probabilistic Perspective](https://probml.github.io/pml-book/book0.html) ):\n",
        "\n",
        "<img src=\"https://i.stack.imgur.com/Y34LY.png\" width= 700px;/>\n",
        "\n",
        "KNN merupakan model non-parametrik, yang struktur modelnya ditentukan oleh data training yang kita gunakan. Saat melakukan pengujian pada data baru, semua data latih akan dievaluasi (dihitung jaraknya terhadap data uji). Sehingga data latih disini adalah parameter yang bertambah jumlahnya seiring banyaknya sampel."
      ]
    },
    {
      "cell_type": "markdown",
      "metadata": {
        "id": "KXV7CFQyRHrP",
        "tags": []
      },
      "source": [
        "---\n",
        "\n",
        "## 1.2. *Pseudo code* dan Ekspresi Matematis\n",
        "\n",
        "Secara umum, *pseudo code* KNN untuk klasifikasi bisa ditulis sebagai berikut ([Prasath et al, 2019](https://arxiv.org/pdf/1708.04321.pdf)):\n",
        "\n",
        "```\n",
        "Input: Training samples D, Test sample d, K\n",
        "Output: Class label of test sample\n",
        "1: Compute the distance between d and every sample in D\n",
        "2: Choose the K samples in D that are nearest to d; denote the set by S_x\n",
        "3: Assign d the class it that is the most frequent class (or the majority class) of S_x\n",
        "```\n",
        "\n",
        "Set $S_x$ beranggotakan `k` titik yang paling dekat dengan data kita. Setelah kita mendapatkan $S_x$, luaran untuk **klasifikasi** bisa ditentukan dengan:\n",
        "\n",
        "$$\n",
        "h(\\mathbf{x})=\\operatorname{mode}\\left(\\left\\{y^{\\prime \\prime}:\\left(\\mathbf{x}^{\\prime \\prime}, y^{\\prime \\prime}\\right) \\in S_{\\mathbf{x}}\\right\\}\\right)\n",
        "$$\n",
        "\n",
        "sesuai dengan langkah ke-3 di atas. Sedangkan untuk kasus **regresi**, kita ganti dengan menghitung rata-rata dari $S_x$ sebagai berikut:\n",
        "\n",
        "$$\n",
        "h(\\mathbf{x})=\\operatorname{mean}\\left(\\left\\{y^{\\prime \\prime}:\\left(\\mathbf{x}^{\\prime \\prime}, y^{\\prime \\prime}\\right) \\in S_{\\mathbf{x}}\\right\\}\\right)\n",
        "$$"
      ]
    },
    {
      "cell_type": "markdown",
      "metadata": {
        "id": "u90VxTWWLvE8",
        "tags": []
      },
      "source": [
        "---\n",
        "\n",
        "## 1.3. Mengukur Kedekatan atau Kemiripan\n",
        "\n",
        "Algoritma KNN berangkat dari suatu asumsi yaitu:\n",
        "\n",
        "> **Point data yang mirip memiliki label yang sama**\n",
        "\n",
        "Kita dapat mengukur **kemiripan** ini dengan jarak yang dapat dihitung menggunakan metrik jarak (**distance metric**). Metrik jarak merupakan komponen paling esensial dalam KNN. Jika jarak yang digunakan tidak sesuai dengan kasus atau data yang kita miliki maka performa KNN tidak akan baik pula.  \n",
        "\n",
        "Secara matematis, metrik jarak harus memenuhi kondisi berikut:\n",
        "\n",
        "1. Non-negativity: $\\operatorname{dist}(\\mathbf{x},\\mathbf{z})\\geq0$\n",
        "2. Identity: $\\operatorname{dist}(\\mathbf{x},\\mathbf{z})=0$, jika dan hanya jika $\\mathbf{x}=\\mathbf{z}$\n",
        "3. Symmetry: $\\operatorname{dist}(\\mathbf{x},\\mathbf{z}) = \\operatorname{dist}(\\mathbf{z},\\mathbf{x})$\n",
        "4. Triangle inequality: $\\operatorname{dist}(\\mathbf{x},\\mathbf{y})+\\operatorname{dist}(\\mathbf{y},\\mathbf{z}) \\geq \\operatorname{dist}(\\mathbf{x},\\mathbf{z})$\n",
        "\n",
        "### Minkowski Distance\n",
        "\n",
        "Salah satu metrik yang sering digunakan adalah **Minkowski Distance**:\n",
        "\n",
        "$$\n",
        "\\operatorname{dist}(\\mathbf{x}, \\mathbf{z})=\\left(\\sum_{r=1}^{d}\\left|x_{r}-z_{r}\\right|^{p}\\right)^{1 / p}\n",
        "$$\n",
        "\n",
        "Minkowski Distance ini merupakan generalisasi dari beberapa metrik jarak, antara lain:  \n",
        "**Manhattan distance** saat $p = 1$,  \n",
        "**Euclidean distance** ketika $p = 2$, dan  \n",
        "**max difference** saat $p = \\infty$."
      ]
    },
    {
      "cell_type": "markdown",
      "metadata": {
        "id": "jqpFEvBHTCcW"
      },
      "source": [
        "\n",
        "### Manhattan distance\n",
        "\n",
        "$$\n",
        "\\operatorname{dist}(\\mathbf{x}, \\mathbf{x'})=\\sum_{i=1}^{n}\\left|\\mathbf{x}_{i}-\\mathbf{x}'_{i}\\right|\n",
        "$$\n",
        "\n",
        "*Manhattan distance* mengukur jarak dengan menghitung ruas garis di **tiap koordinat** antar dua titik. Bayangkan cara gerak Benteng pada permainan catur. *Manhattan distance* mengukur jarak terpendek dari dua titik menggunakan cara gerak Benteng. *Manhattan distance* lebih **tidak** sensitif terhadap *outliers* dibanding *Euclidean distance*. Beberapa kasus lebih cocok menggunakan *Manhattan distance*, contohnya jarak ditentukan berapa banyak petak tanah pada jarak perumahan."
      ]
    },
    {
      "cell_type": "markdown",
      "metadata": {
        "id": "-lMFXOdoTBvu"
      },
      "source": [
        "### Euclidean distance\n",
        "$$\n",
        "\\operatorname{dist}(\\mathbf{x}, \\mathbf{x'})=\\sqrt{\\sum_{i=1}^{n}\\left(\\mathbf{x}_{i}-\\mathbf{x}'_{i}\\right)^{2}}\n",
        "$$\n",
        "\n",
        "*Euclidean distance* adalah metrik jarak untuk mengukur jarak ruas garis antar dua titik. Metrik ini selaras dengan bagimana manusia mempresepsikan jarak di alam (teorema *Pythagoras*). Metrik ini lebih sensitif terhadap *outliers* dibandingkan dengan *Manhattan distance* karena memiliki $p$ yang lebih besar. *Euclidean distance* dapat bekerja dengan sangat baik jika data kita terdistribusi normal dan memiliki sedikit *outliers*."
      ]
    },
    {
      "cell_type": "markdown",
      "metadata": {
        "id": "ZKB8Jf3a6a7G"
      },
      "source": [
        "### Max Difference atau Chebyshev distance\n",
        "$$\n",
        "\\operatorname{dist}(\\mathbf{x},\\mathbf{x}')=\\max _{i}\\left|\\mathbf{x}_{i}-\\mathbf{x}'_{i}\\right|\n",
        "$$\n",
        "Saat $p=\\infty$, *Minkowski distance* sama dengan *max difference* atau disebut juga *Chebyshev distance*. Metrik ini mengukur selisih maksimum diantara tiap koordinat antar dua titik. Kasus yang cocok untuk *Chebyshev distance* misalkan untuk mengukur waktu yang diperlukan *overhead crane* di gudang logistik untuk memindahkan barang (*crane* dapat bergerak pada koordinat x dan y secara bersamaan)."
      ]
    },
    {
      "cell_type": "markdown",
      "metadata": {
        "id": "paIiSJiav8aP"
      },
      "source": [
        "Metrik jarak lain beserta performanya dapat dilihat di referensi berikut ini: ([Prasath et al, 2019](https://arxiv.org/pdf/1708.04321.pdf))"
      ]
    },
    {
      "cell_type": "markdown",
      "metadata": {
        "tags": [],
        "id": "sFQPiRVzv8aR"
      },
      "source": [
        "# Pertanyaan:\n",
        "Mengapa *Minkowski distance* dapat dikatakan sebagai generalisasi dari *Manhattan distance*, *Eucledian distance*, dan *max difference* ?"
      ]
    },
    {
      "cell_type": "markdown",
      "metadata": {
        "id": "-wiDuukQv8aS"
      },
      "source": [
        "# Jawab:\n",
        "\n",
        "Berbeda dengan metrik jarak lainnya, Minkowski Distance menggunakan parameter tambahan (P) dalam formulanya. Parameter P tersebut digunakan untuk menentukan seberapa besar kelengkungan dari garis jarak yang ingin dicari.\n",
        "Dengan adanya P tersebut, Minkowski Distance dapat mengeneralisir metrik jarak lainya (Euclidean Distance, Manhattan Distance, dan Max Difference), dengan nilai P tertentu, yaitu:\n",
        "\n",
        "**Manhattan distance** saat $p = 1$.  \n",
        "Manhataan Distance dapat di generalisir Minkowski Distance saat P = 1 dikarenakan pada P = 1 formula Minkowski Distance akan sama dengan Manhattan Distance, sehingga membentuk garis siku antar dua titik yang sama dengan Manhattan Distance.\n",
        "\n",
        "**Euclidean distance** ketika $p = 2$.  \n",
        "**max difference** saat $p = \\infty$.\n",
        "Dengan alasan yang sama dengan Manhattan Distance, Minkowski Distance juga mengeneralisir Euclidean Distance saat P = 2 dan Max Difference saat p = $\\infty$"
      ]
    },
    {
      "cell_type": "markdown",
      "metadata": {
        "id": "5iObHCRERUCg"
      },
      "source": [
        "---\n",
        "## 1.4. Pengaruh nilai K\n",
        "\n",
        "Secara umum algoritma KNN untuk klasifikasi dapat divisualisasikan sebagai berikut:\n",
        "\n",
        "<img src=\"https://upload.wikimedia.org/wikipedia/commons/e/e7/KnnClassification.svg\" width= 500px;/>\n"
      ]
    },
    {
      "cell_type": "markdown",
      "metadata": {
        "id": "ffpBLRWySf6k",
        "tags": []
      },
      "source": [
        "Nilai K pada KNN cukup sensitif terhadap hasil klasifikasi."
      ]
    },
    {
      "cell_type": "markdown",
      "metadata": {
        "tags": [],
        "id": "6Hazhl0Kv8aU"
      },
      "source": [
        "# Pertanyaan:\n",
        "1. Dari gambar di atas, apa prediksi label titik hijau jika K=3?\n",
        "2. Apa yang terjadi saat K=5?"
      ]
    },
    {
      "cell_type": "markdown",
      "metadata": {
        "id": "xAJMLwlWv8aV"
      },
      "source": [
        "# Jawab:\n",
        "1. Segitiga Merah.\n",
        "2. Hasil prediksi titik hijau berubah dari segitiga merah menjadi kotak biru, karena jumlah kotak biru lebih banyak dibandingkan segitiga merah dengan K = 5."
      ]
    },
    {
      "cell_type": "markdown",
      "metadata": {
        "id": "TbGmrhdZv8aW"
      },
      "source": [
        "---\n",
        "\n",
        "# 2. Contoh Code"
      ]
    },
    {
      "cell_type": "markdown",
      "metadata": {
        "id": "iMn52fYEIA2a",
        "tags": []
      },
      "source": [
        "Sebagai contoh untuk memberikan gambaran lebih jauh, kita gunakan dataset `ushape` yang memiliki input 2 dimensi, yaitu **x1** dan **x2**, serta outpu 1 dimensi, yaitu **y** yang bernilai 1 atau 0 (*binary classification problem*)."
      ]
    },
    {
      "cell_type": "code",
      "execution_count": null,
      "metadata": {
        "id": "fckiyGXOv8aX"
      },
      "outputs": [],
      "source": [
        "# Load libraries \n",
        "import numpy as np\n",
        "import pandas as pd\n",
        "import seaborn as sns\n",
        "import matplotlib.pyplot as plt\n",
        "\n",
        "%matplotlib inline\n",
        "#sns.set(style='whitegrid', context='notebook')\n",
        "plt.rcParams['figure.figsize'] = (10, 7)"
      ]
    },
    {
      "cell_type": "code",
      "execution_count": null,
      "metadata": {
        "colab": {
          "base_uri": "https://localhost:8080/",
          "height": 206
        },
        "id": "oKg8SI67IWFU",
        "outputId": "1ebe647c-c859-4d7e-b9ad-c08564e56696"
      },
      "outputs": [
        {
          "output_type": "execute_result",
          "data": {
            "text/plain": [
              "         x1        x2    y\n",
              "0  0.031595  0.986988  0.0\n",
              "1  2.115098 -0.046244  1.0\n",
              "2  0.882490 -0.075756  0.0\n",
              "3 -0.055144 -0.037332  1.0\n",
              "4  0.829545 -0.539321  1.0"
            ],
            "text/html": [
              "\n",
              "  <div id=\"df-6f9b3814-f3a3-4921-98b8-f680405c6946\">\n",
              "    <div class=\"colab-df-container\">\n",
              "      <div>\n",
              "<style scoped>\n",
              "    .dataframe tbody tr th:only-of-type {\n",
              "        vertical-align: middle;\n",
              "    }\n",
              "\n",
              "    .dataframe tbody tr th {\n",
              "        vertical-align: top;\n",
              "    }\n",
              "\n",
              "    .dataframe thead th {\n",
              "        text-align: right;\n",
              "    }\n",
              "</style>\n",
              "<table border=\"1\" class=\"dataframe\">\n",
              "  <thead>\n",
              "    <tr style=\"text-align: right;\">\n",
              "      <th></th>\n",
              "      <th>x1</th>\n",
              "      <th>x2</th>\n",
              "      <th>y</th>\n",
              "    </tr>\n",
              "  </thead>\n",
              "  <tbody>\n",
              "    <tr>\n",
              "      <th>0</th>\n",
              "      <td>0.031595</td>\n",
              "      <td>0.986988</td>\n",
              "      <td>0.0</td>\n",
              "    </tr>\n",
              "    <tr>\n",
              "      <th>1</th>\n",
              "      <td>2.115098</td>\n",
              "      <td>-0.046244</td>\n",
              "      <td>1.0</td>\n",
              "    </tr>\n",
              "    <tr>\n",
              "      <th>2</th>\n",
              "      <td>0.882490</td>\n",
              "      <td>-0.075756</td>\n",
              "      <td>0.0</td>\n",
              "    </tr>\n",
              "    <tr>\n",
              "      <th>3</th>\n",
              "      <td>-0.055144</td>\n",
              "      <td>-0.037332</td>\n",
              "      <td>1.0</td>\n",
              "    </tr>\n",
              "    <tr>\n",
              "      <th>4</th>\n",
              "      <td>0.829545</td>\n",
              "      <td>-0.539321</td>\n",
              "      <td>1.0</td>\n",
              "    </tr>\n",
              "  </tbody>\n",
              "</table>\n",
              "</div>\n",
              "      <button class=\"colab-df-convert\" onclick=\"convertToInteractive('df-6f9b3814-f3a3-4921-98b8-f680405c6946')\"\n",
              "              title=\"Convert this dataframe to an interactive table.\"\n",
              "              style=\"display:none;\">\n",
              "        \n",
              "  <svg xmlns=\"http://www.w3.org/2000/svg\" height=\"24px\"viewBox=\"0 0 24 24\"\n",
              "       width=\"24px\">\n",
              "    <path d=\"M0 0h24v24H0V0z\" fill=\"none\"/>\n",
              "    <path d=\"M18.56 5.44l.94 2.06.94-2.06 2.06-.94-2.06-.94-.94-2.06-.94 2.06-2.06.94zm-11 1L8.5 8.5l.94-2.06 2.06-.94-2.06-.94L8.5 2.5l-.94 2.06-2.06.94zm10 10l.94 2.06.94-2.06 2.06-.94-2.06-.94-.94-2.06-.94 2.06-2.06.94z\"/><path d=\"M17.41 7.96l-1.37-1.37c-.4-.4-.92-.59-1.43-.59-.52 0-1.04.2-1.43.59L10.3 9.45l-7.72 7.72c-.78.78-.78 2.05 0 2.83L4 21.41c.39.39.9.59 1.41.59.51 0 1.02-.2 1.41-.59l7.78-7.78 2.81-2.81c.8-.78.8-2.07 0-2.86zM5.41 20L4 18.59l7.72-7.72 1.47 1.35L5.41 20z\"/>\n",
              "  </svg>\n",
              "      </button>\n",
              "      \n",
              "  <style>\n",
              "    .colab-df-container {\n",
              "      display:flex;\n",
              "      flex-wrap:wrap;\n",
              "      gap: 12px;\n",
              "    }\n",
              "\n",
              "    .colab-df-convert {\n",
              "      background-color: #E8F0FE;\n",
              "      border: none;\n",
              "      border-radius: 50%;\n",
              "      cursor: pointer;\n",
              "      display: none;\n",
              "      fill: #1967D2;\n",
              "      height: 32px;\n",
              "      padding: 0 0 0 0;\n",
              "      width: 32px;\n",
              "    }\n",
              "\n",
              "    .colab-df-convert:hover {\n",
              "      background-color: #E2EBFA;\n",
              "      box-shadow: 0px 1px 2px rgba(60, 64, 67, 0.3), 0px 1px 3px 1px rgba(60, 64, 67, 0.15);\n",
              "      fill: #174EA6;\n",
              "    }\n",
              "\n",
              "    [theme=dark] .colab-df-convert {\n",
              "      background-color: #3B4455;\n",
              "      fill: #D2E3FC;\n",
              "    }\n",
              "\n",
              "    [theme=dark] .colab-df-convert:hover {\n",
              "      background-color: #434B5C;\n",
              "      box-shadow: 0px 1px 3px 1px rgba(0, 0, 0, 0.15);\n",
              "      filter: drop-shadow(0px 1px 2px rgba(0, 0, 0, 0.3));\n",
              "      fill: #FFFFFF;\n",
              "    }\n",
              "  </style>\n",
              "\n",
              "      <script>\n",
              "        const buttonEl =\n",
              "          document.querySelector('#df-6f9b3814-f3a3-4921-98b8-f680405c6946 button.colab-df-convert');\n",
              "        buttonEl.style.display =\n",
              "          google.colab.kernel.accessAllowed ? 'block' : 'none';\n",
              "\n",
              "        async function convertToInteractive(key) {\n",
              "          const element = document.querySelector('#df-6f9b3814-f3a3-4921-98b8-f680405c6946');\n",
              "          const dataTable =\n",
              "            await google.colab.kernel.invokeFunction('convertToInteractive',\n",
              "                                                     [key], {});\n",
              "          if (!dataTable) return;\n",
              "\n",
              "          const docLinkHtml = 'Like what you see? Visit the ' +\n",
              "            '<a target=\"_blank\" href=https://colab.research.google.com/notebooks/data_table.ipynb>data table notebook</a>'\n",
              "            + ' to learn more about interactive tables.';\n",
              "          element.innerHTML = '';\n",
              "          dataTable['output_type'] = 'display_data';\n",
              "          await google.colab.output.renderOutput(dataTable, element);\n",
              "          const docLink = document.createElement('div');\n",
              "          docLink.innerHTML = docLinkHtml;\n",
              "          element.appendChild(docLink);\n",
              "        }\n",
              "      </script>\n",
              "    </div>\n",
              "  </div>\n",
              "  "
            ]
          },
          "metadata": {},
          "execution_count": 104
        }
      ],
      "source": [
        "# Load data\n",
        "ushapedata = pd.read_csv('https://raw.githubusercontent.com/Adityarajora/Complete-KNN-visualization/master/1.ushape.csv',\n",
        "                         names=['x1', 'x2', 'y'])\n",
        "\n",
        "# Tampilkan 5 data pertama\n",
        "ushapedata.head(5)"
      ]
    },
    {
      "cell_type": "markdown",
      "metadata": {
        "id": "d7pYEoeKIiMu"
      },
      "source": [
        "Asumsikan data baru kita adalah $(-0.2,0.7)$. Sehingga, plot data training dan data baru kita adalah sebagai berikut:"
      ]
    },
    {
      "cell_type": "code",
      "execution_count": null,
      "metadata": {
        "colab": {
          "base_uri": "https://localhost:8080/",
          "height": 459
        },
        "id": "R0BoDaL7Juug",
        "outputId": "6f2ca3a2-29da-4ad5-ad2a-43de3354b457"
      },
      "outputs": [
        {
          "output_type": "display_data",
          "data": {
            "text/plain": [
              "<matplotlib.axes._subplots.AxesSubplot at 0x7fdfad28e450>"
            ]
          },
          "metadata": {}
        },
        {
          "output_type": "display_data",
          "data": {
            "text/plain": [
              "<Figure size 720x504 with 1 Axes>"
            ],
            "image/png": "[encoded data removed]"
          },
          "metadata": {
            "needs_background": "light"
          }
        }
      ],
      "source": [
        "x_new = [[-0.2, 0.7]]\n",
        "\n",
        "data_with_new_point = ushapedata.append({\"x1\":x_new[0][0],\"x2\":x_new[0][1],\"y\":\"new data\"}, ignore_index=True)\n",
        "display(sns.scatterplot(data=data_with_new_point, x=\"x1\", y=\"x2\",hue='y',palette='deep'))"
      ]
    },
    {
      "cell_type": "markdown",
      "metadata": {
        "id": "25_Ktpqxnxd5"
      },
      "source": [
        "Terdapat dua label pada ouput, yaitu 0 dan 1. Data baru kita direpresentasikan dengan titik warna hijau. Yang menjadi pertanyaan: label apakah yang akan kita berikan pada data baru tersebut? Apakah 0 atau 1?"
      ]
    },
    {
      "cell_type": "markdown",
      "metadata": {
        "id": "KcEi460PT3Pk",
        "tags": []
      },
      "source": [
        "---\n",
        "## 2.1. KNN menggunakan scikit-learn\n",
        "\n",
        "Kita lakukan klasifikasi KNN menggunakan library scikit-learn"
      ]
    },
    {
      "cell_type": "code",
      "execution_count": null,
      "metadata": {
        "colab": {
          "base_uri": "https://localhost:8080/"
        },
        "id": "UNnIVTtlR-lX",
        "outputId": "1ae0cdee-8954-4c73-8803-3487cfc40bf8"
      },
      "outputs": [
        {
          "output_type": "execute_result",
          "data": {
            "text/plain": [
              "KNeighborsClassifier()"
            ]
          },
          "metadata": {},
          "execution_count": 106
        }
      ],
      "source": [
        "from sklearn.neighbors import KNeighborsClassifier\n",
        "\n",
        "# Ubah tipe data menjadi numpy array\n",
        "X = ushapedata[[\"x1\",\"x2\"]].to_numpy()\n",
        "Y = ushapedata[\"y\"].to_numpy()\n",
        "\n",
        "# model\n",
        "neigh = KNeighborsClassifier()\n",
        "\n",
        "# training\n",
        "neigh.fit(X, Y)"
      ]
    },
    {
      "cell_type": "markdown",
      "metadata": {
        "id": "7fTyeA8V8XF3"
      },
      "source": [
        "Setelah itu, kita bisa melakukan prediksi untuk data baru `x_new` dengan memanggil method `predict`:"
      ]
    },
    {
      "cell_type": "code",
      "execution_count": null,
      "metadata": {
        "colab": {
          "base_uri": "https://localhost:8080/"
        },
        "id": "FxO8lPVzr49O",
        "outputId": "0076d76b-3a35-4dd2-a495-79c9ad4d0664"
      },
      "outputs": [
        {
          "output_type": "stream",
          "name": "stdout",
          "text": [
            "Prediksi kelas:  [0.]\n"
          ]
        }
      ],
      "source": [
        "print(\"Prediksi kelas: \", neigh.predict(x_new))"
      ]
    },
    {
      "cell_type": "markdown",
      "metadata": {
        "tags": [],
        "id": "lgd0J29Fv8ag"
      },
      "source": [
        "# Pertanyaan / Tugas:\n",
        "Gunakan referensi: [KNeighborsClassifier](https://scikit-learn.org/stable/modules/generated/sklearn.neighbors.KNeighborsClassifier.html), jawablah pertanyaan berikut berdasarkan code di atas :\n",
        "1. Berapakah nilai K yang digunakan ?\n",
        "2. Distance metric apa yang digunakan ? \n",
        "3. Buat code di bawah ini, gunakan 2 metrik jarak lainnya, tulis nama metrik dan tampilkan hasil prediksi untuk data yang sama !\n",
        "4. Buat code di bawah ini, bandingkan hasil dari 3 metrik jarak, untuk k = 3 !"
      ]
    },
    {
      "cell_type": "markdown",
      "metadata": {
        "id": "3_ig73qNv8ah"
      },
      "source": [
        "# Jawab:\n",
        "1. Nilai K yang digunakan adalah 5, dimana 5 adalah K default pada kNN dengan scikit-learn dan dapat dilihat menggunakan neigh.n_neighbors\n",
        "2. Distance Metric yang digunakan Minkowski Distance, dikarenakan Minkowski DIstance adalah Distance Metric default kNN dengan scikit_learn. Dapat dilihat juga dengan neigh.metric\n",
        "3. "
      ]
    },
    {
      "cell_type": "code",
      "execution_count": null,
      "metadata": {
        "id": "E6xEMsFzv8ah",
        "colab": {
          "base_uri": "https://localhost:8080/"
        },
        "outputId": "ff660d9f-3d2b-4456-f593-38779c02e73b"
      },
      "outputs": [
        {
          "output_type": "stream",
          "name": "stdout",
          "text": [
            "Prediksi kelas:  [0.]\n"
          ]
        }
      ],
      "source": [
        "# model dengan metrik Euclidean Distance\n",
        "# Tulis code di bawah ini\n",
        "\n",
        "# model (menggunakan metric euclidean distance)\n",
        "euclidean_kNN = KNeighborsClassifier(metric = 'euclidean')\n",
        "\n",
        "# training\n",
        "euclidean_kNN.fit(X, Y)\n",
        "\n",
        "# prediciton\n",
        "print(\"Prediksi kelas: \", euclidean_kNN.predict(x_new))"
      ]
    },
    {
      "cell_type": "code",
      "execution_count": null,
      "metadata": {
        "id": "iXeuL3Jcv8ai",
        "colab": {
          "base_uri": "https://localhost:8080/"
        },
        "outputId": "adf7da97-4297-4716-e89a-a2192c7aeb3b"
      },
      "outputs": [
        {
          "output_type": "stream",
          "name": "stdout",
          "text": [
            "Prediksi kelas:  [0.]\n"
          ]
        }
      ],
      "source": [
        "# model dengan metrik Manhattan Distance\n",
        "# Tulis code di bawah ini\n",
        "\n",
        "# model (menggunakan metric manhattan distance)\n",
        "manhattan_kNN = KNeighborsClassifier(metric = 'manhattan')\n",
        "\n",
        "# training\n",
        "manhattan_kNN.fit(X, Y)\n",
        "\n",
        "# prediciton\n",
        "print(\"Prediksi kelas: \", manhattan_kNN.predict(x_new))"
      ]
    },
    {
      "cell_type": "markdown",
      "metadata": {
        "id": "CB8V-FiJv8ai"
      },
      "source": [
        "4. "
      ]
    },
    {
      "cell_type": "code",
      "execution_count": null,
      "metadata": {
        "id": "lByDD6aHv8aj",
        "outputId": "c5da9616-160b-412f-f179-d43d7636c1b0",
        "colab": {
          "base_uri": "https://localhost:8080/"
        }
      },
      "outputs": [
        {
          "output_type": "stream",
          "name": "stdout",
          "text": [
            "Prediksi kelas untuk p=1:   [0.]\n",
            "Prediksi kelas untuk p=2:   [1.]\n",
            "Prediksi kelas untuk p=3:   [1.]\n"
          ]
        }
      ],
      "source": [
        "''' all metrics defined by p.\n",
        " p = 1: Manhattan distance\n",
        " p = 2: Euclidean distance\n",
        " p = 3: Minkowski distance \n",
        "'''\n",
        "\n",
        "# Tulis code di bawah ini\n",
        "\n",
        "# Model untuk masing-masing metrik\n",
        "manhattan_kNN = KNeighborsClassifier(n_neighbors = 3, metric = 'manhattan')\n",
        "euclidean_kNN = KNeighborsClassifier(n_neighbors = 3, metric = 'euclidean')\n",
        "minkowski_kNN = KNeighborsClassifier(n_neighbors = 3, metric = 'minkowski')\n",
        "\n",
        "# Training setiap model\n",
        "manhattan_kNN.fit(X, Y)\n",
        "euclidean_kNN.fit(X, Y)\n",
        "minkowski_kNN.fit(X, Y)\n",
        "\n",
        "# Buat prediksi dari setiap model\n",
        "print('Prediksi kelas untuk p=1:  ', manhattan_kNN.predict(x_new))\n",
        "print('Prediksi kelas untuk p=2:  ', euclidean_kNN.predict(x_new))\n",
        "print('Prediksi kelas untuk p=3:  ', minkowski_kNN.predict(x_new))"
      ]
    },
    {
      "cell_type": "markdown",
      "metadata": {
        "id": "B1v5LGvyi_mf"
      },
      "source": [
        "\n",
        "\n",
        "---\n",
        "\n"
      ]
    },
    {
      "cell_type": "markdown",
      "metadata": {
        "id": "hcwUXICVUxuk"
      },
      "source": [
        "## 2.2. Nilai K dalam KNN\n",
        "Hyper-parameter K dalam KNN sangat berpengaruh kepada kualitas hasil klasifikasi oleh KNN, di bawah ini kita mengeksplor lebih jauh bagaimana pengaruh K dan bagaimana cara memilih K yang baik. Sebelum itu, kita plot decision boundary dari KNN dengan data yang kita load sebelumnya:"
      ]
    },
    {
      "cell_type": "code",
      "execution_count": null,
      "metadata": {
        "colab": {
          "base_uri": "https://localhost:8080/",
          "height": 490,
          "referenced_widgets": [
            "f2ae4288b96a4a85b867ea4a8b6e8f9e",
            "06bfc14b8d9b49dbb419b7476517dac4",
            "a7149934f45e463bb326c4ad06db4af6",
            "f28a13a2a55f452987f4ed68f8ddc027",
            "869e58dce67743deb95df66997004f1d",
            "24302b4032ec4d7b81c0acca0d94ecdb",
            "83798313fe7a4e7bb070970ad9abf2a1"
          ]
        },
        "id": "zL939GfQVJH1",
        "outputId": "7387d4b1-20e4-44da-ea9a-18e883fb0a46"
      },
      "outputs": [
        {
          "output_type": "display_data",
          "data": {
            "text/plain": [
              "interactive(children=(Dropdown(description='k', options=(1, 2, 3, 4, 5, 6, 7, 8, 9, 10), value=1), Output()), …"
            ],
            "application/vnd.jupyter.widget-view+json": {
              "version_major": 2,
              "version_minor": 0,
              "model_id": "f2ae4288b96a4a85b867ea4a8b6e8f9e"
            }
          },
          "metadata": {}
        }
      ],
      "source": [
        "from sklearn import datasets, neighbors\n",
        "from ipywidgets import interact\n",
        "from mlxtend.plotting import plot_decision_regions\n",
        "import warnings\n",
        "warnings.filterwarnings('ignore')\n",
        "\n",
        "@interact\n",
        "def knn_comparison(k = [1, 2, 3, 4, 5, 6, 7, 8, 9, 10]):\n",
        "  \"\"\"\n",
        "  this function is adapted from https://towardsdatascience.com/knn-visualization-in-just-13-lines-of-code-32820d72c6b6\n",
        "  \"\"\"\n",
        "  x = ushapedata[['x1','x2']].values\n",
        "  y = ushapedata['y'].astype(int).values\n",
        "  clf = neighbors.KNeighborsClassifier(n_neighbors=k)\n",
        "  clf.fit(x, y)\n",
        "  plot_decision_regions(x, y, clf=clf, legend=2)\n",
        "  plt.xlabel('X')\n",
        "  plt.ylabel('Y')\n",
        "  plt.title('KNN with k='+ str(k))\n",
        "  plt.show()\n"
      ]
    },
    {
      "cell_type": "markdown",
      "metadata": {
        "id": "o2nWZmjrVN2X"
      },
      "source": [
        "Silahkan bereksperimen dengan nilai k_list di baris code diatas dengan comment #change me, lalu jawablah pertanyaan di bawah ini."
      ]
    },
    {
      "cell_type": "markdown",
      "metadata": {
        "id": "YiqJTU5Nv8an"
      },
      "source": [
        "# Pertanyaan\n",
        "1. Apa yang terjadi jika K semakin besar?\n",
        "2. Apa yang terjadi jika K semakin kecil?\n",
        "3. Bagaimana menurut anda pengaruh nilai K dalam KNN? Apa hubungan nilai K dengan bias-variance tradeoff?"
      ]
    },
    {
      "cell_type": "markdown",
      "metadata": {
        "id": "jjAAc5krv8an"
      },
      "source": [
        "# Jawab:\n",
        "1.  Saat nilai k semakin besar, hasil prediksi akan semakin semakin menyimpang ke rata-rata dari keseluruhan data yang menyebabkan underfitting.\n",
        "2.  Apabila nilai k semakin mengecil, hasil prediksi bisa overfitting (terlalu bergantung dengan nilai terdekat).\n",
        "3.  Pemilihan jumlah tetangga (k) dalam kNN sangatlah penting agar didapat hasil prediksi yang diinginkan. k yang baik seharusnya tidak terlalu besar ataupun terlalu kecil. Terhadap bias-variance tradeoff, k memiliki hubungan dimana dengan jumlah yang terlalu sedikit akan mengakibatkan overfitting (bias rendah, variance tinggi), sementara k yang terlalu besar menyebabkan underfitting (bias tinggi variance rendah)."
      ]
    },
    {
      "cell_type": "markdown",
      "metadata": {
        "id": "9hXxHWArVPVu"
      },
      "source": [
        "Note: salah satu cara untuk mendapatkan nilai K yang optimal adalah dengan menggunakan **cross-validation**."
      ]
    },
    {
      "cell_type": "markdown",
      "metadata": {
        "id": "eS69aO25OyKy"
      },
      "source": [
        "---\n",
        "\n",
        "## 2.3. Catatan Tambahan: Mempercepat Perhitungan Jarak\n",
        "\n",
        "Dalam aplikasinya sangat tidak disarankan untuk memakai cara naif dengan menghitung jarak semua data training dengan data testing kita satu persatu. Di dalam library scikit learn ([KNeighborsClassifier](https://scikit-learn.org/stable/modules/generated/sklearn.neighbors.KNeighborsClassifier.html)) ada 3 varian algoritma yang digunakan untuk mempercepat KNN, yaitu :\n",
        "\n",
        "1. Brute Force\n",
        "  - Brute force menghitung jarak dari data uji terhadap semua data latih kita di tahap pengujian. Hal ini menyebabkan waktu yang dilakukan untuk memprediksi data akan lama jika kita memiliki data uji yang banyak, dengan kompleksitas: $O[DN^2]$.\n",
        "\n",
        "2. KD Tree\n",
        "  - Untuk mempercepat prediksi, KD Tree membangun sebuah struktur data pohon dari data latih yang kita punya dan penghitungan jarak akan dibantu dengan pohon tersebut. \n",
        "  - Besar kompleksitas dari algoritma ini adalah $O[DN \\log(N)]$.\n",
        "  - Ide dasarnya adalah jika titik A sangat jauh dari titik B, dan titik B sangat dekat dengan titik C maka kita tahu bahwa titik A dan C juga jauh. Maka kita tidak perlu menghitung jarak titik A ke titik C secara langsung.\n",
        "  - Secara visual:\n",
        "    1. Bangun KD Tree dengan cara mempartisi space kita, misalkan kita bagi space saat $x=7$ kemudian di sisi kanan bagi saat $y=6$, di sisi kiri bagi saat $y=4$. lakukan secara rekursif sampai KD Tree terbentuk:\n",
        "  <img src=\"https://qph.fs.quoracdn.net/main-qimg-5cba5d9422dfbcd48c154db5c756661d\" width= 500px;/>\n",
        "    2. Misalkan kita punya data test berada di titik warna ungu. Kita akan berjalan pertama melalui root $(7,2)$:\n",
        "      <img src=\"https://qph.fs.quoracdn.net/main-qimg-df281b60a8b0b5580ee85af115bf6388\" width= 500px;/>\n",
        "    3. Karena titik ungu berada di sebelah kiri root, kita bisa meng eliminasi semua titik yang berada di area kanan root:\n",
        "    <img src=\"https://qph.fs.quoracdn.net/main-qimg-33ebfe3105ce0d69aa0d20c3bbe6effd\" width= 500px;/>\n",
        "    4. Lakukan hal yang sama di leaf dari root pertama sampai kita berada di leaf terakhir:\n",
        "        <img src=\"https://qph.fs.quoracdn.net/main-qimg-cdab708fd4059dc20a1e05bedd1c34a2\" width= 500px;/>\n",
        "    5. Setelah sampai di leaf terakhir kita dapat menghitung jarak pada titik yang areanya tidak ter eliminasi.  \n",
        "    sumber gambar: https://www.quora.com/How-does-a-k-d-tree-find-the-K-nearest-neighbors\n",
        "\n",
        "  \n",
        "3. Ball Tree\n",
        "  - Untuk mengatasi kelemahan KD Tree pada data yang memiliki dimensi tinggi, Ball Tree diperkenalkan dengan cara mengubah partisi koordinat kartesian dengan nesting hyper-spheres.\n",
        "  - Ball tree secara rekursif membagi data kedalam nodes yang didefinisikan oleh centroid $C$ dan radius $r$. Secara visual Ball Tree dapat dibentuk sebagai berikut:\n",
        "\n",
        "    <img src=\"https://www.researchgate.net/profile/Conor-Ransome/publication/342819363/figure/fig2/AS:911440366010368@1594315725423/Diagram-of-the-Ball-Tree-Algorithm-Step-i-the-data-points-ii-first-ball-the-parent_W640.jpg\" width= 500px;/>\n",
        "    \n",
        "  - Dengan menggunakan *triangle inequality*, kita dapat melakukan penghitungan dengan hanya memanfaatkan *centroid* dari Ball-Tree kita. \n",
        "  - Dan karena struktur data kita seperti ini kita tidak menemui kelemahan terhadap dimensi tinggi seperti pada KD-Tree. "
      ]
    },
    {
      "cell_type": "markdown",
      "metadata": {
        "id": "PYTKW7tPN03v"
      },
      "source": [
        "Berikut ini kita bandingkan kecepatan dari ketiga algoritma tersebut. Untuk algoritma yang berbasiskan Tree kita perlu untuk membuild tree nya terlebih dahulu sehingga ada waktu build yang diperlukan. Build ini hanya dilakukan sekali. "
      ]
    },
    {
      "cell_type": "code",
      "execution_count": null,
      "metadata": {
        "colab": {
          "base_uri": "https://localhost:8080/"
        },
        "id": "A8QSVbybLimh",
        "outputId": "7c6455f3-c7f2-44dc-cfd9-e0e646809ac5"
      },
      "outputs": [
        {
          "output_type": "stream",
          "name": "stdout",
          "text": [
            "brute\n",
            "run time : 0.1636730665000016 ± 0.026747616295986515\n",
            "-------------------------------------------\n",
            "run time build of ball_tree :  0.9700591629999735\n",
            "ball_tree\n",
            "run time : 0.0008424570999977732 ± 0.0006070858044529217\n",
            "-------------------------------------------\n",
            "run time build of kd_tree :  1.114145490999988\n",
            "kd_tree\n",
            "run time : 0.0001416698999946675 ± 7.100710124024402e-05\n",
            "-------------------------------------------\n"
          ]
        }
      ],
      "source": [
        "import time\n",
        "from sklearn.datasets import make_classification\n",
        "X, Y = make_classification(500000,5)\n",
        "from sklearn.neighbors import KDTree, BallTree\n",
        "\n",
        "k = 5\n",
        "method_list = {\"ball_tree\":BallTree, \"kd_tree\":KDTree}\n",
        "\n",
        "for method in [\"brute\", \"ball_tree\", \"kd_tree\"]:\n",
        "  rep = []\n",
        "\n",
        "  if method != \"brute\":\n",
        "    start_time_build = time.process_time()\n",
        "    tree = method_list[method](X[5:], leaf_size=30) \n",
        "    print(\"run time build of\",method,\": \", time.process_time() - start_time_build)\n",
        "\n",
        "  for i in range(10):\n",
        "    start_time = time.process_time()\n",
        "    if method == \"brute\":\n",
        "      neigh = KNeighborsClassifier(n_neighbors=k,algorithm=method)\n",
        "      neigh.fit(X[5:], Y[5:])\n",
        "      neigh.predict(X[:1])\n",
        "    else:\n",
        "      dist, ind = tree.query(X[:1], k=k) \n",
        "\n",
        "    run_time = time.process_time() - start_time\n",
        "    rep.append(run_time)\n",
        "  rep = np.array(rep)\n",
        "  print(method)\n",
        "  print(\"run time :\", np.mean(rep),u\"\\u00B1\",np.std(rep))\n",
        "  print(\"-------------------------------------------\")"
      ]
    },
    {
      "cell_type": "markdown",
      "metadata": {
        "id": "WB5AHaZIv8aq"
      },
      "source": [
        "# 3. Code from the scratch"
      ]
    },
    {
      "cell_type": "markdown",
      "metadata": {
        "id": "YpKCcEH7v8aq"
      },
      "source": [
        "## 3.1. KNN untuk Klasifikasi"
      ]
    },
    {
      "cell_type": "markdown",
      "metadata": {
        "id": "ygesiEIsdZtU",
        "tags": []
      },
      "source": [
        "Pada sub bab ini diharapkan Anda dapat menulis program KNN sebagai model klasifikasi menggunakan Numpy, yaitu dengan:\n",
        "1. Menulis kode metric distance\n",
        "2. Menulis kode core KNN algorithm\n",
        "3. Menulis kode output KNN untuk klasifikasi\n",
        "4. Melakukan cross validation untuk mendapatkan nilai K terbaik\n",
        "\n",
        "Dataset yang digunakan adalah data `ushape` yang sama dengan sebelumnya:\n"
      ]
    },
    {
      "cell_type": "code",
      "execution_count": null,
      "metadata": {
        "colab": {
          "base_uri": "https://localhost:8080/",
          "height": 300
        },
        "id": "hMYUy5zrgfR-",
        "outputId": "ed8f9165-cbe1-489b-9498-9cb18e5469fa"
      },
      "outputs": [
        {
          "output_type": "execute_result",
          "data": {
            "text/plain": [
              "               x1          x2           y\n",
              "count  100.000000  100.000000  100.000000\n",
              "mean     0.500420    0.228701    0.500000\n",
              "std      0.891044    0.592885    0.502519\n",
              "min     -1.318500   -1.035702    0.000000\n",
              "25%     -0.140330   -0.203260    0.000000\n",
              "50%      0.470678    0.188660    0.500000\n",
              "75%      1.112008    0.658448    1.000000\n",
              "max      2.181372    1.571899    1.000000"
            ],
            "text/html": [
              "\n",
              "  <div id=\"df-9769175b-cbbc-4e45-8b6c-f984bf510462\">\n",
              "    <div class=\"colab-df-container\">\n",
              "      <div>\n",
              "<style scoped>\n",
              "    .dataframe tbody tr th:only-of-type {\n",
              "        vertical-align: middle;\n",
              "    }\n",
              "\n",
              "    .dataframe tbody tr th {\n",
              "        vertical-align: top;\n",
              "    }\n",
              "\n",
              "    .dataframe thead th {\n",
              "        text-align: right;\n",
              "    }\n",
              "</style>\n",
              "<table border=\"1\" class=\"dataframe\">\n",
              "  <thead>\n",
              "    <tr style=\"text-align: right;\">\n",
              "      <th></th>\n",
              "      <th>x1</th>\n",
              "      <th>x2</th>\n",
              "      <th>y</th>\n",
              "    </tr>\n",
              "  </thead>\n",
              "  <tbody>\n",
              "    <tr>\n",
              "      <th>count</th>\n",
              "      <td>100.000000</td>\n",
              "      <td>100.000000</td>\n",
              "      <td>100.000000</td>\n",
              "    </tr>\n",
              "    <tr>\n",
              "      <th>mean</th>\n",
              "      <td>0.500420</td>\n",
              "      <td>0.228701</td>\n",
              "      <td>0.500000</td>\n",
              "    </tr>\n",
              "    <tr>\n",
              "      <th>std</th>\n",
              "      <td>0.891044</td>\n",
              "      <td>0.592885</td>\n",
              "      <td>0.502519</td>\n",
              "    </tr>\n",
              "    <tr>\n",
              "      <th>min</th>\n",
              "      <td>-1.318500</td>\n",
              "      <td>-1.035702</td>\n",
              "      <td>0.000000</td>\n",
              "    </tr>\n",
              "    <tr>\n",
              "      <th>25%</th>\n",
              "      <td>-0.140330</td>\n",
              "      <td>-0.203260</td>\n",
              "      <td>0.000000</td>\n",
              "    </tr>\n",
              "    <tr>\n",
              "      <th>50%</th>\n",
              "      <td>0.470678</td>\n",
              "      <td>0.188660</td>\n",
              "      <td>0.500000</td>\n",
              "    </tr>\n",
              "    <tr>\n",
              "      <th>75%</th>\n",
              "      <td>1.112008</td>\n",
              "      <td>0.658448</td>\n",
              "      <td>1.000000</td>\n",
              "    </tr>\n",
              "    <tr>\n",
              "      <th>max</th>\n",
              "      <td>2.181372</td>\n",
              "      <td>1.571899</td>\n",
              "      <td>1.000000</td>\n",
              "    </tr>\n",
              "  </tbody>\n",
              "</table>\n",
              "</div>\n",
              "      <button class=\"colab-df-convert\" onclick=\"convertToInteractive('df-9769175b-cbbc-4e45-8b6c-f984bf510462')\"\n",
              "              title=\"Convert this dataframe to an interactive table.\"\n",
              "              style=\"display:none;\">\n",
              "        \n",
              "  <svg xmlns=\"http://www.w3.org/2000/svg\" height=\"24px\"viewBox=\"0 0 24 24\"\n",
              "       width=\"24px\">\n",
              "    <path d=\"M0 0h24v24H0V0z\" fill=\"none\"/>\n",
              "    <path d=\"M18.56 5.44l.94 2.06.94-2.06 2.06-.94-2.06-.94-.94-2.06-.94 2.06-2.06.94zm-11 1L8.5 8.5l.94-2.06 2.06-.94-2.06-.94L8.5 2.5l-.94 2.06-2.06.94zm10 10l.94 2.06.94-2.06 2.06-.94-2.06-.94-.94-2.06-.94 2.06-2.06.94z\"/><path d=\"M17.41 7.96l-1.37-1.37c-.4-.4-.92-.59-1.43-.59-.52 0-1.04.2-1.43.59L10.3 9.45l-7.72 7.72c-.78.78-.78 2.05 0 2.83L4 21.41c.39.39.9.59 1.41.59.51 0 1.02-.2 1.41-.59l7.78-7.78 2.81-2.81c.8-.78.8-2.07 0-2.86zM5.41 20L4 18.59l7.72-7.72 1.47 1.35L5.41 20z\"/>\n",
              "  </svg>\n",
              "      </button>\n",
              "      \n",
              "  <style>\n",
              "    .colab-df-container {\n",
              "      display:flex;\n",
              "      flex-wrap:wrap;\n",
              "      gap: 12px;\n",
              "    }\n",
              "\n",
              "    .colab-df-convert {\n",
              "      background-color: #E8F0FE;\n",
              "      border: none;\n",
              "      border-radius: 50%;\n",
              "      cursor: pointer;\n",
              "      display: none;\n",
              "      fill: #1967D2;\n",
              "      height: 32px;\n",
              "      padding: 0 0 0 0;\n",
              "      width: 32px;\n",
              "    }\n",
              "\n",
              "    .colab-df-convert:hover {\n",
              "      background-color: #E2EBFA;\n",
              "      box-shadow: 0px 1px 2px rgba(60, 64, 67, 0.3), 0px 1px 3px 1px rgba(60, 64, 67, 0.15);\n",
              "      fill: #174EA6;\n",
              "    }\n",
              "\n",
              "    [theme=dark] .colab-df-convert {\n",
              "      background-color: #3B4455;\n",
              "      fill: #D2E3FC;\n",
              "    }\n",
              "\n",
              "    [theme=dark] .colab-df-convert:hover {\n",
              "      background-color: #434B5C;\n",
              "      box-shadow: 0px 1px 3px 1px rgba(0, 0, 0, 0.15);\n",
              "      filter: drop-shadow(0px 1px 2px rgba(0, 0, 0, 0.3));\n",
              "      fill: #FFFFFF;\n",
              "    }\n",
              "  </style>\n",
              "\n",
              "      <script>\n",
              "        const buttonEl =\n",
              "          document.querySelector('#df-9769175b-cbbc-4e45-8b6c-f984bf510462 button.colab-df-convert');\n",
              "        buttonEl.style.display =\n",
              "          google.colab.kernel.accessAllowed ? 'block' : 'none';\n",
              "\n",
              "        async function convertToInteractive(key) {\n",
              "          const element = document.querySelector('#df-9769175b-cbbc-4e45-8b6c-f984bf510462');\n",
              "          const dataTable =\n",
              "            await google.colab.kernel.invokeFunction('convertToInteractive',\n",
              "                                                     [key], {});\n",
              "          if (!dataTable) return;\n",
              "\n",
              "          const docLinkHtml = 'Like what you see? Visit the ' +\n",
              "            '<a target=\"_blank\" href=https://colab.research.google.com/notebooks/data_table.ipynb>data table notebook</a>'\n",
              "            + ' to learn more about interactive tables.';\n",
              "          element.innerHTML = '';\n",
              "          dataTable['output_type'] = 'display_data';\n",
              "          await google.colab.output.renderOutput(dataTable, element);\n",
              "          const docLink = document.createElement('div');\n",
              "          docLink.innerHTML = docLinkHtml;\n",
              "          element.appendChild(docLink);\n",
              "        }\n",
              "      </script>\n",
              "    </div>\n",
              "  </div>\n",
              "  "
            ]
          },
          "metadata": {},
          "execution_count": 113
        }
      ],
      "source": [
        "ushapedata = pd.read_csv('https://raw.githubusercontent.com/Adityarajora/Complete-KNN-visualization/master/1.ushape.csv',names=['x1', 'x2', 'y'])\n",
        "X = ushapedata[[\"x1\",\"x2\"]].to_numpy()\n",
        "Y = ushapedata[\"y\"].to_numpy()\n",
        "ushapedata.describe()"
      ]
    },
    {
      "cell_type": "markdown",
      "metadata": {
        "id": "lgapbv-nfzde"
      },
      "source": [
        "## Distance metric \n",
        "Pertama kali yang harus dilakukan adalah membuat fungsi metrik jarak. Tulislah kode untuk menghitung jarak menggunakan *Minkowski distance* dengan $p=2$, atau sama dengan Euclidean distance dengan rumus yang telah diberikan sebelumnya, atau:\n",
        "\n",
        "$$\n",
        "\\operatorname{dist}(\\mathbf{x}, \\mathbf{x'})=\\sqrt{\\sum_{i=1}^{n}\\left(x_{i}-x'_{i}\\right)^{2}}\n",
        "$$\n",
        "\n"
      ]
    },
    {
      "cell_type": "code",
      "execution_count": null,
      "metadata": {
        "id": "cJ5dgP-sdlWK"
      },
      "outputs": [],
      "source": [
        "# Jawab:\n",
        "def dist(x,xprime):\n",
        "  \"\"\"\n",
        "  x       : 1xd array titik data\n",
        "  xprime  : 1xd array titik data\n",
        "\n",
        "  returns : jarak Eucledian dari data x ke data xprime\n",
        "  \"\"\"\n",
        "  np.testing.assert_equal(x.shape,xprime.shape)\n",
        "  ### Tulis code di bawah ini:\n",
        "  \n",
        "  distance = np.sqrt(np.sum((x - xprime)**2))\n",
        "    \n",
        "  ### Akhir code\n",
        "\n",
        "  return distance"
      ]
    },
    {
      "cell_type": "markdown",
      "metadata": {
        "id": "f4AGRTmS6_Y7"
      },
      "source": [
        "> **Important reminder**: Ketika melakukan implementasi selalu perhatikan:\n",
        "1. Ukuran dan dimensi matriks input dan output pada fungsi.\n",
        "2. Karakteristik fungsi dari numpy/library yang digunakan.\n",
        "3. Dalam praktik pengembangan software ML, menuliskan docstring seperti diatas dengan informasi dimensi akan sangat membantu."
      ]
    },
    {
      "cell_type": "markdown",
      "metadata": {
        "id": "CnHZ2b9bdl3G"
      },
      "source": [
        "## Core KNN algorithm\n",
        "Berikutnya adalah membuat code untuk mendapatkan nilai jarak dari semua data latih ke data baru yang ingin kita klasifikasikan, kemudian lakukan sorting pada array jarak tersebut dari nilai distance yang terkecil ke yang terbesar.\n",
        "\n",
        "Tulis kode penghitungan nilai distance tiap data training dibawah ini, sertakan juga index dari set distance tersebut\n",
        "\n",
        "  hint: \n",
        "  1. gunakan fungsi dist yang telah anda tulis sebelumnya\n",
        "  2. gunakan fungsi np.sort untuk melakukan sorting \n",
        "  3. untuk mendapatkan indeks yang telah terurut bisa menggunakan np.argsort"
      ]
    },
    {
      "cell_type": "code",
      "execution_count": null,
      "metadata": {
        "id": "mtpOHKY_dnBJ"
      },
      "outputs": [],
      "source": [
        "# Jawab:\n",
        "def knn(X_train, x_new, k):\n",
        "  \"\"\"\n",
        "  X_train : N x d array data training\n",
        "  x_new   : 1 x d array data baru\n",
        "  k       : hyperparameter k, jumlah data yang menjadi tetangga \n",
        "\n",
        "  returns : K array indeks dan K array nilai distance yang telah di urutkan dari terkecil ke terbesar \n",
        "  \"\"\"\n",
        "  \n",
        "  ### Tulis code di bawah ini:\n",
        "  distance_list = [dist(x[None,:],x_new) for x in X_train]\n",
        "  distances = np.sort(distance_list)[:k]\n",
        "  indices = np.argsort(distance_list)[:k]\n",
        "  ### Akhir code\n",
        "\n",
        "  return indices, distances"
      ]
    },
    {
      "cell_type": "markdown",
      "metadata": {
        "id": "ldvCKz4qdnLy"
      },
      "source": [
        "## Classification output\n",
        "Berikutnya adalah membuat kode untuk mendapatkan label dari data baru kita, untuk menentukan label dari data baru, kita dapat menggunakan majority voting \n",
        "label dari $S_x$. Secara matematis, peluang data baru $x_0$ memiliki label $j$ dapat dihitung dengan:\n",
        "\n",
        "$$\n",
        "\\operatorname{Pr}\\left(Y=j \\mid X=x_{0}\\right)=\\frac{1}{|S_x|} \\sum_{i \\in \\mathcal{N}_{S_x}} I\\left(y_{i}=j\\right)\n",
        "$$\n",
        "\n",
        "$\\mathcal{N}_{S_x}$ adalah set index dari $S_x$, dan $I$ adalah indicator function yang bernilai 1 apabila $y_i=j$ dan 0 jika $y_i \\neq j$. \n",
        "\n",
        "Sehingga dalam implementasinya, label dari data baru $x_0$ adalah $j$ ketika ${Pr}\\left(Y=j \\mid X=x_{0}\\right)$ memberikan nilai tertinggi dibanding selain $j$."
      ]
    },
    {
      "cell_type": "code",
      "execution_count": null,
      "metadata": {
        "id": "BOyyw1D5dnU5"
      },
      "outputs": [],
      "source": [
        "def label_prob(y_train_k, j, k):\n",
        "  \"\"\"\n",
        "  y_train_k : K x 1 array K data training paling dekat dengan data baru\n",
        "  j         : label yang ingin dihitung probabilitasnya\n",
        "  k         : hyperparameter k, jumlah data yang menjadi tetangga\n",
        "\n",
        "  returns   : probabilitas label j\n",
        "  \"\"\"\n",
        "  \n",
        "  j_k = np.tile(j,k)\n",
        "  indicator = [1 if eq else 0 for eq in np.equal(y_train_k, j_k)]\n",
        "  prob = np.sum(indicator)/k\n",
        "\n",
        "  return prob"
      ]
    },
    {
      "cell_type": "markdown",
      "metadata": {
        "id": "LtHhDHdAdnvV"
      },
      "source": [
        "## Prediction\n",
        "Sekarang kita gabungkan semua kode yang tadi untuk melakukan prediksi terhadap data baru"
      ]
    },
    {
      "cell_type": "code",
      "execution_count": null,
      "metadata": {
        "id": "grC_P1NLdoG7"
      },
      "outputs": [],
      "source": [
        "def knn_predict(X_train, y_train, x_new_list, k =10):\n",
        "  \"\"\"\n",
        "  X_train     : N x d array data training\n",
        "  y_train     : N x 1 array label training\n",
        "  x_new_list  : M x d array data baru\n",
        "  k           : hyperparameter k, jumlah data yang menjadi tetangga\n",
        "\n",
        "  returns     : M x 1 label data baru \n",
        "  \"\"\"\n",
        "  labels_of_k = []\n",
        "  for x_new in x_new_list:\n",
        "    indices, distances = knn(X_train, x_new[None,:], k)\n",
        "    labels = np.unique(y_train)\n",
        "    y_train_k = y_train[indices]\n",
        "    probs = [label_prob(y_train_k, j, k) for j in labels]\n",
        "    labels_of_k.append(labels[np.argmax(probs)])\n",
        "\n",
        "  return np.array(labels_of_k)"
      ]
    },
    {
      "cell_type": "markdown",
      "metadata": {
        "id": "wIcZAxtdeWJb"
      },
      "source": [
        "Kita coba melakukan prediksi pada titik $(-1,1)$, $(2,-1)$ dan $(0.7,0)$\n"
      ]
    },
    {
      "cell_type": "code",
      "execution_count": null,
      "metadata": {
        "colab": {
          "base_uri": "https://localhost:8080/",
          "height": 459
        },
        "id": "3yr4UCcneWTd",
        "outputId": "2c9341dc-8fec-4473-b528-e16dd425dee3"
      },
      "outputs": [
        {
          "output_type": "display_data",
          "data": {
            "text/plain": [
              "<matplotlib.axes._subplots.AxesSubplot at 0x7fdfaef96950>"
            ]
          },
          "metadata": {}
        },
        {
          "output_type": "display_data",
          "data": {
            "text/plain": [
              "<Figure size 720x504 with 1 Axes>"
            ],
            "image/png": "[encoded data removed]"
          },
          "metadata": {
            "needs_background": "light"
          }
        }
      ],
      "source": [
        "data_with_new_point = ushapedata.append([{\"x1\":-1.,\"x2\":1   ,\"y\":\"new data\"},\n",
        "                                         {\"x1\":2. ,\"x2\":-0.5,\"y\":\"new data\"},\n",
        "                                         {\"x1\":0.7,\"x2\":0.  ,\"y\":\"new data\"}], ignore_index=True)\n",
        "\n",
        "display(sns.scatterplot(data=data_with_new_point, x=\"x1\", y=\"x2\",hue='y',palette='deep'))"
      ]
    },
    {
      "cell_type": "markdown",
      "metadata": {
        "id": "hB41BoQPefZi"
      },
      "source": [
        "Kita dapat melakukan prediksi pada data tersebut dengan memanggil fungsi `knn_predict` yang telah kita tulis:"
      ]
    },
    {
      "cell_type": "code",
      "execution_count": null,
      "metadata": {
        "colab": {
          "base_uri": "https://localhost:8080/"
        },
        "id": "IX4c7EhDefkB",
        "outputId": "8547958a-c5c4-46ec-a85e-b3ab6259c93a"
      },
      "outputs": [
        {
          "output_type": "execute_result",
          "data": {
            "text/plain": [
              "array([0., 1., 0.])"
            ]
          },
          "metadata": {},
          "execution_count": 119
        }
      ],
      "source": [
        "new_data_list = np.array([[-1.,1.], [2.,-0.5], [0.7,0.]])\n",
        "knn_predict(X,Y,new_data_list)"
      ]
    },
    {
      "cell_type": "markdown",
      "metadata": {
        "id": "OcrWasitv8ay"
      },
      "source": [
        "# Tugas\n",
        "Lakukan percobaan yang sama dengan di atas, namun menggunakan library scikit-learn, lalu bandingkan hasilnya."
      ]
    },
    {
      "cell_type": "code",
      "source": [
        "# Melakukan percobaan klasifikasi diatas menggunakan library scikit-learn\n",
        "\n",
        "'''\n",
        "  model_kNN     : Model kNN yang dibuat menggunakan library scikit-learn\n",
        "  new_data_list : Data baru yang akan diprediksi\n",
        "'''\n",
        "\n",
        "new_data_list = np.array([[-1.,1.], [2.,-0.5], [0.7,0.]])\n",
        "\n",
        "# Digunakan kNN dengan k = 10 dan metric 'euclidean' (minkowski p = 2) agar sama dengan percobaan kNN from scratch \n",
        "model_kNN = KNeighborsClassifier(n_neighbors = 10, metric = 'euclidean') \n",
        "\n",
        "# latih data\n",
        "model_kNN.fit(X, Y)\n",
        "\n",
        "# Lakukan prediksi dengan new_data_list\n",
        "model_kNN.predict(new_data_list)\n",
        "# Hasil didapat sama dengan saat mengunakan kNN from scrath"
      ],
      "metadata": {
        "colab": {
          "base_uri": "https://localhost:8080/"
        },
        "id": "zMSMCpVBzrNB",
        "outputId": "dd468b16-7d61-47f4-ed13-43d77d45a46f"
      },
      "execution_count": null,
      "outputs": [
        {
          "output_type": "execute_result",
          "data": {
            "text/plain": [
              "array([0., 1., 0.])"
            ]
          },
          "metadata": {},
          "execution_count": 120
        }
      ]
    },
    {
      "cell_type": "markdown",
      "metadata": {
        "id": "RalSMYE-ekzY"
      },
      "source": [
        "## 3.2. Cross validation\n",
        "Berikutnya kita evaluasi model kita menggunakan *cross validation*. Sebagai catatan disini kita menggunakan nilai $k=10$ sebagai hyperparameter dan menggunakan scikit-learn untuk membantu melakukan K-fold cross validation."
      ]
    },
    {
      "cell_type": "code",
      "execution_count": null,
      "metadata": {
        "colab": {
          "base_uri": "https://localhost:8080/"
        },
        "id": "WVwcJLByek8u",
        "outputId": "80083178-5c11-437a-c2eb-f5c47a0fd7b6"
      },
      "outputs": [
        {
          "output_type": "stream",
          "name": "stdout",
          "text": [
            "average error:  0.08\n"
          ]
        }
      ],
      "source": [
        "from sklearn.model_selection import KFold\n",
        "\n",
        "K = 10\n",
        "n_fold = 10\n",
        "\n",
        "def cross_val_error(X, Y, k=K, k_kfold=n_fold):\n",
        "  kf = KFold(n_splits=k_kfold)\n",
        "  kf.get_n_splits(X)\n",
        "\n",
        "  total_error = 0\n",
        "  for train_index, test_index in kf.split(X):\n",
        "    X_train, X_test = X[train_index], X[test_index]\n",
        "    y_train, y_test = Y[train_index], Y[test_index]\n",
        "    y_pred = knn_predict(X_train, y_train, X_test,k)\n",
        "    error = np.sum(y_pred != y_test) / float(y_test.size)\n",
        "    total_error = total_error + error\n",
        "\n",
        "  return total_error/k_kfold\n",
        "\n",
        "print(\"average error: \", cross_val_error(X,Y))"
      ]
    },
    {
      "cell_type": "markdown",
      "metadata": {
        "id": "3XRS3868elcl"
      },
      "source": [
        "Apakah $k=10$ merupakan hyperparameter terbaik? Untuk mendapatkan $k$ terbaik atau dapat dikatakan pula menyeimbangkan bias-variance tradeoff, kita dapat melakukan pencarian dengan menguji performa KNN dengan cross validation dengan langkah sebagai berikut:\n",
        "\n",
        "1. Bagi data latih kedalam kfold set dengan ukuran yang sama secara acak\n",
        "2. Gunakan sebagian set sebagai data latih dan sisanya sebagai data validasi, sedemikian sehingga semua set digunakan sebagai data validasi setidaknya sekali.\n",
        "3. Pada tiap data validasi hitung errornya\n",
        "4. Dapatkan error rata-rata dari semua data validasi\n",
        "5. Pilih $k$ dengan rata-rata error paling kecil"
      ]
    },
    {
      "cell_type": "markdown",
      "metadata": {
        "id": "hwVZpUXfjx5o"
      },
      "source": [
        "Kita telah menulis fungsi menghitung rata-rata error tiap set validasi dari KFold ccross validation menggunakan scikit-learn di cell atas, \n",
        "sehingga sekarang kita tinggal menjalankan fungsi tersebut dengan nilai $k$ yang berbeda. Kita visualisasikan error yang didapat ketika nilai $k$ bervariasi dari 1 sampai dengan 25. "
      ]
    },
    {
      "cell_type": "code",
      "execution_count": null,
      "metadata": {
        "colab": {
          "base_uri": "https://localhost:8080/",
          "height": 459
        },
        "id": "PT89_1Q9elkS",
        "outputId": "c18b2082-3eef-4ad2-dc6f-3f3af2d4e761"
      },
      "outputs": [
        {
          "output_type": "stream",
          "name": "stdout",
          "text": [
            "best at k =  3\n"
          ]
        },
        {
          "output_type": "display_data",
          "data": {
            "text/plain": [
              "<Figure size 720x504 with 1 Axes>"
            ],
            "image/png": "[encoded data removed]"
          },
          "metadata": {
            "needs_background": "light"
          }
        }
      ],
      "source": [
        "error_k = [cross_val_error(X,Y,k) for k in np.arange(1,26)]\n",
        "plt.plot(np.arange(1,26),error_k)\n",
        "plt.xlabel(\"k\")\n",
        "plt.ylabel(\"error\")\n",
        "print(\"best at k = \",np.argmin(error_k)+1)"
      ]
    },
    {
      "cell_type": "markdown",
      "metadata": {
        "id": "mhZ7FIbzv8a1"
      },
      "source": [
        "Dapat kita lihat bahwa rata-rata error terkecil bisa kita dapatkan ketika $k$ bernilai 3."
      ]
    },
    {
      "cell_type": "markdown",
      "metadata": {
        "id": "Y4rjfhiIP509",
        "tags": []
      },
      "source": [
        "## 3.3. KNN sebagai model regresi"
      ]
    },
    {
      "cell_type": "markdown",
      "metadata": {
        "id": "DhZEKDLTRwe7"
      },
      "source": [
        "Pada Sub bab ini kita akan menggunakan KNN untuk kasus regresi. Tujuan dari penggunaan KNN kali ini untuk regresi nilai **Sales** dari 3 buah input yaitu pengeluaran iklan di **TV**, **Radio** dan **Newspaper**."
      ]
    },
    {
      "cell_type": "code",
      "execution_count": null,
      "metadata": {
        "colab": {
          "base_uri": "https://localhost:8080/",
          "height": 206
        },
        "id": "Bo6hTGCTyVnL",
        "outputId": "e32ff7bb-987a-4f83-e72e-751dd738842e"
      },
      "outputs": [
        {
          "output_type": "execute_result",
          "data": {
            "text/plain": [
              "   Unnamed: 0     TV  Radio  Newspaper  Sales\n",
              "0           1  230.1   37.8       69.2   22.1\n",
              "1           2   44.5   39.3       45.1   10.4\n",
              "2           3   17.2   45.9       69.3    9.3\n",
              "3           4  151.5   41.3       58.5   18.5\n",
              "4           5  180.8   10.8       58.4   12.9"
            ],
            "text/html": [
              "\n",
              "  <div id=\"df-0bfd85d8-49c7-445c-8185-5a06d159b1dd\">\n",
              "    <div class=\"colab-df-container\">\n",
              "      <div>\n",
              "<style scoped>\n",
              "    .dataframe tbody tr th:only-of-type {\n",
              "        vertical-align: middle;\n",
              "    }\n",
              "\n",
              "    .dataframe tbody tr th {\n",
              "        vertical-align: top;\n",
              "    }\n",
              "\n",
              "    .dataframe thead th {\n",
              "        text-align: right;\n",
              "    }\n",
              "</style>\n",
              "<table border=\"1\" class=\"dataframe\">\n",
              "  <thead>\n",
              "    <tr style=\"text-align: right;\">\n",
              "      <th></th>\n",
              "      <th>Unnamed: 0</th>\n",
              "      <th>TV</th>\n",
              "      <th>Radio</th>\n",
              "      <th>Newspaper</th>\n",
              "      <th>Sales</th>\n",
              "    </tr>\n",
              "  </thead>\n",
              "  <tbody>\n",
              "    <tr>\n",
              "      <th>0</th>\n",
              "      <td>1</td>\n",
              "      <td>230.1</td>\n",
              "      <td>37.8</td>\n",
              "      <td>69.2</td>\n",
              "      <td>22.1</td>\n",
              "    </tr>\n",
              "    <tr>\n",
              "      <th>1</th>\n",
              "      <td>2</td>\n",
              "      <td>44.5</td>\n",
              "      <td>39.3</td>\n",
              "      <td>45.1</td>\n",
              "      <td>10.4</td>\n",
              "    </tr>\n",
              "    <tr>\n",
              "      <th>2</th>\n",
              "      <td>3</td>\n",
              "      <td>17.2</td>\n",
              "      <td>45.9</td>\n",
              "      <td>69.3</td>\n",
              "      <td>9.3</td>\n",
              "    </tr>\n",
              "    <tr>\n",
              "      <th>3</th>\n",
              "      <td>4</td>\n",
              "      <td>151.5</td>\n",
              "      <td>41.3</td>\n",
              "      <td>58.5</td>\n",
              "      <td>18.5</td>\n",
              "    </tr>\n",
              "    <tr>\n",
              "      <th>4</th>\n",
              "      <td>5</td>\n",
              "      <td>180.8</td>\n",
              "      <td>10.8</td>\n",
              "      <td>58.4</td>\n",
              "      <td>12.9</td>\n",
              "    </tr>\n",
              "  </tbody>\n",
              "</table>\n",
              "</div>\n",
              "      <button class=\"colab-df-convert\" onclick=\"convertToInteractive('df-0bfd85d8-49c7-445c-8185-5a06d159b1dd')\"\n",
              "              title=\"Convert this dataframe to an interactive table.\"\n",
              "              style=\"display:none;\">\n",
              "        \n",
              "  <svg xmlns=\"http://www.w3.org/2000/svg\" height=\"24px\"viewBox=\"0 0 24 24\"\n",
              "       width=\"24px\">\n",
              "    <path d=\"M0 0h24v24H0V0z\" fill=\"none\"/>\n",
              "    <path d=\"M18.56 5.44l.94 2.06.94-2.06 2.06-.94-2.06-.94-.94-2.06-.94 2.06-2.06.94zm-11 1L8.5 8.5l.94-2.06 2.06-.94-2.06-.94L8.5 2.5l-.94 2.06-2.06.94zm10 10l.94 2.06.94-2.06 2.06-.94-2.06-.94-.94-2.06-.94 2.06-2.06.94z\"/><path d=\"M17.41 7.96l-1.37-1.37c-.4-.4-.92-.59-1.43-.59-.52 0-1.04.2-1.43.59L10.3 9.45l-7.72 7.72c-.78.78-.78 2.05 0 2.83L4 21.41c.39.39.9.59 1.41.59.51 0 1.02-.2 1.41-.59l7.78-7.78 2.81-2.81c.8-.78.8-2.07 0-2.86zM5.41 20L4 18.59l7.72-7.72 1.47 1.35L5.41 20z\"/>\n",
              "  </svg>\n",
              "      </button>\n",
              "      \n",
              "  <style>\n",
              "    .colab-df-container {\n",
              "      display:flex;\n",
              "      flex-wrap:wrap;\n",
              "      gap: 12px;\n",
              "    }\n",
              "\n",
              "    .colab-df-convert {\n",
              "      background-color: #E8F0FE;\n",
              "      border: none;\n",
              "      border-radius: 50%;\n",
              "      cursor: pointer;\n",
              "      display: none;\n",
              "      fill: #1967D2;\n",
              "      height: 32px;\n",
              "      padding: 0 0 0 0;\n",
              "      width: 32px;\n",
              "    }\n",
              "\n",
              "    .colab-df-convert:hover {\n",
              "      background-color: #E2EBFA;\n",
              "      box-shadow: 0px 1px 2px rgba(60, 64, 67, 0.3), 0px 1px 3px 1px rgba(60, 64, 67, 0.15);\n",
              "      fill: #174EA6;\n",
              "    }\n",
              "\n",
              "    [theme=dark] .colab-df-convert {\n",
              "      background-color: #3B4455;\n",
              "      fill: #D2E3FC;\n",
              "    }\n",
              "\n",
              "    [theme=dark] .colab-df-convert:hover {\n",
              "      background-color: #434B5C;\n",
              "      box-shadow: 0px 1px 3px 1px rgba(0, 0, 0, 0.15);\n",
              "      filter: drop-shadow(0px 1px 2px rgba(0, 0, 0, 0.3));\n",
              "      fill: #FFFFFF;\n",
              "    }\n",
              "  </style>\n",
              "\n",
              "      <script>\n",
              "        const buttonEl =\n",
              "          document.querySelector('#df-0bfd85d8-49c7-445c-8185-5a06d159b1dd button.colab-df-convert');\n",
              "        buttonEl.style.display =\n",
              "          google.colab.kernel.accessAllowed ? 'block' : 'none';\n",
              "\n",
              "        async function convertToInteractive(key) {\n",
              "          const element = document.querySelector('#df-0bfd85d8-49c7-445c-8185-5a06d159b1dd');\n",
              "          const dataTable =\n",
              "            await google.colab.kernel.invokeFunction('convertToInteractive',\n",
              "                                                     [key], {});\n",
              "          if (!dataTable) return;\n",
              "\n",
              "          const docLinkHtml = 'Like what you see? Visit the ' +\n",
              "            '<a target=\"_blank\" href=https://colab.research.google.com/notebooks/data_table.ipynb>data table notebook</a>'\n",
              "            + ' to learn more about interactive tables.';\n",
              "          element.innerHTML = '';\n",
              "          dataTable['output_type'] = 'display_data';\n",
              "          await google.colab.output.renderOutput(dataTable, element);\n",
              "          const docLink = document.createElement('div');\n",
              "          docLink.innerHTML = docLinkHtml;\n",
              "          element.appendChild(docLink);\n",
              "        }\n",
              "      </script>\n",
              "    </div>\n",
              "  </div>\n",
              "  "
            ]
          },
          "metadata": {},
          "execution_count": 123
        }
      ],
      "source": [
        "# Load data\n",
        "salesdata = pd.read_csv('https://raw.githubusercontent.com/JWarmenhoven/ISLR-python/master/Notebooks/Data/Advertising.csv')\n",
        "X = salesdata[[\"TV\",\"Radio\",\"Newspaper\"]].to_numpy()\n",
        "Y = salesdata[\"Sales\"].to_numpy()\n",
        "\n",
        "# Tampilkan 5 data pertama\n",
        "salesdata.head(5)"
      ]
    },
    {
      "cell_type": "markdown",
      "metadata": {
        "id": "btysqOks3NGq"
      },
      "source": [
        "Summary statistik dari data kita adalah sebagai berikut:"
      ]
    },
    {
      "cell_type": "code",
      "execution_count": null,
      "metadata": {
        "colab": {
          "base_uri": "https://localhost:8080/",
          "height": 300
        },
        "id": "HMb4fwG03Lzr",
        "outputId": "c299a7df-9e4e-4062-c08a-f2e10d628c60"
      },
      "outputs": [
        {
          "output_type": "execute_result",
          "data": {
            "text/plain": [
              "       Unnamed: 0          TV       Radio   Newspaper       Sales\n",
              "count  200.000000  200.000000  200.000000  200.000000  200.000000\n",
              "mean   100.500000  147.042500   23.264000   30.554000   14.022500\n",
              "std     57.879185   85.854236   14.846809   21.778621    5.217457\n",
              "min      1.000000    0.700000    0.000000    0.300000    1.600000\n",
              "25%     50.750000   74.375000    9.975000   12.750000   10.375000\n",
              "50%    100.500000  149.750000   22.900000   25.750000   12.900000\n",
              "75%    150.250000  218.825000   36.525000   45.100000   17.400000\n",
              "max    200.000000  296.400000   49.600000  114.000000   27.000000"
            ],
            "text/html": [
              "\n",
              "  <div id=\"df-6a45ed88-d0c6-4c59-9eb8-b5c6a56ea688\">\n",
              "    <div class=\"colab-df-container\">\n",
              "      <div>\n",
              "<style scoped>\n",
              "    .dataframe tbody tr th:only-of-type {\n",
              "        vertical-align: middle;\n",
              "    }\n",
              "\n",
              "    .dataframe tbody tr th {\n",
              "        vertical-align: top;\n",
              "    }\n",
              "\n",
              "    .dataframe thead th {\n",
              "        text-align: right;\n",
              "    }\n",
              "</style>\n",
              "<table border=\"1\" class=\"dataframe\">\n",
              "  <thead>\n",
              "    <tr style=\"text-align: right;\">\n",
              "      <th></th>\n",
              "      <th>Unnamed: 0</th>\n",
              "      <th>TV</th>\n",
              "      <th>Radio</th>\n",
              "      <th>Newspaper</th>\n",
              "      <th>Sales</th>\n",
              "    </tr>\n",
              "  </thead>\n",
              "  <tbody>\n",
              "    <tr>\n",
              "      <th>count</th>\n",
              "      <td>200.000000</td>\n",
              "      <td>200.000000</td>\n",
              "      <td>200.000000</td>\n",
              "      <td>200.000000</td>\n",
              "      <td>200.000000</td>\n",
              "    </tr>\n",
              "    <tr>\n",
              "      <th>mean</th>\n",
              "      <td>100.500000</td>\n",
              "      <td>147.042500</td>\n",
              "      <td>23.264000</td>\n",
              "      <td>30.554000</td>\n",
              "      <td>14.022500</td>\n",
              "    </tr>\n",
              "    <tr>\n",
              "      <th>std</th>\n",
              "      <td>57.879185</td>\n",
              "      <td>85.854236</td>\n",
              "      <td>14.846809</td>\n",
              "      <td>21.778621</td>\n",
              "      <td>5.217457</td>\n",
              "    </tr>\n",
              "    <tr>\n",
              "      <th>min</th>\n",
              "      <td>1.000000</td>\n",
              "      <td>0.700000</td>\n",
              "      <td>0.000000</td>\n",
              "      <td>0.300000</td>\n",
              "      <td>1.600000</td>\n",
              "    </tr>\n",
              "    <tr>\n",
              "      <th>25%</th>\n",
              "      <td>50.750000</td>\n",
              "      <td>74.375000</td>\n",
              "      <td>9.975000</td>\n",
              "      <td>12.750000</td>\n",
              "      <td>10.375000</td>\n",
              "    </tr>\n",
              "    <tr>\n",
              "      <th>50%</th>\n",
              "      <td>100.500000</td>\n",
              "      <td>149.750000</td>\n",
              "      <td>22.900000</td>\n",
              "      <td>25.750000</td>\n",
              "      <td>12.900000</td>\n",
              "    </tr>\n",
              "    <tr>\n",
              "      <th>75%</th>\n",
              "      <td>150.250000</td>\n",
              "      <td>218.825000</td>\n",
              "      <td>36.525000</td>\n",
              "      <td>45.100000</td>\n",
              "      <td>17.400000</td>\n",
              "    </tr>\n",
              "    <tr>\n",
              "      <th>max</th>\n",
              "      <td>200.000000</td>\n",
              "      <td>296.400000</td>\n",
              "      <td>49.600000</td>\n",
              "      <td>114.000000</td>\n",
              "      <td>27.000000</td>\n",
              "    </tr>\n",
              "  </tbody>\n",
              "</table>\n",
              "</div>\n",
              "      <button class=\"colab-df-convert\" onclick=\"convertToInteractive('df-6a45ed88-d0c6-4c59-9eb8-b5c6a56ea688')\"\n",
              "              title=\"Convert this dataframe to an interactive table.\"\n",
              "              style=\"display:none;\">\n",
              "        \n",
              "  <svg xmlns=\"http://www.w3.org/2000/svg\" height=\"24px\"viewBox=\"0 0 24 24\"\n",
              "       width=\"24px\">\n",
              "    <path d=\"M0 0h24v24H0V0z\" fill=\"none\"/>\n",
              "    <path d=\"M18.56 5.44l.94 2.06.94-2.06 2.06-.94-2.06-.94-.94-2.06-.94 2.06-2.06.94zm-11 1L8.5 8.5l.94-2.06 2.06-.94-2.06-.94L8.5 2.5l-.94 2.06-2.06.94zm10 10l.94 2.06.94-2.06 2.06-.94-2.06-.94-.94-2.06-.94 2.06-2.06.94z\"/><path d=\"M17.41 7.96l-1.37-1.37c-.4-.4-.92-.59-1.43-.59-.52 0-1.04.2-1.43.59L10.3 9.45l-7.72 7.72c-.78.78-.78 2.05 0 2.83L4 21.41c.39.39.9.59 1.41.59.51 0 1.02-.2 1.41-.59l7.78-7.78 2.81-2.81c.8-.78.8-2.07 0-2.86zM5.41 20L4 18.59l7.72-7.72 1.47 1.35L5.41 20z\"/>\n",
              "  </svg>\n",
              "      </button>\n",
              "      \n",
              "  <style>\n",
              "    .colab-df-container {\n",
              "      display:flex;\n",
              "      flex-wrap:wrap;\n",
              "      gap: 12px;\n",
              "    }\n",
              "\n",
              "    .colab-df-convert {\n",
              "      background-color: #E8F0FE;\n",
              "      border: none;\n",
              "      border-radius: 50%;\n",
              "      cursor: pointer;\n",
              "      display: none;\n",
              "      fill: #1967D2;\n",
              "      height: 32px;\n",
              "      padding: 0 0 0 0;\n",
              "      width: 32px;\n",
              "    }\n",
              "\n",
              "    .colab-df-convert:hover {\n",
              "      background-color: #E2EBFA;\n",
              "      box-shadow: 0px 1px 2px rgba(60, 64, 67, 0.3), 0px 1px 3px 1px rgba(60, 64, 67, 0.15);\n",
              "      fill: #174EA6;\n",
              "    }\n",
              "\n",
              "    [theme=dark] .colab-df-convert {\n",
              "      background-color: #3B4455;\n",
              "      fill: #D2E3FC;\n",
              "    }\n",
              "\n",
              "    [theme=dark] .colab-df-convert:hover {\n",
              "      background-color: #434B5C;\n",
              "      box-shadow: 0px 1px 3px 1px rgba(0, 0, 0, 0.15);\n",
              "      filter: drop-shadow(0px 1px 2px rgba(0, 0, 0, 0.3));\n",
              "      fill: #FFFFFF;\n",
              "    }\n",
              "  </style>\n",
              "\n",
              "      <script>\n",
              "        const buttonEl =\n",
              "          document.querySelector('#df-6a45ed88-d0c6-4c59-9eb8-b5c6a56ea688 button.colab-df-convert');\n",
              "        buttonEl.style.display =\n",
              "          google.colab.kernel.accessAllowed ? 'block' : 'none';\n",
              "\n",
              "        async function convertToInteractive(key) {\n",
              "          const element = document.querySelector('#df-6a45ed88-d0c6-4c59-9eb8-b5c6a56ea688');\n",
              "          const dataTable =\n",
              "            await google.colab.kernel.invokeFunction('convertToInteractive',\n",
              "                                                     [key], {});\n",
              "          if (!dataTable) return;\n",
              "\n",
              "          const docLinkHtml = 'Like what you see? Visit the ' +\n",
              "            '<a target=\"_blank\" href=https://colab.research.google.com/notebooks/data_table.ipynb>data table notebook</a>'\n",
              "            + ' to learn more about interactive tables.';\n",
              "          element.innerHTML = '';\n",
              "          dataTable['output_type'] = 'display_data';\n",
              "          await google.colab.output.renderOutput(dataTable, element);\n",
              "          const docLink = document.createElement('div');\n",
              "          docLink.innerHTML = docLinkHtml;\n",
              "          element.appendChild(docLink);\n",
              "        }\n",
              "      </script>\n",
              "    </div>\n",
              "  </div>\n",
              "  "
            ]
          },
          "metadata": {},
          "execution_count": 124
        }
      ],
      "source": [
        "salesdata.describe()"
      ]
    },
    {
      "cell_type": "markdown",
      "metadata": {
        "id": "fxpe2E9P1Log"
      },
      "source": [
        "Kita bagi datanya menjadi data latih dan data uji dengan rasio 7:3"
      ]
    },
    {
      "cell_type": "code",
      "execution_count": null,
      "metadata": {
        "id": "roCbVuhe1pjY"
      },
      "outputs": [],
      "source": [
        "from sklearn.model_selection import train_test_split\n",
        "\n",
        "X_train, X_test, y_train, y_test = train_test_split(X, Y, test_size=0.30, random_state=87)"
      ]
    },
    {
      "cell_type": "markdown",
      "metadata": {
        "id": "9-VryTFTx8CX"
      },
      "source": [
        "Secara algoritma, regresi menggunakan KNN hampir sama dengan kasus klasifikasi. Oleh karena itu kita dapat menggunakan fungsi `distance` dan `knn` dari sub bab `3.1`. Yang membedakan adalah output dari prediksinya. Dalam kasus regresi, kita dapat mengambil nilai rerata dari $k$ titik tetangga terdekat dengan data baru yang ingin kita prediksi nilai outputnya. Secara matematis dapat dituliskan sebagai berikut:\n",
        "\n",
        "$$\n",
        "\\hat{f}\\left(x_{0}\\right)=\\frac{1}{K} \\sum_{i \\in \\mathcal{N}_{S_x}} y_{i}\n",
        "$$"
      ]
    },
    {
      "cell_type": "markdown",
      "metadata": {
        "id": "VS5BT904R4u6"
      },
      "source": [
        "Maka fungsi untuk mengambil rata rata dari $k$-data untuk memprediksi output data baru dapat dituliskan sebagai berikut:"
      ]
    },
    {
      "cell_type": "code",
      "execution_count": null,
      "metadata": {
        "id": "buXOlwlASn6K"
      },
      "outputs": [],
      "source": [
        "def knn_predict(X_train, y_train, x_new_list, k=10):\n",
        "  \"\"\"\n",
        "  X_train: N x d array data training\n",
        "  y_train: N x 1 array label training\n",
        "  x_new_list  : N x d array data baru\n",
        "  \"\"\"\n",
        "  \n",
        "  y_pred_list = []\n",
        "\n",
        "  for x_new in x_new_list:\n",
        "    indices, distances = knn(X_train, x_new[None,:], k)\n",
        "    y_train_k = y_train[indices]\n",
        "    y_pred_list.append(np.sum(y_train_k)/k)\n",
        "  \n",
        "  return np.array(y_pred_list)"
      ]
    },
    {
      "cell_type": "markdown",
      "metadata": {
        "id": "SS4oQUca5MwW"
      },
      "source": [
        "Untuk mengevaluasi model kita kita dapat menghitung Root Mean Square Error(RMSE) dari prediksi model kita dengan nilai output data testing sebenarnya."
      ]
    },
    {
      "cell_type": "code",
      "execution_count": null,
      "metadata": {
        "id": "4EokFfE0401V",
        "colab": {
          "base_uri": "https://localhost:8080/"
        },
        "outputId": "7ddf1df9-270c-4a5d-cc4a-179844a565cc"
      },
      "outputs": [
        {
          "output_type": "execute_result",
          "data": {
            "text/plain": [
              "1.8596966598525326"
            ]
          },
          "metadata": {},
          "execution_count": 127
        }
      ],
      "source": [
        "# Jawab:\n",
        "\n",
        "k = 10\n",
        "\n",
        "# hasil prediksi:\n",
        "y_pred = knn_predict(X_train, y_train, X_test, k)\n",
        "\n",
        "# Hitung RMSE dari y_pred\n",
        "np.sqrt(np.mean((y_pred - y_test)**2))\n"
      ]
    },
    {
      "cell_type": "markdown",
      "metadata": {
        "id": "MEoBeH3SHq0q"
      },
      "source": [
        "Untuk memvisualisasikannya kita dapat menggunakan pair plot sederhana antara nilai sebenarnya dengan prediksi dari KNN kita:"
      ]
    },
    {
      "cell_type": "code",
      "execution_count": null,
      "metadata": {
        "id": "Lteeh96pBddu",
        "colab": {
          "base_uri": "https://localhost:8080/",
          "height": 459
        },
        "outputId": "243dc1aa-0060-4e45-aefe-b3b92b339727"
      },
      "outputs": [
        {
          "output_type": "execute_result",
          "data": {
            "text/plain": [
              "<matplotlib.legend.Legend at 0x7fdfaa299250>"
            ]
          },
          "metadata": {},
          "execution_count": 128
        },
        {
          "output_type": "display_data",
          "data": {
            "text/plain": [
              "<Figure size 720x504 with 1 Axes>"
            ],
            "image/png": "[encoded data removed]"
          },
          "metadata": {
            "needs_background": "light"
          }
        }
      ],
      "source": [
        "plt.plot(y_test,y_test, label=\"true value\")\n",
        "plt.scatter(y_pred, y_test)\n",
        "plt.xlabel(\"Sales prediction\")\n",
        "plt.ylabel(\"True sales value\")\n",
        "plt.legend()"
      ]
    },
    {
      "cell_type": "markdown",
      "metadata": {
        "id": "Jk7s0ZT7Hsqg"
      },
      "source": [
        "Jika implemetasi Anda benar maka hasil dari scatter plot dekat dengan garis true value."
      ]
    },
    {
      "cell_type": "markdown",
      "metadata": {
        "id": "BoUIjXPG7GEw"
      },
      "source": [
        "## 3.4. Cross validation untuk mendapatkan nilai k optimum\n",
        "Kita juga dapat melakukan cross validation seperti di Sub bab 3.2 untuk mendapatkan nilai $k$ terbaik. Perbedaannya adalah penggunaan RMSE untuk menghitung error."
      ]
    },
    {
      "cell_type": "code",
      "execution_count": null,
      "metadata": {
        "id": "glf2uPtv7MTn",
        "colab": {
          "base_uri": "https://localhost:8080/"
        },
        "outputId": "fe38c832-ee73-4584-802d-83d2130d77f6"
      },
      "outputs": [
        {
          "output_type": "stream",
          "name": "stdout",
          "text": [
            "RMSE on 10-Fold :  1.919062224407569\n"
          ]
        }
      ],
      "source": [
        "from sklearn.model_selection import KFold\n",
        "\n",
        "K = 10\n",
        "n_fold = 10\n",
        "\n",
        "def cross_val_evaluation(X, Y, k=K, k_kfold=n_fold):\n",
        "  kf = KFold(n_splits=k_kfold)\n",
        "  kf.get_n_splits(X)\n",
        "\n",
        "  total_error = 0\n",
        "  rmsetotal = 0\n",
        "  for train_index, test_index in kf.split(X):\n",
        "    X_train, X_test = X[train_index], X[test_index]\n",
        "    y_train, y_test = Y[train_index], Y[test_index]\n",
        "    y_pred = knn_predict(X_train, y_train, X_test,k)\n",
        "    rmsetotal = rmsetotal+np.sqrt(np.mean((y_pred-y_test)**2)) \n",
        "\n",
        "  return rmsetotal/k_kfold\n",
        "\n",
        "print(f\"RMSE on {n_fold}-Fold : \", cross_val_evaluation(X_train,y_train))"
      ]
    },
    {
      "cell_type": "markdown",
      "metadata": {
        "id": "J08ACpgJ--4h"
      },
      "source": [
        "Sekarang kita plot nilai RMSE pada cross validation yang kita lakukan dari $k=1$ sampai dengan $k=21$."
      ]
    },
    {
      "cell_type": "code",
      "execution_count": null,
      "metadata": {
        "id": "MbtAnSCy-_R6",
        "colab": {
          "base_uri": "https://localhost:8080/",
          "height": 459
        },
        "outputId": "c79ab37c-07a8-4b75-bb3b-44834bf5e776"
      },
      "outputs": [
        {
          "output_type": "stream",
          "name": "stdout",
          "text": [
            "best at k =  2\n"
          ]
        },
        {
          "output_type": "display_data",
          "data": {
            "text/plain": [
              "<Figure size 720x504 with 1 Axes>"
            ],
            "image/png": "[encoded data removed]"
          },
          "metadata": {
            "needs_background": "light"
          }
        }
      ],
      "source": [
        "error_k = [cross_val_evaluation(X_train,y_train,k) for k in np.arange(1,21)]\n",
        "plt.plot(np.arange(1,21),error_k)\n",
        "plt.xlabel(\"k\")\n",
        "plt.ylabel(\"average rmse (smaller better)\")\n",
        "best_k = np.argmin(error_k)+1\n",
        "print(\"best at k = \", best_k)"
      ]
    },
    {
      "cell_type": "markdown",
      "metadata": {
        "id": "KLJ0hGN_I2Ey"
      },
      "source": [
        "Dari plot diatas kita bisa melihat tidak ada perbedaan signifikan dibanding dengan kasus klasifikasi. Bias-variance tradeoff juga terjadi di kasus regressi. \n",
        "\n",
        "Sekarang setelah mendapatkan nilai k terbaik mari kita cek RMSE dan pair plot dari hasil prediksi kita pada data testing!"
      ]
    },
    {
      "cell_type": "code",
      "execution_count": null,
      "metadata": {
        "id": "2GKaGs9_KB3n",
        "colab": {
          "base_uri": "https://localhost:8080/",
          "height": 459
        },
        "outputId": "b1609e30-d908-4c18-a5be-3df1ad4c23cc"
      },
      "outputs": [
        {
          "output_type": "stream",
          "name": "stdout",
          "text": [
            "RMSE: 1.5148707315587473\n"
          ]
        },
        {
          "output_type": "display_data",
          "data": {
            "text/plain": [
              "<Figure size 720x504 with 1 Axes>"
            ],
            "image/png": "[encoded data removed]"
          },
          "metadata": {
            "needs_background": "light"
          }
        }
      ],
      "source": [
        "y_pred = knn_predict(X_train, y_train, X_test, best_k)\n",
        "plt.plot(y_test,y_test, label=\"true value\")\n",
        "plt.scatter(y_pred, y_test)\n",
        "plt.xlabel(\"Sales prediction\")\n",
        "plt.ylabel(\"True sales value\")\n",
        "plt.legend()\n",
        "print(\"RMSE:\",np.sqrt(np.mean((y_pred-y_test)**2)))"
      ]
    },
    {
      "cell_type": "markdown",
      "metadata": {
        "id": "C7uInXcaKkmY"
      },
      "source": [
        "Bandingkan dengan ketika $k=10$. RMSE semakin baik (Lebih kecil)! "
      ]
    },
    {
      "cell_type": "markdown",
      "metadata": {
        "id": "N2a2PjCK_Nqh"
      },
      "source": [
        "## Nilai k dan generalisasi model\n",
        "\n",
        "Ingat kembali pengaruh nilai K terhadap hasil KNN di Sub bab `2.2`. Dari eksperimen dengan mengubah nilai K kita dapat melihat bahwa \n",
        "* ketika $k=1$ model kita menjadi sangat fleksibel, sehingga terjadi overfitting terhadap data kita. \n",
        "* ketika $k$ semakin besar KNN menjadi semakin tidak fleksible terhadap data kita dan decision boundary kita terlihat semakin linear, mengindikasikan underfitting pada KNN kita. \n",
        "\n",
        "Mari kita plot performa data kita dengan mengavaluasi nilai $k = 1$ sampai dengan $k=10$ lalu hitung nilai RMSE pada data latih dan data uji. Kita gunakan $1/k$ di sumbu $x$ untuk mengindikasikan fleksibilitas dari model kita. Semakin besar maka model semakin fleksibel."
      ]
    },
    {
      "cell_type": "code",
      "execution_count": null,
      "metadata": {
        "id": "AP-ljTEu_N_A",
        "colab": {
          "base_uri": "https://localhost:8080/",
          "height": 459
        },
        "outputId": "ddb1f587-31eb-4408-91b0-f3c8d4f13968"
      },
      "outputs": [
        {
          "output_type": "execute_result",
          "data": {
            "text/plain": [
              "<matplotlib.legend.Legend at 0x7fdfa9f5fe50>"
            ]
          },
          "metadata": {},
          "execution_count": 132
        },
        {
          "output_type": "display_data",
          "data": {
            "text/plain": [
              "<Figure size 720x504 with 1 Axes>"
            ],
            "image/png": "[encoded data removed]"
          },
          "metadata": {
            "needs_background": "light"
          }
        }
      ],
      "source": [
        "rmse_test = []\n",
        "rmse_train = []\n",
        "for k in np.arange(1,11):\n",
        "  y_pred_test = knn_predict(X_train, y_train, X_test,k)\n",
        "  y_pred_train = knn_predict(X_train, y_train, X_train,k)\n",
        "\n",
        "  rmse_test.append( np.sqrt(np.mean((y_pred_test-y_test)**2)))\n",
        "  rmse_train.append( np.sqrt(np.mean((y_pred_train-y_train)**2)))\n",
        "  \n",
        "plt.plot(1/np.arange(1,11)[:-1],rmse_test[:-1],label=\"test RMSE\")\n",
        "plt.plot(1/np.arange(1,11)[:-1],rmse_train[:-1],label=\"train RMSE\")\n",
        "plt.xlabel(\"1/k (flexibility)\")\n",
        "plt.ylabel(\"RMSE\")\n",
        "plt.legend()"
      ]
    },
    {
      "cell_type": "markdown",
      "metadata": {
        "id": "30Vg9-qCOAZk"
      },
      "source": [
        "Saat $1/k = 1$ kita dapat melihat bahwa RMSE untuk data training = 0 namun test RMSE nya tidak lebih rendah saat $1/k=0.2$. Hal ini memperlihatkan bahwa terjadi overfit terhadap data.\n",
        "\n",
        "Saat $1/k$ mendekati 0, RMSE dari data training dan data testing sama-sama naik. Dalam keadaan ini model kita mengalami underfitting."
      ]
    },
    {
      "cell_type": "markdown",
      "metadata": {
        "tags": [],
        "id": "EYZbB5Cpv8bC"
      },
      "source": [
        "# Laporan Akhir"
      ]
    },
    {
      "cell_type": "markdown",
      "metadata": {
        "id": "doJK97Aav8bC"
      },
      "source": [
        "- Cari dataset lain untuk kasus klasifikasi dan regresi. Lakukan pre-processing data jika diperlukan.\n",
        "- Tuliskan sumber dataset yang anda pakai.\n",
        "- Jelaskan secara singkat mengenai isi dari dataset tersebut.\n",
        "- Cari nilai $k$ terbaik dengan cross validation, untuk kedua kasus tersebut.\n",
        "- Gunakan nilai $k$ terbaik tersebut lalu itung performance dari hasil prediksi. Gunakan metrik yang sesuai.\n",
        "- Tulis kesimpulan\n",
        "\n",
        "Note : Mohon untuk memberikan keterangan dari setiap kolom kode yang dijalankan pada file .ipynb\n"
      ]
    }
  ],
  "metadata": {
    "kernelspec": {
      "display_name": "Python 3 (ipykernel)",
      "language": "python",
      "name": "python3"
    },
    "language_info": {
      "codemirror_mode": {
        "name": "ipython",
        "version": 3
      },
      "file_extension": ".py",
      "mimetype": "text/x-python",
      "name": "python",
      "nbconvert_exporter": "python",
      "pygments_lexer": "ipython3",
      "version": "3.9.7"
    },
    "colab": {
      "provenance": []
    },
    "widgets": {
      "application/vnd.jupyter.widget-state+json": {
        "f2ae4288b96a4a85b867ea4a8b6e8f9e": {
          "model_module": "@jupyter-widgets/controls",
          "model_name": "VBoxModel",
          "model_module_version": "1.5.0",
          "state": {
            "_dom_classes": [
              "widget-interact"
            ],
            "_model_module": "@jupyter-widgets/controls",
            "_model_module_version": "1.5.0",
            "_model_name": "VBoxModel",
            "_view_count": null,
            "_view_module": "@jupyter-widgets/controls",
            "_view_module_version": "1.5.0",
            "_view_name": "VBoxView",
            "box_style": "",
            "children": [
              "IPY_MODEL_06bfc14b8d9b49dbb419b7476517dac4",
              "IPY_MODEL_a7149934f45e463bb326c4ad06db4af6"
            ],
            "layout": "IPY_MODEL_f28a13a2a55f452987f4ed68f8ddc027"
          }
        },
        "06bfc14b8d9b49dbb419b7476517dac4": {
          "model_module": "@jupyter-widgets/controls",
          "model_name": "DropdownModel",
          "model_module_version": "1.5.0",
          "state": {
            "_dom_classes": [],
            "_model_module": "@jupyter-widgets/controls",
            "_model_module_version": "1.5.0",
            "_model_name": "DropdownModel",
            "_options_labels": [
              "1",
              "2",
              "3",
              "4",
              "5",
              "6",
              "7",
              "8",
              "9",
              "10"
            ],
            "_view_count": null,
            "_view_module": "@jupyter-widgets/controls",
            "_view_module_version": "1.5.0",
            "_view_name": "DropdownView",
            "description": "k",
            "description_tooltip": null,
            "disabled": false,
            "index": 0,
            "layout": "IPY_MODEL_869e58dce67743deb95df66997004f1d",
            "style": "IPY_MODEL_24302b4032ec4d7b81c0acca0d94ecdb"
          }
        },
        "a7149934f45e463bb326c4ad06db4af6": {
          "model_module": "@jupyter-widgets/output",
          "model_name": "OutputModel",
          "model_module_version": "1.0.0",
          "state": {
            "_dom_classes": [],
            "_model_module": "@jupyter-widgets/output",
            "_model_module_version": "1.0.0",
            "_model_name": "OutputModel",
            "_view_count": null,
            "_view_module": "@jupyter-widgets/output",
            "_view_module_version": "1.0.0",
            "_view_name": "OutputView",
            "layout": "IPY_MODEL_83798313fe7a4e7bb070970ad9abf2a1",
            "msg_id": "",
            "outputs": [
              {
                "output_type": "display_data",
                "data": {
                  "text/plain": "<Figure size 720x504 with 1 Axes>",
                  "image/png": "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\n"
                },
                "metadata": {
                  "needs_background": "light"
                }
              }
            ]
          }
        },
        "f28a13a2a55f452987f4ed68f8ddc027": {
          "model_module": "@jupyter-widgets/base",
          "model_name": "LayoutModel",
          "model_module_version": "1.2.0",
          "state": {
            "_model_module": "@jupyter-widgets/base",
            "_model_module_version": "1.2.0",
            "_model_name": "LayoutModel",
            "_view_count": null,
            "_view_module": "@jupyter-widgets/base",
            "_view_module_version": "1.2.0",
            "_view_name": "LayoutView",
            "align_content": null,
            "align_items": null,
            "align_self": null,
            "border": null,
            "bottom": null,
            "display": null,
            "flex": null,
            "flex_flow": null,
            "grid_area": null,
            "grid_auto_columns": null,
            "grid_auto_flow": null,
            "grid_auto_rows": null,
            "grid_column": null,
            "grid_gap": null,
            "grid_row": null,
            "grid_template_areas": null,
            "grid_template_columns": null,
            "grid_template_rows": null,
            "height": null,
            "justify_content": null,
            "justify_items": null,
            "left": null,
            "margin": null,
            "max_height": null,
            "max_width": null,
            "min_height": null,
            "min_width": null,
            "object_fit": null,
            "object_position": null,
            "order": null,
            "overflow": null,
            "overflow_x": null,
            "overflow_y": null,
            "padding": null,
            "right": null,
            "top": null,
            "visibility": null,
            "width": null
          }
        },
        "869e58dce67743deb95df66997004f1d": {
          "model_module": "@jupyter-widgets/base",
          "model_name": "LayoutModel",
          "model_module_version": "1.2.0",
          "state": {
            "_model_module": "@jupyter-widgets/base",
            "_model_module_version": "1.2.0",
            "_model_name": "LayoutModel",
            "_view_count": null,
            "_view_module": "@jupyter-widgets/base",
            "_view_module_version": "1.2.0",
            "_view_name": "LayoutView",
            "align_content": null,
            "align_items": null,
            "align_self": null,
            "border": null,
            "bottom": null,
            "display": null,
            "flex": null,
            "flex_flow": null,
            "grid_area": null,
            "grid_auto_columns": null,
            "grid_auto_flow": null,
            "grid_auto_rows": null,
            "grid_column": null,
            "grid_gap": null,
            "grid_row": null,
            "grid_template_areas": null,
            "grid_template_columns": null,
            "grid_template_rows": null,
            "height": null,
            "justify_content": null,
            "justify_items": null,
            "left": null,
            "margin": null,
            "max_height": null,
            "max_width": null,
            "min_height": null,
            "min_width": null,
            "object_fit": null,
            "object_position": null,
            "order": null,
            "overflow": null,
            "overflow_x": null,
            "overflow_y": null,
            "padding": null,
            "right": null,
            "top": null,
            "visibility": null,
            "width": null
          }
        },
        "24302b4032ec4d7b81c0acca0d94ecdb": {
          "model_module": "@jupyter-widgets/controls",
          "model_name": "DescriptionStyleModel",
          "model_module_version": "1.5.0",
          "state": {
            "_model_module": "@jupyter-widgets/controls",
            "_model_module_version": "1.5.0",
            "_model_name": "DescriptionStyleModel",
            "_view_count": null,
            "_view_module": "@jupyter-widgets/base",
            "_view_module_version": "1.2.0",
            "_view_name": "StyleView",
            "description_width": ""
          }
        },
        "83798313fe7a4e7bb070970ad9abf2a1": {
          "model_module": "@jupyter-widgets/base",
          "model_name": "LayoutModel",
          "model_module_version": "1.2.0",
          "state": {
            "_model_module": "@jupyter-widgets/base",
            "_model_module_version": "1.2.0",
            "_model_name": "LayoutModel",
            "_view_count": null,
            "_view_module": "@jupyter-widgets/base",
            "_view_module_version": "1.2.0",
            "_view_name": "LayoutView",
            "align_content": null,
            "align_items": null,
            "align_self": null,
            "border": null,
            "bottom": null,
            "display": null,
            "flex": null,
            "flex_flow": null,
            "grid_area": null,
            "grid_auto_columns": null,
            "grid_auto_flow": null,
            "grid_auto_rows": null,
            "grid_column": null,
            "grid_gap": null,
            "grid_row": null,
            "grid_template_areas": null,
            "grid_template_columns": null,
            "grid_template_rows": null,
            "height": null,
            "justify_content": null,
            "justify_items": null,
            "left": null,
            "margin": null,
            "max_height": null,
            "max_width": null,
            "min_height": null,
            "min_width": null,
            "object_fit": null,
            "object_position": null,
            "order": null,
            "overflow": null,
            "overflow_x": null,
            "overflow_y": null,
            "padding": null,
            "right": null,
            "top": null,
            "visibility": null,
            "width": null
          }
        }
      }
    }
  },
  "nbformat": 4,
  "nbformat_minor": 0
}