{
 "cells": [
  {
   "cell_type": "markdown",
   "metadata": {},
   "source": [
    "# Pendahuluan\n",
    "\n",
    "Bayangkan `pandas` seperti Microsoft Excel tetapi lebih powerful dengan banyaknya fitur yang bisa dimanfaatkan. Ada 2 tipe data untuk `pandas`, yaitu data series atau kita singkat dengan Series dan data frame."
   ]
  },
  {
   "cell_type": "markdown",
   "metadata": {},
   "source": [
    "# Series\n",
    "\n",
    "Tipe data utama yang pertama kali akan kita pelajari adalah Series. Series mirip dengan Numpy array karena pada faktanya `pandas` dibangun berdasarkan Numpy array object. Yang membedakan Numpy array dengan Series adalah bahwa Series dapat memiliki label sumbu (*axis*), yang artinya suatu sampel data dapat diakses dengan label indeksnya, bukan hanya berdasarkan angka indeksnya. \n",
    "\n",
    "Kita mulai dengan memanggil pustaka `numpy` dan `pandas`:"
   ]
  },
  {
   "cell_type": "code",
   "execution_count": 1,
   "metadata": {},
   "outputs": [],
   "source": [
    "import numpy as np\n",
    "import pandas as pd"
   ]
  },
  {
   "cell_type": "markdown",
   "metadata": {},
   "source": [
    "## Membuat Suatu Series\n",
    "\n",
    "Kita dapat mengubah suatu `list`, `numpy array`, atau `dictionary` menjadi `Series`. Jalankan code di bawah ini:"
   ]
  },
  {
   "cell_type": "code",
   "execution_count": 2,
   "metadata": {},
   "outputs": [],
   "source": [
    "labels = ['a','b','c']\n",
    "my_list = [10,20,30]\n",
    "arr = np.array([10,20,30])\n",
    "d = {'a':10,'b':20,'c':30}"
   ]
  },
  {
   "cell_type": "markdown",
   "metadata": {},
   "source": [
    "### Menggunakan List"
   ]
  },
  {
   "cell_type": "code",
   "execution_count": 3,
   "metadata": {},
   "outputs": [
    {
     "data": {
      "text/plain": [
       "0    10\n",
       "1    20\n",
       "2    30\n",
       "dtype: int64"
      ]
     },
     "execution_count": 3,
     "metadata": {},
     "output_type": "execute_result"
    }
   ],
   "source": [
    "# cukup dengan menuliskan parameter input 'data' yang di assign dengan list yang sudah disiapkan\n",
    "pd.Series(data=my_list)"
   ]
  },
  {
   "cell_type": "code",
   "execution_count": 4,
   "metadata": {},
   "outputs": [
    {
     "data": {
      "text/plain": [
       "a    10\n",
       "b    20\n",
       "c    30\n",
       "dtype: int64"
      ]
     },
     "execution_count": 4,
     "metadata": {},
     "output_type": "execute_result"
    }
   ],
   "source": [
    "# bisa ditambahkan dengan parameter input 'index' untuk melabelkan setiap record datanya\n",
    "pd.Series(data=my_list,index=labels)"
   ]
  },
  {
   "cell_type": "code",
   "execution_count": 5,
   "metadata": {},
   "outputs": [
    {
     "data": {
      "text/plain": [
       "a    10\n",
       "b    20\n",
       "c    30\n",
       "dtype: int64"
      ]
     },
     "execution_count": 5,
     "metadata": {},
     "output_type": "execute_result"
    }
   ],
   "source": [
    "# secara default, 'data' dan 'index' adalah 2 parameter input pertama yang berurutan\n",
    "# sehingga dua nama ini bisa saja tidak ditulis\n",
    "pd.Series(my_list,labels)"
   ]
  },
  {
   "cell_type": "markdown",
   "metadata": {},
   "source": [
    "### Using NumPy Arrays"
   ]
  },
  {
   "cell_type": "code",
   "execution_count": 6,
   "metadata": {},
   "outputs": [
    {
     "data": {
      "text/plain": [
       "0    10\n",
       "1    20\n",
       "2    30\n",
       "dtype: int64"
      ]
     },
     "execution_count": 6,
     "metadata": {},
     "output_type": "execute_result"
    }
   ],
   "source": [
    "pd.Series(arr)"
   ]
  },
  {
   "cell_type": "code",
   "execution_count": 7,
   "metadata": {},
   "outputs": [
    {
     "data": {
      "text/plain": [
       "a    10\n",
       "b    20\n",
       "c    30\n",
       "dtype: int64"
      ]
     },
     "execution_count": 7,
     "metadata": {},
     "output_type": "execute_result"
    }
   ],
   "source": [
    "pd.Series(arr,labels)"
   ]
  },
  {
   "cell_type": "markdown",
   "metadata": {},
   "source": [
    "### Using Dictionaries"
   ]
  },
  {
   "cell_type": "code",
   "execution_count": 8,
   "metadata": {},
   "outputs": [
    {
     "data": {
      "text/plain": [
       "a    10\n",
       "b    20\n",
       "c    30\n",
       "dtype: int64"
      ]
     },
     "execution_count": 8,
     "metadata": {},
     "output_type": "execute_result"
    }
   ],
   "source": [
    "pd.Series(d)"
   ]
  },
  {
   "cell_type": "markdown",
   "metadata": {},
   "source": [
    "# Percobaan 1: \n",
    "buatlah Series dengan label nama prodi di Universitas Pertamina dengan (kira-kira) jumlah mahasiswa rata-rata dalam satu angkatan, dengan menggunakan `list`, `numpy array`, dan `dictionary`"
   ]
  },
  {
   "cell_type": "code",
   "execution_count": null,
   "metadata": {},
   "outputs": [],
   "source": [
    "# Jawab:\n",
    "prodi = [\"ilkom\", \"kimia\"]\n",
    "n_mhs = [40,30]\n",
    "arr_n_mhs = np.array(n_mhs)\n",
    "dic_n_mhs = {___}\n",
    "\n",
    "# Dengan menggunakan 'list'\n",
    "n_mhs_per_prodi = ____\n",
    "print(n_mhs_per_prodi)\n",
    "\n",
    "# Dengan menggunakan 'numpy array'\n",
    "n_mhs_per_prodi = ____\n",
    "print(n_mhs_per_prodi)\n",
    "\n",
    "# Dengan menggunakan 'dictionary'\n",
    "n_mhs_per_prodi = ____\n",
    "print(n_mhs_per_prodi)"
   ]
  },
  {
   "cell_type": "markdown",
   "metadata": {},
   "source": [
    "### Data Dalam Suatu Series\n",
    "\n",
    "Suatu Series bisa menyimpan berbagai tipe objek:"
   ]
  },
  {
   "cell_type": "code",
   "execution_count": null,
   "metadata": {},
   "outputs": [],
   "source": [
    "# Perhatikan nilai 'dtype' sebagai tipe data di bawah ini\n",
    "pd.Series(data=labels)"
   ]
  },
  {
   "cell_type": "code",
   "execution_count": null,
   "metadata": {},
   "outputs": [],
   "source": [
    "# Bahkan Series juga bisa menyimpan 'function' dan menjadikannya bertipe objek\n",
    "pd.Series([sum,print,len])"
   ]
  },
  {
   "cell_type": "markdown",
   "metadata": {},
   "source": [
    "# Percobaan 2:\n",
    "buat satu contoh Series dengan list data yang berisikan data dengan tipe `string`, `int`, `bool`, lalu perhatikan nilai dari `dtype`-nya setelah menjadi Series"
   ]
  },
  {
   "cell_type": "code",
   "execution_count": 13,
   "metadata": {},
   "outputs": [],
   "source": [
    "a = [True, False, False, True]"
   ]
  },
  {
   "cell_type": "code",
   "execution_count": 20,
   "metadata": {},
   "outputs": [],
   "source": [
    "b = [1,2,3,4]"
   ]
  },
  {
   "cell_type": "code",
   "execution_count": 21,
   "metadata": {},
   "outputs": [],
   "source": [
    "# Jawab:\n",
    "my_series = pd.Series(b)"
   ]
  },
  {
   "cell_type": "code",
   "execution_count": 22,
   "metadata": {},
   "outputs": [
    {
     "data": {
      "text/plain": [
       "pandas.core.series.Series"
      ]
     },
     "execution_count": 22,
     "metadata": {},
     "output_type": "execute_result"
    }
   ],
   "source": [
    "type(my_series)"
   ]
  },
  {
   "cell_type": "code",
   "execution_count": 23,
   "metadata": {},
   "outputs": [
    {
     "data": {
      "text/plain": [
       "dtype('int64')"
      ]
     },
     "execution_count": 23,
     "metadata": {},
     "output_type": "execute_result"
    }
   ],
   "source": [
    "my_series.dtype"
   ]
  },
  {
   "cell_type": "markdown",
   "metadata": {},
   "source": [
    "## Menggunakan Index\n",
    "\n",
    "Kunci untuk menggunakan Series adalah memahami indeksnya. `Pandas` menggunakan nama atau angka indeks ini agar memudahkan pencarian informasi dengan cepat (berfungsi seperti *hash table* atau *dictionary*).\n",
    "\n",
    "Contoh, data nilai penjualan di beberapa negara:"
   ]
  },
  {
   "cell_type": "code",
   "execution_count": null,
   "metadata": {},
   "outputs": [],
   "source": [
    "# dataset penjualan pertama\n",
    "sales_Q1 = pd.Series(data=[250,450,200,150],index = ['USA', 'China','India', 'Brazil'])\n",
    "# lihat nilainya\n",
    "print(sales_Q1)"
   ]
  },
  {
   "cell_type": "code",
   "execution_count": null,
   "metadata": {},
   "outputs": [],
   "source": [
    "# dataset penjualan kedua\n",
    "sales_Q2 = pd.Series([260,500,210,100],index = ['USA', 'China','India', 'Japan'])  \n",
    "# lihat nilainya\n",
    "print(sales_Q2)"
   ]
  },
  {
   "cell_type": "code",
   "execution_count": null,
   "metadata": {},
   "outputs": [],
   "source": [
    "# untuk mendapatkan nilai penjualan dari negara 'USA', \n",
    "# maka gunakan labelnya sebagai indeks\n",
    "sales_Q1['USA']"
   ]
  },
  {
   "cell_type": "code",
   "execution_count": null,
   "metadata": {},
   "outputs": [],
   "source": [
    "# Perhatikan jika kita memberikan indeks dengan label yang salah,\n",
    "# jenis error yang akan kita dapatkan adalah KEY ERROR! Contoh:\n",
    "sales_Q1['Russia'] # nama yang salah"
   ]
  },
  {
   "cell_type": "code",
   "execution_count": null,
   "metadata": {},
   "outputs": [],
   "source": [
    "sales_Q1['USA '] # kesalahan karena ada spasi"
   ]
  },
  {
   "cell_type": "code",
   "execution_count": null,
   "metadata": {},
   "outputs": [],
   "source": [
    "# Beberapa operasi matematika juga berdasarkan indeks labelnya\n",
    "sales_Q1 + sales_Q2"
   ]
  },
  {
   "cell_type": "markdown",
   "metadata": {},
   "source": [
    "# Percobaan 3:\n",
    "dari Percobaan 1, berapakah jumlah rata-rata jumlah mahasiswa prodi ilmu komputer, elektro, dan ekonomi per angkaatan ?"
   ]
  },
  {
   "cell_type": "code",
   "execution_count": null,
   "metadata": {},
   "outputs": [],
   "source": [
    "# Jumlah Rata-rata Mahasiswa Prodi Ilmu Komputer per angkatan:\n",
    "n_mhs_ilkom = n_mhs_per_prodi[___]"
   ]
  },
  {
   "cell_type": "code",
   "execution_count": null,
   "metadata": {},
   "outputs": [],
   "source": [
    "# Jumlah Rata-rata Mahasiswa Prodi Teknik Elektro per angkatan:\n",
    "n_mhs_elektro = ___[___]"
   ]
  },
  {
   "cell_type": "code",
   "execution_count": null,
   "metadata": {},
   "outputs": [],
   "source": [
    "# Jumlah Rata-rata Mahasiswa Prodi Ekonomi per angkatan:\n",
    "___ = ___[___]"
   ]
  },
  {
   "cell_type": "markdown",
   "metadata": {},
   "source": [
    "# Percobaan 4: \n",
    "buatlah dataset baru dalam bentuk Series yang berisikan (kira-kira) rata-rata jumlah lulusan per tahun dari setiap prodi di universitas pertamina, kemudian hitung sisa mahasiswa yang belum lulus per angkatan"
   ]
  },
  {
   "cell_type": "code",
   "execution_count": null,
   "metadata": {},
   "outputs": [],
   "source": [
    "# Jawab:\n",
    "___"
   ]
  },
  {
   "cell_type": "markdown",
   "metadata": {},
   "source": [
    "# DataFrames\n",
    "\n",
    "`DataFrame` adalah tipe data yang paling sering digunakan yang terinspirasi dari bahasa pemrograman R. Kita dapat menganggap DataFrame seperti gabungan dari beberapa Series yang berbagi indeks yang sama "
   ]
  },
  {
   "cell_type": "code",
   "execution_count": null,
   "metadata": {},
   "outputs": [],
   "source": [
    "# Kita akan memerlukan beberapa nilai integer yang dibuat secara acak\n",
    "from numpy.random import randint"
   ]
  },
  {
   "cell_type": "code",
   "execution_count": null,
   "metadata": {},
   "outputs": [],
   "source": [
    "# Siapkan label baris dan kolom untuk dataset\n",
    "columns = ['W', 'X', 'Y', 'Z'] # untuk 4 kolom\n",
    "index = ['A', 'B', 'C', 'D', 'E'] # untuk 5 baris"
   ]
  },
  {
   "cell_type": "code",
   "execution_count": null,
   "metadata": {},
   "outputs": [],
   "source": [
    "# Membuat data acak dari seed tertentu agar data acaknya sama setiap kali dibuat\n",
    "np.random.seed(99)\n",
    "# matrix berukuran 5x4, dengan data random dari range -100 sampai 100\n",
    "data = randint(-100,100,(5,4)) \n",
    "print(data)"
   ]
  },
  {
   "cell_type": "code",
   "execution_count": null,
   "metadata": {},
   "outputs": [],
   "source": [
    "# Membuat dataframe dari data di atas dan label yang sudah disiapkan\n",
    "df = pd.DataFrame(data,index,columns)\n",
    "print(df)"
   ]
  },
  {
   "cell_type": "markdown",
   "metadata": {},
   "source": [
    "# Percobaan 5:\n",
    "buatlah dataset berukuran 15 baris dan 5 kolom, berisikan data bertipe integer dengan nilai acak dari 20 hingga 100, dengan\n",
    "label tiap baris adalah nama prodi di universitas pertamina, dan label tiap kolom adalah tahun 2016 hingga 2020"
   ]
  },
  {
   "cell_type": "code",
   "execution_count": null,
   "metadata": {},
   "outputs": [],
   "source": [
    "# Jawab:\n",
    "___"
   ]
  },
  {
   "cell_type": "markdown",
   "metadata": {},
   "source": [
    "# Selection dan Indexing\n",
    "di sesi ini kita akan belajar beberapa metode untuk mengambil data dari DataFrame"
   ]
  },
  {
   "cell_type": "markdown",
   "metadata": {},
   "source": [
    "## Kolom"
   ]
  },
  {
   "cell_type": "code",
   "execution_count": null,
   "metadata": {},
   "outputs": [],
   "source": [
    "# Contoh mengambil nilai dari satu kolom\n",
    "df[\"X\"]"
   ]
  },
  {
   "cell_type": "code",
   "execution_count": null,
   "metadata": {},
   "outputs": [],
   "source": [
    "# Contoh mengambil nilai dari beberapa kolom\n",
    "df[['W','Z']]"
   ]
  },
  {
   "cell_type": "markdown",
   "metadata": {},
   "source": [
    "### Pertanyaan:\n",
    "apa perbedaan tipe data dari hasil pengambilan satu kolom dan beberapa kolom di atas ? Hint: gunakan fungsi `type()`"
   ]
  },
  {
   "cell_type": "code",
   "execution_count": null,
   "metadata": {},
   "outputs": [],
   "source": [
    "# Jawab:\n",
    "___"
   ]
  },
  {
   "cell_type": "code",
   "execution_count": null,
   "metadata": {},
   "outputs": [],
   "source": [
    "# Contoh membuat kolom baru di DataFrame yang sudah ada\n",
    "df['new'] = df['W'] + df['Y']\n",
    "print(df)"
   ]
  },
  {
   "cell_type": "code",
   "execution_count": null,
   "metadata": {},
   "outputs": [],
   "source": [
    "# Contoh menghilangkan kolom\n",
    "df.drop('new', axis=1) \n",
    "# Catatan: axis=1 karena untuk kolom. Coba hilangkan parameter axis dan lihat error apa yang dihasilkan"
   ]
  },
  {
   "cell_type": "code",
   "execution_count": null,
   "metadata": {},
   "outputs": [],
   "source": [
    "# namun dataset aslinya tidak berubah\n",
    "print(df)"
   ]
  },
  {
   "cell_type": "code",
   "execution_count": null,
   "metadata": {},
   "outputs": [],
   "source": [
    "# lakukan assignment untuk mengubah dataset secara permanen\n",
    "df = df.drop('new',axis=1)\n",
    "print(df)"
   ]
  },
  {
   "cell_type": "markdown",
   "metadata": {},
   "source": [
    "# Percobaan 6:\n",
    "dari percobaan 5, asumsikan datasetnya adalah dataset jumlah mahasiswa per tahun di setiap prodi di universitas pertamina. \n",
    "1. Tunjukkan jumlah mahasiswa tahun 2017\n",
    "2. Tunjukkan jumlah mahasiswa tahun 2017 dan 2018\n",
    "3. Buatlah satu kolom baru yang berisikan total mahasiswa dari tahun 2016 hingga 2020\n",
    "4. Hilangkan kolom baru di atas"
   ]
  },
  {
   "cell_type": "code",
   "execution_count": null,
   "metadata": {},
   "outputs": [],
   "source": [
    "# Jawaban 1 :\n",
    "___"
   ]
  },
  {
   "cell_type": "code",
   "execution_count": null,
   "metadata": {},
   "outputs": [],
   "source": [
    "# Jawaban 2 :\n",
    "___"
   ]
  },
  {
   "cell_type": "code",
   "execution_count": null,
   "metadata": {},
   "outputs": [],
   "source": [
    "# Jawaban 3 :\n",
    "___"
   ]
  },
  {
   "cell_type": "code",
   "execution_count": null,
   "metadata": {},
   "outputs": [],
   "source": [
    "# Jawaban 4 :\n",
    "___"
   ]
  },
  {
   "cell_type": "markdown",
   "metadata": {},
   "source": [
    "# Baris"
   ]
  },
  {
   "cell_type": "code",
   "execution_count": null,
   "metadata": {},
   "outputs": [],
   "source": [
    "# Contoh memilih satu baris dengan nama labelnya, menggunakan `loc[]`\n",
    "df.loc['A']"
   ]
  },
  {
   "cell_type": "code",
   "execution_count": null,
   "metadata": {},
   "outputs": [],
   "source": [
    "# Contoh memilih beberapa baris\n",
    "df.loc[['A','C']]"
   ]
  },
  {
   "cell_type": "code",
   "execution_count": null,
   "metadata": {},
   "outputs": [],
   "source": [
    "# Contoh memilih satu baris dengan angka indeksnya, menggunakan `iloc[]`\n",
    "df.iloc[0]"
   ]
  },
  {
   "cell_type": "code",
   "execution_count": null,
   "metadata": {},
   "outputs": [],
   "source": [
    "# Contoh memilih beberapa baris dengan angka indeksnya\n",
    "df.iloc[0:2]"
   ]
  },
  {
   "cell_type": "code",
   "execution_count": null,
   "metadata": {},
   "outputs": [],
   "source": [
    "# Contoh menghapus baris berdasarkan namanya\n",
    "df.drop('C',axis=0) # catatan: axis=0 karena baris, tanpa menggunakan nilai ini juga bisa karena nilai defaultnya axis=0"
   ]
  },
  {
   "cell_type": "code",
   "execution_count": null,
   "metadata": {},
   "outputs": [],
   "source": [
    "# namun dataset aslinya tidak berubah tanpa assignment\n",
    "print(df)"
   ]
  },
  {
   "cell_type": "code",
   "execution_count": null,
   "metadata": {},
   "outputs": [],
   "source": [
    "# Contoh memilih himpunan bagian (subset) dari baris dan kolom secara bersamaan\n",
    "df.loc[['A','C'],['W','Y']]"
   ]
  },
  {
   "cell_type": "markdown",
   "metadata": {},
   "source": [
    "# Percobaan 7:\n",
    "dari percobaan 5, asumsikan datasetnya adalah dataset jumlah mahasiswa per tahun di setiap prodi di universitas pertamina. \n",
    "1. Tunjukkan jumlah mahasiswa prodi ilmu komputer tiap tahunnya\n",
    "2. Tunjukkan jumlah mahasiswa prodi ilmu komputer dan teknik elektro tiap tahunnya\n",
    "3. Tunjukkan jumlah mahasiswa prodi ilmu komputer dan teknik elektro tahun 2017 dan 2018"
   ]
  },
  {
   "cell_type": "code",
   "execution_count": null,
   "metadata": {},
   "outputs": [],
   "source": [
    "# jawaban 1:\n",
    "___"
   ]
  },
  {
   "cell_type": "code",
   "execution_count": null,
   "metadata": {},
   "outputs": [],
   "source": [
    "# jawaban 2: \n",
    "___"
   ]
  },
  {
   "cell_type": "code",
   "execution_count": null,
   "metadata": {},
   "outputs": [],
   "source": [
    "# jawaban 3:\n",
    "___"
   ]
  },
  {
   "cell_type": "markdown",
   "metadata": {},
   "source": [
    "# Conditional Selection\n",
    "seperti `numpy`, kita bisa memilih data dengan kondisi tertentu dengan menggunakan operator komparasi"
   ]
  },
  {
   "cell_type": "code",
   "execution_count": null,
   "metadata": {},
   "outputs": [],
   "source": [
    "# lihat dataset\n",
    "df"
   ]
  },
  {
   "cell_type": "code",
   "execution_count": null,
   "metadata": {},
   "outputs": [],
   "source": [
    "# apakah nilainya positif ?\n",
    "df > 0"
   ]
  },
  {
   "cell_type": "code",
   "execution_count": null,
   "metadata": {},
   "outputs": [],
   "source": [
    "# tunjukkan data yang bernilai positif\n",
    "df[df>0]"
   ]
  },
  {
   "cell_type": "code",
   "execution_count": null,
   "metadata": {},
   "outputs": [],
   "source": [
    "# apakah data pada kolom X yang bernilai positif\n",
    "df['X']>0"
   ]
  },
  {
   "cell_type": "code",
   "execution_count": null,
   "metadata": {},
   "outputs": [],
   "source": [
    "# tunjukkan data pada kolom X yang bernilai positif\n",
    "df[df['X']>0]"
   ]
  },
  {
   "cell_type": "code",
   "execution_count": null,
   "metadata": {},
   "outputs": [],
   "source": [
    "# tunjukkan kolom Y saat data pada kolom X bernilai positif\n",
    "df[df['X']>0]['Y']"
   ]
  },
  {
   "cell_type": "code",
   "execution_count": null,
   "metadata": {},
   "outputs": [],
   "source": [
    "# tunjukkan kolom Y dan Z saat data pada kolom X bernilai positif\n",
    "df[df['X']>0][['Y','Z']]"
   ]
  },
  {
   "cell_type": "code",
   "execution_count": null,
   "metadata": {},
   "outputs": [],
   "source": [
    "# untuk dua kondisi, kita bisa gunakan operator & sebagai logika AND \n",
    "# dan operator | sebagai logika OR \n",
    "# semua dengan tanda kurung. Contoh:\n",
    "df[(df['W']>0) & (df['Y'] > 1)]"
   ]
  },
  {
   "cell_type": "markdown",
   "metadata": {},
   "source": [
    "# Percobaan 8:\n",
    "dari percobaan 5, asumsikan datasetnya adalah dataset jumlah mahasiswa per tahun di setiap prodi di universitas pertamina. \n",
    "1. Tunjukkan prodi yang jumlah mahasiswanya lebih dari 40 pada tahun 2017 (jika tidak ada, ganti 40 dengan 30)\n",
    "2. Tunjukkan jumlah mahasiswa tahun 2018 dan 2019 saat jumlah mahasiswa pada tahun 2017 lebih dari 40 (jika tidak ada, ganti 40 dengan 30)\n",
    "3. Tunjukkan prodi apa saja yang pada tahun 2016 berjumlah lebih dari 30 dan pada tahun 2018 kurang dari 60"
   ]
  },
  {
   "cell_type": "code",
   "execution_count": null,
   "metadata": {},
   "outputs": [],
   "source": [
    "# Jawaban 1:\n",
    "___"
   ]
  },
  {
   "cell_type": "code",
   "execution_count": null,
   "metadata": {},
   "outputs": [],
   "source": [
    "# Jawaban 2:\n",
    "___"
   ]
  },
  {
   "cell_type": "code",
   "execution_count": null,
   "metadata": {},
   "outputs": [],
   "source": [
    "# Jawaban 3:\n",
    "___"
   ]
  }
 ],
 "metadata": {
  "kernelspec": {
   "display_name": "Python 3 (ipykernel)",
   "language": "python",
   "name": "python3"
  },
  "language_info": {
   "codemirror_mode": {
    "name": "ipython",
    "version": 3
   },
   "file_extension": ".py",
   "mimetype": "text/x-python",
   "name": "python",
   "nbconvert_exporter": "python",
   "pygments_lexer": "ipython3",
   "version": "3.7.6"
  }
 },
 "nbformat": 4,
 "nbformat_minor": 4
}
