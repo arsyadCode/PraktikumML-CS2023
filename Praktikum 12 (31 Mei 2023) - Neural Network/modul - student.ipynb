{
  "nbformat": 4,
  "nbformat_minor": 0,
  "metadata": {
    "colab": {
      "provenance": []
    },
    "kernelspec": {
      "name": "python3",
      "display_name": "Python 3"
    },
    "language_info": {
      "name": "python"
    }
  },
  "cells": [
    {
      "cell_type": "markdown",
      "source": [
        "# Apa itu Neural Network?\n",
        "\n",
        "Otak manusia tersusun atas miliaran sel yang kita sebut sebagai neuron. Setiap neuron tersebut saling terkoneksi menggunakan sinapsis. Jika jumlah sinapsis yang memadai menyuruh neuron untuk menyala, maka neuron tersebut akan menyala. Proses ini kita sebut sebagai 'berpikir'.\n",
        "\n",
        "Proses tersebut dapat dimodelkan dengan membentuk neural network pada komputers. Pada neural network menggunakan komputer, kita menggunakan matriks dan operasi matematika untuk meniru cara kerja neural network pada otak. Dibawah ini ditampilkan contoh sebuah neuron dengan 3 input dan 1 output.\n",
        "\n",
        "<div>\n",
        "<img src=\"https://miro.medium.com/v2/resize:fit:1100/format:webp/1*HDWhvFz5t0KAjIAIzjKR1w.png\" width=\"500\"/>\n",
        "</div>\n",
        "\n",
        "Anggaplah neuron menerima input dengan output seperti tabel dibawah, berapakah nilai yang seharusnya menggantikan '?' pada input baru? bagaimana pola neuron?\n",
        "\n",
        "<div>\n",
        "<img src=\"https://miro.medium.com/v2/resize:fit:828/format:webp/1*nEooKljI8XbKQh4cFbZu1Q.png\" width=\"500\"/>\n",
        "</div>\n"
      ],
      "metadata": {
        "id": "injIpdfkXl8Z"
      }
    },
    {
      "cell_type": "markdown",
      "source": [
        "# Bagaimana cara melatih neural network?\n",
        "\n",
        "Untuk melatih neural network pada komputer, kita berikan bobot (weight) yang dapat bernilai positif atau negatif kepada setiap input. Mirip dengan korelasi, input yang memiliki nilai positif atau negatif besar akan memiliki pengaruh yang kuat terhadap hasil dari neural network. Nilai awal untuk setiap bobot haruslah disetel sebagai nilai acak, lalu mulai proses pelatihan yang terdiri atas:\n",
        "1. Ambil input dari dataset, urutkan berdasarkan bobot masing-masing, lalu gunakan terhadap formula untuk mengkalkulasi output dari neural network.\n",
        "2. Hitung nilai error.\n",
        "3. Ubah nilai bobot tergantung dengan hasil error.\n",
        "4. Ulangi hingga error berada pada ambang yang dapat diterima."
      ],
      "metadata": {
        "id": "aKKDe8O_bqow"
      }
    },
    {
      "cell_type": "markdown",
      "source": [
        "## Bagaimana cara menghitung output neuron?\n",
        "\n",
        "Untuk menghitung output dari neuron, pertama hitung total bobot dari input neuron yang dapat dihitung menggunakan formula berikut:\n",
        "\n",
        "<div>\n",
        "<img src=\"https://miro.medium.com/v2/resize:fit:720/format:webp/1*RV7-CFkmmByfcXKkPcbAYQ.png\" width=\"500\"/>\n",
        "</div>\n",
        "\n",
        "Kemudian normalisasikan hasilnya sehingga berada diantara 0 atau 1. Untuk melakukan ini kita dapat gunakan fungsi sigmoid.\n",
        "\n",
        "<div>\n",
        "<img src=\"https://miro.medium.com/v2/resize:fit:116/format:webp/1*5il5GLo0gamypklQQ_z0AA.png\" width=\"50\"/>\n",
        "</div>\n",
        "\n",
        "Akhirnya jika kedua persamaan disatukan, kita akan mendapatkan output dari neuron.\n",
        "\n",
        "<div>\n",
        "<img src=\"https://miro.medium.com/v2/resize:fit:640/format:webp/1*7YdyG6fc6f6zMmx3l0ZGsQ.png\" width=\"400\"/>\n",
        "</div>"
      ],
      "metadata": {
        "id": "0EX1x3tJj8aI"
      }
    },
    {
      "cell_type": "markdown",
      "source": [
        "## Bagaimana cara mendapatkan bobot yang sesuai?\n",
        "\n",
        "Untuk mendapatkan nilai bobot terbaik, dapat digunakan metode “Error Weighted Derivative” \n",
        "\n",
        "<div>\n",
        "<img src=\"https://miro.medium.com/v2/resize:fit:640/format:webp/1*SQBjpbBcCT3lTQlPEdr1eg.png\" width=\"600\"/>\n",
        "</div>\n",
        "\n",
        "Dengan menggunakan metode ini, pertama dibuat penyesuaian yang setara dengan ukuran error. Lalu dikalikan dengan input dan terakhir dikalikan dengan gradien dari kurva fungsi sigmoid, atau lebih rincinya:\n",
        "\n",
        "1. Kurva sigmoid digunakan untuk menghitung output dari neuron.\n",
        "2. Jika output berupa nilai positif atau negatif besar, berarti neuron cukup dapat diandalkan.\n",
        "3. Pada angka yang besar, kurva sigmoid memiliki gradien yang datar.\n",
        "4. Jika neuron cukup dapat diandalkan, maka bobot tidak perlu disesuaikan terlalu besar. Perkalian menggunakan gradien kurva sigmoid merupakan jawaban untuk melakukan hal tersebut.\n",
        "\n",
        "Gradien dari kurva sigmoid sendiri dapat dicari melalui:\n",
        "\n",
        "<div>\n",
        "<img src=\"https://miro.medium.com/v2/resize:fit:640/format:webp/1*HdHm9u3_wjwBPmwuLg3D3g.png\" width=\"500\"/>\n",
        "</div>\n",
        "\n",
        "Menggabungkan 2 persamaan diatas akan mendapatkan:\n",
        "\n",
        "<div>\n",
        "<img src=\"https://miro.medium.com/v2/resize:fit:640/format:webp/1*Jow4WVWNOp6rtiJ7vNQ0gQ.png\" width=\"500\"/>\n",
        "</div>"
      ],
      "metadata": {
        "id": "Dlksj7KPgdwC"
      }
    },
    {
      "cell_type": "markdown",
      "source": [
        "# Membuat neural network menggunakan Python"
      ],
      "metadata": {
        "id": "TaG7RL8PuWt-"
      }
    },
    {
      "cell_type": "code",
      "source": [
        "import keras\n",
        "import numpy as np\n",
        "import pandas as pd\n",
        "import matplotlib.pyplot as plt\n",
        "\n",
        "from keras.layers import Dense\n",
        "from keras.models import Sequential\n",
        "from numpy import exp, array, random, dot\n",
        "from pandas.plotting import scatter_matrix\n",
        "from sklearn.metrics import roc_curve, auc\n",
        "from sklearn.model_selection import train_test_split\n",
        "from sklearn import model_selection, preprocessing, metrics\n",
        "from sklearn.preprocessing import LabelEncoder, OneHotEncoder, StandardScaler\n",
        "from sklearn.metrics import classification_report, confusion_matrix, accuracy_score"
      ],
      "metadata": {
        "id": "rGk4QeTOxOLt"
      },
      "execution_count": null,
      "outputs": []
    },
    {
      "cell_type": "markdown",
      "source": [
        "## using keras library"
      ],
      "metadata": {
        "id": "yjb12UaSuZi0"
      }
    },
    {
      "cell_type": "code",
      "source": [
        "# Read dataset\n",
        "\n",
        "df = pd.read_csv(\"adult.csv\")\n",
        "df.head(20)"
      ],
      "metadata": {
        "id": "yMdzEUgzujKo"
      },
      "execution_count": null,
      "outputs": []
    },
    {
      "cell_type": "code",
      "source": [
        "# Preprocessing\n",
        "\n",
        "col_names = df.columns\n",
        "\n",
        "for c in col_names:\n",
        "\tdf[c] = df[c].replace(\"?\", np.NaN)\n",
        "\n",
        "df = df.apply(lambda x:x.fillna(x.value_counts().index[0]))"
      ],
      "metadata": {
        "id": "Q8aYWmixu1tY"
      },
      "execution_count": null,
      "outputs": []
    },
    {
      "cell_type": "code",
      "source": [
        "df.replace(\n",
        "    ['Divorced', 'Married-AF-spouse', 'Married-civ-spouse', 'Married-spouse-absent','Never-married','Separated','Widowed'],\n",
        "    ['divorced','married','married','married','not married','not married','not married'], \n",
        "    inplace = True\n",
        ")"
      ],
      "metadata": {
        "id": "gH9JexLFvNe2"
      },
      "execution_count": null,
      "outputs": []
    },
    {
      "cell_type": "code",
      "source": [
        "labelEncoder = preprocessing.LabelEncoder()\n",
        "category_col = ['race', 'marital-status', 'gender', 'income'] \n",
        "\n",
        "for col in category_col:\n",
        "    df[col] = labelEncoder.fit_transform(df[col])\n",
        "\n",
        "category_col_1 = ['workclass', 'education', 'occupation', 'relationship', 'native-country'] \n",
        "df_2           = pd.get_dummies(df, columns = category_col_1, drop_first = True)\n",
        "\n",
        "dataframe = df_2.drop('fnlwgt', 1)\n",
        "dataframe = dataframe[[c for c in dataframe if c not in ['income']] + ['income']]\n",
        "dataframe.head(20)"
      ],
      "metadata": {
        "id": "V3yXNyMpvQLA"
      },
      "execution_count": null,
      "outputs": []
    },
    {
      "cell_type": "code",
      "source": [
        "# Split data into train and test\n",
        "\n",
        "X = dataframe.iloc[:, 0:88].values\n",
        "y = dataframe.iloc[:, 88].values\n",
        "\n",
        "X_train, X_test, y_train, y_test = train_test_split(X, y, test_size = 0.2)\n",
        "\n",
        "sc      = StandardScaler()\n",
        "X_train = sc.fit_transform(X_train)\n",
        "X_test  = sc.transform(X_test)"
      ],
      "metadata": {
        "id": "lduoJbQ8veCy"
      },
      "execution_count": null,
      "outputs": []
    },
    {
      "cell_type": "code",
      "source": [
        "# Create a simple neural network\n",
        "\n",
        "classifier = Sequential()\n",
        "\n",
        "classifier.add(Dense(6, activation = 'relu', input_dim = 88))\n",
        "classifier.add(Dense(6, activation = 'relu'))\n",
        "classifier.add(Dense(1, activation = 'sigmoid'))\n",
        "classifier.compile(optimizer = 'adam', loss = 'binary_crossentropy', metrics = ['accuracy'])"
      ],
      "metadata": {
        "id": "W_WpcLOdvpbz"
      },
      "execution_count": null,
      "outputs": []
    },
    {
      "cell_type": "code",
      "source": [
        "# Train the neural network\n",
        "\n",
        "classifier.fit(X_train, y_train, batch_size = 10, epochs = 100)\n",
        "\n",
        "y_pred = classifier.predict(X_test)\n",
        "y_pred = (y_pred > 0.5)"
      ],
      "metadata": {
        "id": "MQw96-S4vzmy"
      },
      "execution_count": null,
      "outputs": []
    },
    {
      "cell_type": "code",
      "source": [
        "# Evaluasi\n",
        "\n",
        "#classification report\n",
        "print (\"\\nClassification Report\\n\")\n",
        "print (classification_report(y_test, y_pred))\n",
        "\n",
        "conf_arr  = confusion_matrix(y_test, y_pred)\n",
        "norm_conf = []\n",
        "\n",
        "for i in conf_arr:\n",
        "    a       = 0\n",
        "    tmp_arr = []\n",
        "    a       = sum(i, 0)\n",
        "\n",
        "    for j in i:\n",
        "        tmp_arr.append(float(j) / float(a))\n",
        "\n",
        "    norm_conf.append(tmp_arr)\n",
        "\n",
        "fig = plt.figure()\n",
        "\n",
        "plt.clf()\n",
        "\n",
        "ax = fig.add_subplot(1, 2, 1)\n",
        "ax.set_aspect(1)\n",
        "\n",
        "res           = ax.imshow(np.array(norm_conf), cmap = plt.cm.jet, interpolation = 'nearest')\n",
        "width, height = conf_arr.shape\n",
        "\n",
        "for x in range(width):\n",
        "    for y in range(height):\n",
        "        ax.annotate(str(conf_arr[x][y]), xy = (y, x), horizontalalignment = 'center', verticalalignment = 'center')\n",
        "\n",
        "## confusion matrix\n",
        "plt.title(\"Confusion Matrix\")\n",
        "plt.xticks(range(width), ['positive','negative'])\n",
        "plt.yticks(range(height), ['positive','negative'])\n",
        "plt.show()\n",
        "\n",
        "false_positive_rate, true_positive_rate, thresholds = roc_curve(y_test, y_pred)\n",
        "roc_auc                                             = auc(false_positive_rate, true_positive_rate)\n",
        "\n",
        "plt.title('Receiver Operating Characteristic Decision Tree')\n",
        "plt.plot(false_positive_rate, true_positive_rate, 'b', label = 'AUC = %0.2f'% roc_auc)\n",
        "plt.legend(loc = 'lower right')\n",
        "plt.plot([0, 1], [0, 1], 'r--')\n",
        "plt.xlim([-0.1, 1.2])\n",
        "plt.ylim([-0.1, 1.2])\n",
        "plt.ylabel('True Positive Rate')\n",
        "plt.xlabel('False Positive Rate')\n",
        "plt.show()\n",
        "\n",
        "##gini coefficient\n",
        "Gini_coefficient = 2 * roc_auc - 1\n",
        "print(\"Gini_coefficient from the ROC curve is \\n\", Gini_coefficient)"
      ],
      "metadata": {
        "id": "unIK_ya3wIjF"
      },
      "execution_count": null,
      "outputs": []
    },
    {
      "cell_type": "markdown",
      "source": [
        "## From scratch"
      ],
      "metadata": {
        "id": "Fje2ebmviaKN"
      }
    },
    {
      "cell_type": "code",
      "source": [
        "# buat class neural network\n",
        "\n",
        "class NeuralNetwork():\n",
        "    def __init__(self):\n",
        "        # gunakan seed pada RNG agar angka yang dihasilkan sama setiap kali program dijalankan\n",
        "        random.seed(1)\n",
        "\n",
        "        # buat 1 neuron dengan 3 input dan 1 output,\n",
        "        # kemudian beri bobot acak dengan nilai antara -1 hingga 1 dan mean 0\n",
        "        self.synaptic_weights = 2 * random.random((3, 1)) - 1\n",
        "\n",
        "    # Fungsi sigmoid.\n",
        "    def __sigmoid(self, x):\n",
        "        return 1 / (1 + exp(-x))\n",
        "\n",
        "    # Fungsi turunan fungsi sigmoid yang merupakan gradien dari kurva sigmoid\n",
        "    # digunakan untuk menunjukkan seberapa bagus bobot yang dimiliki saat ini\n",
        "    def __sigmoid_derivative(self, x):\n",
        "        return x * (1 - x)\n",
        "\n",
        "    # Fungsi untuk melatih neural network\n",
        "    def train(self, training_set_inputs, training_set_outputs, number_of_training_iterations):\n",
        "        for iteration in range(number_of_training_iterations):\n",
        "            # Masukan training data ke neural network\n",
        "            output = self.think(training_set_inputs)\n",
        "\n",
        "            # Hitung error\n",
        "            error = training_set_outputs - output\n",
        "\n",
        "            # Hitung penyesuaian yang diperlukan dari nilai error\n",
        "            adjustment = dot(training_set_inputs.T, error * self.__sigmoid_derivative(output))\n",
        "\n",
        "            # Sesuaikan bobot\n",
        "            self.synaptic_weights += adjustment\n",
        "\n",
        "    # Proses berpikir neural networks\n",
        "    def think(self, inputs):\n",
        "        # Masukan input kedalam neural network\n",
        "        return self.__sigmoid(dot(inputs, self.synaptic_weights))"
      ],
      "metadata": {
        "id": "CEgDAPLOiv7r"
      },
      "execution_count": null,
      "outputs": []
    },
    {
      "cell_type": "code",
      "source": [
        "# jalankan neural network\n",
        "\n",
        "if __name__ == \"__main__\":\n",
        "    # buat 1 neural network\n",
        "    neural_network = NeuralNetwork()\n",
        "\n",
        "    print(\"Random starting synaptic weights: \")\n",
        "    print(neural_network.synaptic_weights)\n",
        "\n",
        "    # buat dataset\n",
        "    training_set_inputs  = array([[0, 0, 1], [1, 1, 1], [1, 0, 1], [0, 1, 1]])\n",
        "    training_set_outputs = array([[0, 1, 1, 0]]).T\n",
        "\n",
        "    # Latih neural network\n",
        "    neural_network.train(training_set_inputs, training_set_outputs, 10000)\n",
        "\n",
        "    print(\"New synaptic weights after training: \")\n",
        "    print(neural_network.synaptic_weights)\n",
        "\n",
        "    # Terakhir coba neural network menggunakan input berbeda\n",
        "    print(\"Considering new situation [1, 0, 0] -> ?: \")\n",
        "    print(neural_network.think(array([1, 0, 0])))"
      ],
      "metadata": {
        "id": "JbTTKa-7kN6a"
      },
      "execution_count": null,
      "outputs": []
    },
    {
      "cell_type": "markdown",
      "source": [
        "# Simulasi\n",
        "\n",
        "Cari dataset yang berbeda, lalu buat model prediksi neural network dari dataset tersebut dengan menggunakan library keras.\n",
        "\n",
        "*note: model harus memberi akurasi minimum sebesar 70%, dibawah itu mendapat pengurangan nilai.\n",
        "\n",
        "*bonus: akurasi model >= 90%"
      ],
      "metadata": {
        "id": "ltOvR-qPsV8a"
      }
    }
  ]
}