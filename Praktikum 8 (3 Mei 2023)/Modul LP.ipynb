{
  "cells": [
    {
      "cell_type": "code",
      "execution_count": null,
      "metadata": {
        "id": "jjORud8EYh-n"
      },
      "outputs": [],
      "source": [
        "#Input NPM\n",
        "NPM = \"\"\n",
        "\n",
        "#Input NPM teman yang berkolaborasi dengan Anda dalam mengerjakan tugas ini\n",
        "KOLABORATOR = []\n",
        "\n",
        "#Input link referensi atau sumber lain yang Anda gunakan dalam menyelesaikan tugas ini\n",
        "REFERENSI = []"
      ]
    },
    {
      "cell_type": "code",
      "execution_count": null,
      "metadata": {
        "id": "12gwdhGZTDAH"
      },
      "outputs": [],
      "source": [
        "#Jika ingin memakai colab\n",
        "from google.colab import drive\n",
        "drive.mount('/content/gdrive', force_remount=True)\n",
        "path = '/content/gdrive/My Drive/'"
      ]
    },
    {
      "cell_type": "markdown",
      "metadata": {
        "id": "OTqoP8wObR8c"
      },
      "source": [
        "## PR 1 Linear & Logistic Regression, Decision Tree, Random Forest\n",
        "\n",
        "#### Tugas ini terdiri dari 2 bagian:\n",
        "\n",
        "* Bagian 1: Implementasi dan Analisis\n",
        "    * [Soal 1 - Implementasi Linear Regression](#Soal-1)\n",
        "    * [Soal 2 - Implementasi Logistic Regression](#Soal-2)\n",
        "    * [Soal 3 - Implementasi Decision Tree](#Soal-3)\n",
        "    * [Soal 4 - Implementasi Random Forest](#Soal-4)\n",
        "    * [Soal 5 - Analisis](#Soal-5)\n",
        "* Bagian 2: Demo program (Score: 30) (mekanisme demo akan diumumkan lebih lanjut via Scele)\n",
        "* Dataset yang digunakan adalah <b>abalone.csv</b>. Anda diminta untuk <b>mengklasifikasikan kerang abalon menurut jumlah cincinnya</b> dan <b>memprediksi perkiraan umurnya</b> berdasarkan beberapa fitur masukan yang terkait dengan jenis kelamin abalon serta beberapa pengukuran panjang dan berat. Silakan pilih algoritma yang sesuai dalam menyelesaikan masing-masing masalah tersebut. \n",
        "* Berikut ketentuan pengerjaan \n",
        "   - Silakan untuk menjawab di bagian <b># YOUR CODE HERE</b>\n",
        "   - Jangan mengubah class dan method yang sudah ada, tetapi Anda dipersilahkan untuk menambah parameter, variabel, atau method baru jika diperlukan\n",
        "   - Library yang boleh digunakan hanya Numpy, Pandas, dan Matplotlib \n",
        "   - Berikan penjelasan singkat mengenai code yang Anda buat\n",
        "   - Dalam membangun Decision Tree, terdapat beberapa parameter yang dapat digunakan untuk mengoptimisasi model atau menangani beberapa masalah/issue. Berikut referensi yang dapat digunakan dalam membangun Decision Tree: https://towardsdatascience.com/how-to-tune-a-decision-tree-f03721801680)"
      ]
    },
    {
      "cell_type": "code",
      "execution_count": null,
      "metadata": {
        "id": "fsUKj0FjYzYA"
      },
      "outputs": [],
      "source": [
        "from matplotlib import pyplot as plt\n",
        "import numpy as np\n",
        "import pandas as pd\n",
        "\n",
        "from random import seed\n",
        "from random import randrange\n",
        "\n",
        "seed(10)"
      ]
    },
    {
      "cell_type": "markdown",
      "metadata": {
        "id": "jxLKY-aubHKk"
      },
      "source": [
        "## Dataset\n",
        "Tugas ini menggunakan <b>Dataset Abalone</b> yang terdiri dari:\n",
        " - 8 atribut \n",
        "    * Sex – M, F, and I (infant)\n",
        "    * Length – Longest shell measurement\n",
        "    * Diameter – perpendicular to length\n",
        "    * Height – with meat in shell\n",
        "    * Whole weight – whole abalone\n",
        "    * Shucked weight – weight of meat\n",
        "    * Viscera weight – gut weight (after bleeding)\n",
        "    * Shell weight – after being dried\n",
        " - 1 target\n",
        "    * Rings (jumlah cincin)\n",
        "      * Class 0 (jumlah cincin kurang dari atau sama dengan 11) dan Class 1 (jumlah cincin lebih dari 11)\n",
        "      * Umur (tahun) = jumlah cincin + 1.5\n",
        " - 4177 baris data\n",
        " \n",
        "Anda dipersilakan melakukan tahapan <b>preprocessing data</b> terlebih dahulu.\n",
        "Tahapan preprocessing yang dapat dilakukan antara lain,\n",
        "* Encode categorical data\n",
        "* Menangani missing value\n",
        "* Konversi continuous data\n",
        "* Normalisasi data value\n",
        "* Menangani imbalanced dataset\n",
        "  * Jika melakukan sampling, tolong submit data yang digunakan\n",
        "* dan sebagainya...\n",
        "\n",
        "Kemudian bagi dataset menjadi <b>data</b>, <b>label</b>, dan <b>age</b> (Tolong samakan nama variabelnya)."
      ]
    },
    {
      "cell_type": "code",
      "execution_count": null,
      "metadata": {
        "id": "nmTQMVFIYZK7"
      },
      "outputs": [],
      "source": [
        "dataset = pd.read_csv(path + \"abalone.csv\") #load the dataset\n",
        "dataset.head(10)"
      ]
    },
    {
      "cell_type": "markdown",
      "metadata": {
        "id": "2s4OKXNREU6B"
      },
      "source": [
        "Silakan melakukan preprocessing data. Beberapa preprocessing yang bisa dilakukan antara lain melakukan encode pada data kategori, menangani missing value, normalisasi data value, dan sebagainya"
      ]
    },
    {
      "cell_type": "code",
      "execution_count": null,
      "metadata": {
        "id": "bKUF1mwxh9r6"
      },
      "outputs": [],
      "source": [
        "# PREPROCESSING DATA"
      ]
    },
    {
      "cell_type": "code",
      "execution_count": null,
      "metadata": {
        "id": "mWBHAR01zoW0"
      },
      "outputs": [],
      "source": [
        "assert data.shape[1] >= 8\n",
        "assert set(np.unique(label)) == {0, 1}\n",
        "assert np.min(age) >= 2.5 and np.max(age) <= 30.5"
      ]
    },
    {
      "cell_type": "markdown",
      "metadata": {
        "id": "Z4Kwp9qxw_J2"
      },
      "source": [
        "## Soal 1 \n",
        "### Implementasi Linear Regression (15 poin)"
      ]
    },
    {
      "cell_type": "code",
      "execution_count": null,
      "metadata": {
        "id": "QMyBos90GnES"
      },
      "outputs": [],
      "source": [
        "def is_similar(X, Y):\n",
        "    if isinstance(X, list) and isinstance(Y, list):\n",
        "        if len(X) == len(Y):\n",
        "            return all([is_similar(x,Y[i]) for i,x in enumerate(X)])\n",
        "        else:\n",
        "            return False\n",
        "    return abs(X-Y) <= 1e-7"
      ]
    },
    {
      "cell_type": "markdown",
      "metadata": {
        "id": "idxMMLIS2egf"
      },
      "source": [
        "Tanpa menggunakan library external, implementasikan fungsi hipotesis h(x)\n",
        "\n",
        "$$ h(x) = w^Tx $$\n",
        "\n",
        "dengan w adalah bobot dan x direpresentasikan sebagai list dengan panjang yang sama dengan w"
      ]
    },
    {
      "cell_type": "code",
      "execution_count": null,
      "metadata": {
        "id": "4EfMuZcixKcu"
      },
      "outputs": [],
      "source": [
        "def h(x):\n",
        "    global w\n",
        "    # YOUR CODE HERE\n",
        "    raise NotImplementedError()"
      ]
    },
    {
      "cell_type": "code",
      "execution_count": null,
      "metadata": {
        "id": "TSFWUpiP2pAr"
      },
      "outputs": [],
      "source": [
        "# code ini digunakan untuk memeriksa apakah fungsi h yang Anda implementasikan sudah sesuai\n",
        "w, x = [10,11,12], [9,8,7]\n",
        "assert is_similar(h(x),262)\n",
        "w, x = [-3,-6,-3], [1,6,9]\n",
        "assert is_similar(h(x),-66)"
      ]
    },
    {
      "cell_type": "markdown",
      "metadata": {
        "id": "OMexSNZ_G8m2"
      },
      "source": [
        "tanpa menggunakan library eksternal, gunakan h yang sudah diemplementasikan di atas untuk mengimplementasikan cost funtion $J(w)$ untuk Linear Regression\n",
        "\n",
        "$$J(w) = \\frac{1}{2}\\sum_{i=1}^m (h_w(x^{(i)}) - y^{(i)})^2 $$"
      ]
    },
    {
      "cell_type": "code",
      "execution_count": null,
      "metadata": {
        "id": "SL3oeXR7G-N1"
      },
      "outputs": [],
      "source": [
        "def cost_func_linreg(X, y):\n",
        "    m = len(y)\n",
        "    # YOUR CODE HERE\n",
        "    raise NotImplementedError()"
      ]
    },
    {
      "cell_type": "code",
      "execution_count": null,
      "metadata": {
        "id": "3tUeNVdTG_xg"
      },
      "outputs": [],
      "source": [
        "# code ini digunakan untuk memeriksa apakah cost function yang Anda implementasikan sudah sesuai\n",
        "w, X, y = [-1, 0], [[1,1],[0,1]], [-1,0]\n",
        "assert is_similar(cost_func_linreg(X,y),0)\n",
        "\n",
        "w, X, y = [1, 1, 2], [[1,1,1],[0,0,0]], [0,0]\n",
        "assert is_similar(cost_func_linreg(X,y),8)"
      ]
    },
    {
      "cell_type": "markdown",
      "metadata": {
        "id": "QTTY8tpSHDGw"
      },
      "source": [
        "tanpa menggunakan library eksternal, gunakan cost function di atas untuk mengimplementasikan satu iterasi dari stochastic gradient descent"
      ]
    },
    {
      "cell_type": "code",
      "execution_count": null,
      "metadata": {
        "id": "rMW6jzyMHEzW"
      },
      "outputs": [],
      "source": [
        "# lr adalah learning rate\n",
        "\n",
        "def SGD(X, y, lr=1e-4):\n",
        "    global w\n",
        "    alpha, m = lr, len(y)\n",
        "    for i in range(m):\n",
        "      # YOUR CODE HERE\n",
        "      raise NotImplementedError()\n",
        "    return w"
      ]
    },
    {
      "cell_type": "code",
      "execution_count": null,
      "metadata": {
        "id": "_umnsYs5Jie3"
      },
      "outputs": [],
      "source": [
        "# code ini digunakan untuk memeriksa apakah fungsi SGD yang Anda implementasikan sudah sesuai\n",
        "w, X, y = [-1, 0], [[1,2],[0,1]], [-1,0]\n",
        "assert is_similar(SGD(X,y),[-1.0, 0.0])\n",
        "\n",
        "w, X, y = [1, 1, 2], [[1,1,1],[0,0,0]], [0,0]\n",
        "assert is_similar(SGD(X,y),[0.9996, 0.99960004, 1.999600079996])"
      ]
    },
    {
      "cell_type": "markdown",
      "metadata": {
        "id": "sqXG27JDHJx4"
      },
      "source": [
        "implementasikan fungsi is_convergen untuk menentukan termination condition (slide kuliah ml04 halaman 35). Anda bisa menambahkan parameter yang sesuai dengan termination condition yang dipilih. Fungsi ini akan mengembalikan nilai boolean termination_condition"
      ]
    },
    {
      "cell_type": "code",
      "execution_count": null,
      "metadata": {
        "id": "JWQnTis8HKph"
      },
      "outputs": [],
      "source": [
        "def is_convergen():\n",
        "    termination_condition = False\n",
        "    # YOUR CODE HERE\n",
        "    raise NotImplementedError()\n",
        "    return termination_condition"
      ]
    },
    {
      "cell_type": "code",
      "execution_count": null,
      "metadata": {
        "id": "PmoHzPm5HbB2"
      },
      "outputs": [],
      "source": [
        "# PLAYGROUND\n",
        "# you can do anything here as long as not adding any new import\n",
        "features = data.copy()\n",
        "# copy variabel target yang sesuai\n",
        "target = age.copy()\n",
        "w = [1, 2, 3, 4, 5]\n",
        "\n",
        "history = []\n",
        "print('cost func before', cost_func_linreg(features, target))\n",
        "print('weight before', w)\n",
        "\n",
        "number_of_iteration = 0\n",
        "\n",
        "# bagian ini dapat anda modifikasi sesuai dengan fungsi is_convergen yang telah dibuat di atas\n",
        "while not is_convergen():\n",
        "    history.append(cost_func_linreg(features, target)) \n",
        "    w = SGD(features, target, lr=0.001)\n",
        "    number_of_iteration += 1\n",
        "\n",
        "print('cost func after ' + str(number_of_iteration) + ' iteration ' + str(cost_func_linreg(features, target)))\n",
        "print('weight after ' + str(number_of_iteration) + ' iteration ' + str(w))\n",
        "\n",
        "print('\\ncost/loss func plot')\n",
        "plt.figure(figsize=(10,5))\n",
        "plt.plot(history)\n",
        "plt.xlabel('number of iteration')\n",
        "plt.ylabel('loss')\n",
        "plt.grid(True)\n",
        "plt.show()"
      ]
    },
    {
      "cell_type": "code",
      "execution_count": null,
      "metadata": {
        "id": "hYObSbGnHQ8V"
      },
      "outputs": [],
      "source": [
        "class LinearRegression:\n",
        "    def __init__(self, lr=1e-4, max_iter=100000):\n",
        "        self.lr = lr\n",
        "        self.max_iter = max_iter\n",
        "        self.w = []\n",
        "        self.b = 0\n",
        "        self.history = []\n",
        "    \n",
        "    def __h(self, x):\n",
        "        # YOUR CODE HERE\n",
        "        raise NotImplementedError()\n",
        "    \n",
        "    def __cost_func_linreg(self, X, y):\n",
        "        m = len(y)\n",
        "        # YOUR CODE HERE\n",
        "        raise NotImplementedError()\n",
        "    \n",
        "    def __SGD(self, X, y, lr):\n",
        "        alpha, m = lr, len(y)\n",
        "        for i in range(m):\n",
        "          # YOUR CODE HERE\n",
        "          raise NotImplementedError()\n",
        "\n",
        "    def __is_convergen():\n",
        "        termination_condition = False\n",
        "        # YOUR CODE HERE\n",
        "        raise NotImplementedError()\n",
        "        return termination_condition\n",
        "    \n",
        "    def fit(self, X, y):\n",
        "        '''Build a linear regression model from the training set (X, y)'''\n",
        "        # weights initialization\n",
        "        # YOUR CODE HERE\n",
        "        number_of_iteration = 0\n",
        "\n",
        "        # YOUR CODE HERE\n",
        "        while not self.__is_convergen():\n",
        "            self.history.append(self.__cost_func_linreg(features, target))\n",
        "            self.__SGD(features, target, self.lr)\n",
        "            number_of_iteration += 1    \n",
        "        \n",
        "        raise NotImplementedError()\n",
        "\n",
        "    def predict(self, X):\n",
        "        '''Predict value for X'''\n",
        "        # YOUR CODE HERE\n",
        "        raise NotImplementedError()\n",
        "        return prediction"
      ]
    },
    {
      "cell_type": "markdown",
      "metadata": {
        "id": "y8-wH-zOW78M"
      },
      "source": [
        "## Soal 2 \n",
        "### Implementasi Logistic Regression (15 poin)"
      ]
    },
    {
      "cell_type": "code",
      "execution_count": null,
      "metadata": {
        "id": "kipurrlhXBXJ"
      },
      "outputs": [],
      "source": [
        "class LogisticRegression:\n",
        "    def __init__(self, lr=0.01, num_iter=100000):\n",
        "        self.lr = lr\n",
        "        self.num_iter = num_iter\n",
        "        self.w = []\n",
        "    \n",
        "    def fit(self, X, y):\n",
        "        '''Build a logistic regression model from the training set (X, y)'''\n",
        "        # YOUR CODE HERE\n",
        "        raise NotImplementedError()\n",
        "\n",
        "    def predict_proba(self, X):\n",
        "        '''Predict class probabilities of the input samples X'''\n",
        "        '''hint: you can put or call your sigmoid function here to predict probablity of input sample X'''\n",
        "        # YOUR CODE HERE\n",
        "        raise NotImplementedError()\n",
        "\n",
        "    def predict(self, X, threshold=0.5): # default threshold adalah 0.5\n",
        "        '''Predict class value for X'''\n",
        "        '''hint: you can use predict_proba function to classify based on given threshold'''\n",
        "        # YOUR CODE HERE\n",
        "        raise NotImplementedError()"
      ]
    },
    {
      "cell_type": "markdown",
      "metadata": {
        "id": "DwP4SmrMhLsJ"
      },
      "source": [
        "## Soal 3 \n",
        "### Implementasi Decision Tree (15 poin)"
      ]
    },
    {
      "cell_type": "code",
      "execution_count": null,
      "metadata": {
        "id": "hQIGz3vzmCpY"
      },
      "outputs": [],
      "source": [
        "class DecisionTree:\n",
        "    def __init__(self, max_depth=None, min_samples_split=2):\n",
        "        self.max_depth = max_depth\n",
        "        self.min_samples_split = min_samples_split\n",
        "        \n",
        "    # YOUR CODE HERE\n",
        "    \n",
        "    def fit(self, X, y):\n",
        "        '''Build a decision tree classifier from the training set (X, y)'''\n",
        "        # YOUR CODE HERE\n",
        "        raise NotImplementedError()\n",
        "\n",
        "    def predict_proba(self, X):\n",
        "        '''Predict class probabilities of the input samples X'''\n",
        "        # YOUR CODE HERE\n",
        "        raise NotImplementedError()\n",
        "\n",
        "    def predict(self, X):\n",
        "        '''Predict class value for X'''\n",
        "        # YOUR CODE HERE\n",
        "        raise NotImplementedError()"
      ]
    },
    {
      "cell_type": "markdown",
      "metadata": {
        "id": "U5p6RfGRpjW5"
      },
      "source": [
        "## Soal 4 \n",
        "### Implementasi Random Forest (10 poin)"
      ]
    },
    {
      "cell_type": "code",
      "execution_count": null,
      "metadata": {
        "id": "IMqrFHrOpnOD"
      },
      "outputs": [],
      "source": [
        "class RandomForest:\n",
        "    def __init__(self, max_depth=None, min_samples_split=2, \n",
        "                 sample_size=1.0, n_trees=2):\n",
        "        self.max_depth = max_depth\n",
        "        self.min_samples_split = min_samples_split\n",
        "        self.sample_size = sample_size\n",
        "        self.n_trees = n_trees\n",
        "        self.trees = []\n",
        "    \n",
        "    def __bootstrapping(self, x, y):\n",
        "        '''Get a subsample with replacement from the dataset'''\n",
        "        # YOUR CODE HERE\n",
        "        raise NotImplementedError()\n",
        "        return sampled_data\n",
        "\n",
        "    def fit(self, x, y):\n",
        "        '''Build a random forest model from the training set (X, y)'''\n",
        "        '''hint: you can use DecisionTree class to build a random forest'''\n",
        "        # YOUR CODE HERE\n",
        "        raise NotImplementedError()\n",
        "    \n",
        "    def __bagging(self, row):\n",
        "        '''Get a majority vote from the ensemble model'''\n",
        "        # YOUR CODE HERE\n",
        "        raise NotImplementedError()\n",
        "        return majority_vote\n",
        "\n",
        "    def predict(self, x):\n",
        "        '''Predict class value for X'''\n",
        "        '''hint: you can use bagging function to classify based on the majority vote'''\n",
        "        # YOUR CODE HERE\n",
        "        raise NotImplementedError()\n",
        "        return prediction"
      ]
    },
    {
      "cell_type": "markdown",
      "metadata": {
        "id": "58YcOfY2LcMF"
      },
      "source": [
        "## Percobaan pada Data Abalone"
      ]
    },
    {
      "cell_type": "markdown",
      "metadata": {
        "id": "pRd2NH_qgUcJ"
      },
      "source": [
        "### Split data"
      ]
    },
    {
      "cell_type": "code",
      "execution_count": null,
      "metadata": {
        "id": "qCHIcu-Tfduq"
      },
      "outputs": [],
      "source": [
        "# Split a dataset into a train and test set\n",
        "def train_test_split(data, label, split_size=0.80):\n",
        "    train_data = []\n",
        "    train_label = []\n",
        "    train_size = split_size * len(data)\n",
        "    data_copy = data.tolist()\n",
        "    label_copy = label.tolist()\n",
        "    while len(train_data) < train_size:\n",
        "        index = randrange(len(data_copy))\n",
        "        train_data.append(data_copy.pop(index))\n",
        "        train_label.append(label_copy.pop(index))\n",
        "    \n",
        "    train_data = np.array(train_data)\n",
        "    train_label = np.array(train_label)\n",
        "    data_copy = np.array(data_copy)\n",
        "    label_copy = np.array(label_copy)\n",
        "    return train_data, train_label, data_copy, label_copy  "
      ]
    },
    {
      "cell_type": "markdown",
      "metadata": {
        "id": "iTvr4sk-AFq9"
      },
      "source": [
        "Tolong gunakan variabel di bawah ini untuk mengevaluasi model. Variabel dengan akhiran `reg` digunakan untuk mengevaluasi model regresi, sedangkan variabel dengan akhiran `clf` digunakan untuk mengevaluasi model klasifikasi."
      ]
    },
    {
      "cell_type": "code",
      "execution_count": null,
      "metadata": {
        "id": "kTTtd1enfylP"
      },
      "outputs": [],
      "source": [
        "# reg stands for regression data, while clf stands for classification data.\n",
        "# Please use this variables for the next cells below.\n",
        "# Replace 'target' with the appropriate variable (refers to \"age\" or \"label\")\n",
        "x_train_reg, y_train_reg, x_val_reg, y_val_reg = train_test_split(data, 'target')\n",
        "x_train_clf, y_train_clf, x_val_clf, y_val_clf = train_test_split(data, 'target')"
      ]
    },
    {
      "cell_type": "markdown",
      "metadata": {
        "id": "cbhKKqddgX--"
      },
      "source": [
        "### Evaluasi Helper"
      ]
    },
    {
      "cell_type": "code",
      "execution_count": null,
      "metadata": {
        "id": "kn1DbxszgST0"
      },
      "outputs": [],
      "source": [
        "from sklearn.metrics import accuracy_score \n",
        "from sklearn.metrics import confusion_matrix \n",
        "from sklearn.metrics import classification_report \n",
        "from sklearn.metrics import mean_squared_error\n",
        "from sklearn.metrics import mean_absolute_error\n",
        "from sklearn.metrics import r2_score\n",
        "\n",
        "# Function to calculate accuracy \n",
        "def evaluate_clf(y_test, y_pred): \n",
        "      \n",
        "    print(\"* Confusion Matrix\") \n",
        "    print(pd.DataFrame(confusion_matrix(y_test, y_pred), \\\n",
        "            index = ['Actual Class 0', 'Actual Class 1'], \\\n",
        "            columns = ['Pred Class 0', 'Pred Class 1'])) \n",
        "      \n",
        "    print (\"\\n* Accuracy : \", \n",
        "    accuracy_score(y_test,y_pred)*100) \n",
        "      \n",
        "    print(\"\\n* Classification Report :\\n\", \n",
        "    classification_report(y_test, y_pred, zero_division=0)) \n",
        "\n",
        "def evaluate_reg(y_test, y_pred):\n",
        "    print (\"\\n* Mean Squared Error : \", \n",
        "    mean_squared_error(y_test,y_pred)*100) \n",
        "\n",
        "    print (\"\\n* Mean Absolute Error : \", \n",
        "    mean_absolute_error(y_test,y_pred)*100) \n",
        "        \n",
        "    print (\"\\n* R2 Score : \", \n",
        "    r2_score(y_test,y_pred)*100) "
      ]
    },
    {
      "cell_type": "markdown",
      "metadata": {
        "id": "DMfkTWbkLq3c"
      },
      "source": [
        "### Linear Regression"
      ]
    },
    {
      "cell_type": "code",
      "execution_count": null,
      "metadata": {
        "id": "RQ3y79CULqQM"
      },
      "outputs": [],
      "source": [
        "# you can do anything (change any arguments, etc) here \n",
        "# as long as not adding any new import\n",
        "model_linreg = LinearRegression(lr=0.1, max_iter=300000)\n",
        "%time model_linreg.fit('INSERT APPROPRIATE VARIBALES')"
      ]
    },
    {
      "cell_type": "code",
      "execution_count": null,
      "metadata": {
        "id": "gYu88_kgHrZi"
      },
      "outputs": [],
      "source": [
        "# visualisasikan target dan 1 fitur yang menurut Anda berpengaruh paling besar pada target ke dalam 2D plot\n",
        "\n",
        "def linreg_plot(feature, label):\n",
        "    plt.scatter(feature, label)\n",
        "    plt.plot([min(feature), max(feature)], [min(label), max(label)], color='red') # predicted\n",
        "    plt.show()\n",
        "\n",
        "# sesuaikan dengan data Anda\n",
        "dt_features = pd.DataFrame(np.array(data), columns=[\"INSERT NAMA COLUMNS\"])\n",
        "\n",
        "# Ambil fitur yang Anda pilih dari dt_features dengan mengganti \"FITUR X\"\n",
        "feature = dt_features['FITUR X'].to_numpy()\n",
        "linreg_plot(feature, 'target')"
      ]
    },
    {
      "cell_type": "code",
      "execution_count": null,
      "metadata": {
        "id": "W7mDIliHrw7N"
      },
      "outputs": [],
      "source": [
        "# Evaluate your model here\n",
        "# YOUR CODE HERE"
      ]
    },
    {
      "cell_type": "markdown",
      "metadata": {
        "id": "8aFZgB9yLrmq"
      },
      "source": [
        "### Logistic Regression"
      ]
    },
    {
      "cell_type": "code",
      "execution_count": null,
      "metadata": {
        "id": "g5CQm3Z8YE4r"
      },
      "outputs": [],
      "source": [
        "# you can do anything (change any arguments, etc) here \n",
        "# as long as not adding any new import\n",
        "model_logreg = LogisticRegression(lr=0.1, num_iter=300000)\n",
        "%time model_logreg.fit('INSERT APPROPRIATE VARIBALES')"
      ]
    },
    {
      "cell_type": "code",
      "execution_count": null,
      "metadata": {
        "id": "mKOniM0IgPC7"
      },
      "outputs": [],
      "source": [
        "logreg_y_predict = (model_logreg.predict('INSERT APPROPRIATE VARIBALES'))"
      ]
    },
    {
      "cell_type": "code",
      "execution_count": null,
      "metadata": {
        "id": "3kzWW96fg2_4"
      },
      "outputs": [],
      "source": [
        "# Evaluate your model here\n",
        "# YOUR CODE HERE"
      ]
    },
    {
      "cell_type": "markdown",
      "metadata": {
        "id": "qEaw0aJ0LsJ4"
      },
      "source": [
        "### Decision Tree"
      ]
    },
    {
      "cell_type": "code",
      "execution_count": null,
      "metadata": {
        "id": "O57AfacJoSY5"
      },
      "outputs": [],
      "source": [
        "# you can do anything (change any arguments, etc) here \n",
        "# as long as not adding any new import\n",
        "dt_default = DecisionTree()\n",
        "dt_default.fit('INSERT APPROPRIATE VARIBALES')\n",
        "dt1 = DecisionTree(max_depth=2)\n",
        "dt1.fit('INSERT APPROPRIATE VARIBALES')\n",
        "dt2 = DecisionTree(max_depth=5)\n",
        "dt2.fit('INSERT APPROPRIATE VARIBALES')\n",
        "dt3 = DecisionTree(max_depth=15)\n",
        "dt3.fit('INSERT APPROPRIATE VARIBALES')"
      ]
    },
    {
      "cell_type": "code",
      "execution_count": null,
      "metadata": {
        "id": "x-5_i96doiB0"
      },
      "outputs": [],
      "source": [
        "dt_y_predict = (dt_default.predict('INSERT APPROPRIATE VARIBALES'))\n",
        "dt1_y_predict = (dt1.predict('INSERT APPROPRIATE VARIBALES'))\n",
        "dt2_y_predict = (dt2.predict('INSERT APPROPRIATE VARIBALES'))\n",
        "dt3_y_predict = (dt3.predict('INSERT APPROPRIATE VARIBALES'))"
      ]
    },
    {
      "cell_type": "code",
      "execution_count": null,
      "metadata": {
        "id": "mHU1uhOkomJS"
      },
      "outputs": [],
      "source": [
        "# Evaluate your model here\n",
        "# YOUR CODE HERE"
      ]
    },
    {
      "cell_type": "markdown",
      "metadata": {
        "id": "v3nK_71RBQXf"
      },
      "source": [
        "Tolong tampilkan hasil tree yang telah Anda bangun dalam bentuk representasi teks."
      ]
    },
    {
      "cell_type": "code",
      "execution_count": null,
      "metadata": {
        "id": "J5Ucm2KbBhUn"
      },
      "outputs": [],
      "source": [
        "# YOUR CODE HERE"
      ]
    },
    {
      "cell_type": "markdown",
      "metadata": {
        "id": "KTocMasWqGLY"
      },
      "source": [
        "### Random Forest"
      ]
    },
    {
      "cell_type": "code",
      "execution_count": null,
      "metadata": {
        "id": "C6d0Aw7IrZMX"
      },
      "outputs": [],
      "source": [
        "# you can do anything (change any arguments, etc) here \n",
        "# as long as not adding any new import\n",
        "rf_default = RandomForest()\n",
        "rf_default.fit('INSERT APPROPRIATE VARIBALES')\n",
        "rf1 = RandomForest(n_trees=3)\n",
        "rf1.fit('INSERT APPROPRIATE VARIBALES')\n",
        "rf2 = RandomForest(n_trees=5)\n",
        "rf2.fit('INSERT APPROPRIATE VARIBALES')\n",
        "rf3 = RandomForest(max_depth=5, n_trees=3)\n",
        "rf3.fit('INSERT APPROPRIATE VARIBALES')"
      ]
    },
    {
      "cell_type": "code",
      "execution_count": null,
      "metadata": {
        "id": "A9JeJr2Zx58X"
      },
      "outputs": [],
      "source": [
        "rf_y_predict = (rf_default.predict('INSERT APPROPRIATE VARIBALES'))\n",
        "rf1_y_predict = (rf1.predict('INSERT APPROPRIATE VARIBALES'))\n",
        "rf2_y_predict = (rf2.predict('INSERT APPROPRIATE VARIBALES'))\n",
        "rf3_y_predict = (rf3.predict('INSERT APPROPRIATE VARIBALES'))"
      ]
    },
    {
      "cell_type": "code",
      "execution_count": null,
      "metadata": {
        "id": "2C8n5xhZyApw"
      },
      "outputs": [],
      "source": [
        "# Evaluate your model here\n",
        "# YOUR CODE HERE"
      ]
    },
    {
      "cell_type": "markdown",
      "metadata": {
        "id": "pUn3PCIkqPMJ"
      },
      "source": [
        "## Soal 5\n",
        "### Analisis (15 poin)\n",
        "  - Jelaskan secara singkat analisis Anda terhadap hasil Linear Regression yang didapatkan.\n",
        "  - Apa atribut yang paling mempengaruhi \"target\" pada Linear Regression?\n",
        "  - Jelaskan secara singkat analisis Anda terhadap hasil Logistic Regression yang didapatkan.\n",
        "  - Berikan analisis Anda berdasarkan hasil evaluasi dan issue yang terdapat dalam Decision Tree Class yang dibangun.\n",
        "  - Jelaskan secara singkat perbedaan hasil evaluasi dari Decision Tree dan Logistic Regression yang didapatkan dan mengapa perbedaan tersebut bisa terjadi.\n",
        "  - Berikan analisis Anda berdasarkan hasil evaluasi dari Random Forest yang didapatkan.\n",
        "  - Jelaskan secara singkat perbedaan hasil evaluasi dari Logistic Regression dan Random Forest yang didapatkan dan mengapa perbedaan tersebut bisa terjadi.\n",
        "  - Jelaskan secara singkat perbedaan hasil evaluasi dari Decision Tree dan Random Forest yang didapatkan dan mengapa perbedaan tersebut bisa terjadi.\n",
        "  - Apa trade-off dari Decision Tree dan Random Forest?\n",
        "  - Berikan kesimpulan dari keseluruhan percobaan yang Anda lakukan terhadap data Abalone.\n"
      ]
    },
    {
      "cell_type": "markdown",
      "metadata": {
        "id": "Ycfi1-RgqROg"
      },
      "source": [
        "### Jawaban"
      ]
    }
  ],
  "metadata": {
    "accelerator": "GPU",
    "colab": {
      "collapsed_sections": [
        "y8-wH-zOW78M",
        "DwP4SmrMhLsJ",
        "U5p6RfGRpjW5",
        "cbhKKqddgX--"
      ],
      "provenance": []
    },
    "kernelspec": {
      "display_name": "Python 3",
      "language": "python",
      "name": "python3"
    },
    "language_info": {
      "codemirror_mode": {
        "name": "ipython",
        "version": 3
      },
      "file_extension": ".py",
      "mimetype": "text/x-python",
      "name": "python",
      "nbconvert_exporter": "python",
      "pygments_lexer": "ipython3",
      "version": "3.7.2"
    }
  },
  "nbformat": 4,
  "nbformat_minor": 0
}