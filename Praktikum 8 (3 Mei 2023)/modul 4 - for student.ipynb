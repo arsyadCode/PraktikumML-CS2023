{
  "nbformat": 4,
  "nbformat_minor": 0,
  "metadata": {
    "colab": {
      "provenance": []
    },
    "kernelspec": {
      "name": "python3",
      "display_name": "Python 3"
    },
    "language_info": {
      "name": "python"
    }
  },
  "cells": [
    {
      "cell_type": "markdown",
      "source": [
        "## Import library yang digunakan"
      ],
      "metadata": {
        "id": "zaodt0y_hbob"
      }
    },
    {
      "cell_type": "code",
      "source": [
        "import os\n",
        "import numpy as np\n",
        "import pandas as pd\n",
        "import seaborn as sns\n",
        "import matplotlib.pyplot as p\n",
        "\n",
        "from sklearn.preprocessing import LabelEncoder\n",
        "from sklearn.model_selection import train_test_split\n",
        "from sklearn.model_selection import RandomizedSearchCV, GridSearchCV\n",
        "from sklearn import tree\n",
        "from sklearn.metrics import accuracy_score, confusion_matrix"
      ],
      "metadata": {
        "id": "U28c885HhbyV"
      },
      "execution_count": 2,
      "outputs": []
    },
    {
      "cell_type": "markdown",
      "source": [
        "## Load dataset"
      ],
      "metadata": {
        "id": "VjeXrqHOhiit"
      }
    },
    {
      "cell_type": "code",
      "source": [
        "data = 'heart.csv'\n",
        "df   = pd.read_csv(data)\n",
        "\n",
        "df.head()"
      ],
      "metadata": {
        "id": "7HdVEZLHhSPw"
      },
      "execution_count": null,
      "outputs": []
    },
    {
      "cell_type": "markdown",
      "source": [
        "## Preprocessing"
      ],
      "metadata": {
        "id": "B67yb0kLiwf9"
      }
    },
    {
      "cell_type": "markdown",
      "source": [
        "### make feature and target data"
      ],
      "metadata": {
        "id": "U06gruu-ix_E"
      }
    },
    {
      "cell_type": "code",
      "source": [
        "X = df.drop(columns = ['target'])\n",
        "y = df['target']\n",
        "\n",
        "print(X.shape)\n",
        "print(y.shape)"
      ],
      "metadata": {
        "id": "ArU9ai-Hi3Z2"
      },
      "execution_count": null,
      "outputs": []
    },
    {
      "cell_type": "markdown",
      "source": [
        "### split the dataset"
      ],
      "metadata": {
        "id": "IJ0sz1yii7cT"
      }
    },
    {
      "cell_type": "code",
      "source": [
        "x_train, x_test, y_train, y_test = train_test_split(X, y, stratify = y)\n",
        "\n",
        "print(x_train.shape)\n",
        "print(x_test.shape)"
      ],
      "metadata": {
        "id": "9qNZsQNNi9M7"
      },
      "execution_count": null,
      "outputs": []
    },
    {
      "cell_type": "markdown",
      "source": [
        "## Make decision tree model using library"
      ],
      "metadata": {
        "id": "rlcyFgeDjcbK"
      }
    },
    {
      "cell_type": "code",
      "source": [
        "clf = #INPUT CODE HERE\n",
        "clf.fit(x_train, y_train)\n",
        "\n",
        "y_train_pred = clf.predict(x_train)\n",
        "y_test_pred  = clf.predict(x_test)"
      ],
      "metadata": {
        "id": "sGFOJ4TLjgB1"
      },
      "execution_count": null,
      "outputs": []
    },
    {
      "cell_type": "markdown",
      "source": [
        "### visualize the model"
      ],
      "metadata": {
        "id": "C6Syla0GjzF1"
      }
    },
    {
      "cell_type": "code",
      "source": [
        "plt.figure(figsize = (20, 20))\n",
        "\n",
        "features = df.columns\n",
        "classes  = ['Not heart disease', 'heart disease']\n",
        "\n",
        "tree.plot_tree() # Fill the parameter\n",
        "plt.show()"
      ],
      "metadata": {
        "id": "e8QzWNiOj0m9"
      },
      "execution_count": null,
      "outputs": []
    },
    {
      "cell_type": "markdown",
      "source": [
        "### tampilkan confusion matrix"
      ],
      "metadata": {
        "id": "7hVxjYUMkH7G"
      }
    },
    {
      "cell_type": "code",
      "source": [
        "# fungsi consufion matrix\n",
        "def plot_confusionmatrix(y_train_pred, y_train,dom):\n",
        "    print(f'{dom} Confusion matrix')\n",
        "\n",
        "    cf = # PUT CODE HERE\n",
        "\n",
        "    sns.heatmap() # Fill the parameter\n",
        "    plt.tight_layout()\n",
        "    plt.show()"
      ],
      "metadata": {
        "id": "qX8HZPpXkJu1"
      },
      "execution_count": null,
      "outputs": []
    },
    {
      "cell_type": "code",
      "source": [
        "print(f'Train score {accuracy_score(y_train_pred, y_train)}')\n",
        "print(f'Test score {accuracy_score(y_test_pred, y_test)}')\n",
        "\n",
        "plot_confusionmatrix(y_train_pred, y_train, dom = 'Train')\n",
        "plot_confusionmatrix(y_test_pred, y_test, dom = 'Test')"
      ],
      "metadata": {
        "id": "XBjs4GVckgBO"
      },
      "execution_count": null,
      "outputs": []
    },
    {
      "cell_type": "markdown",
      "source": [
        "## Optimization Technique"
      ],
      "metadata": {
        "id": "xkvaV1y_kotW"
      }
    },
    {
      "cell_type": "markdown",
      "source": [
        "### pre-pruning techniques\n",
        "\n",
        "pre-pruning merupakan teknik untuk menghentikan decision tree di awal. Proses menghentikan decision tree ini dilakukan menggunakan beberapa batasan, seperti membatasi parameter (max_depth, min_samples, dll).\n",
        "\n",
        "Cara efektif untuk melakukan pre-pruning adalah mencari grid parameter tersebut dan memilih nilai yang memberikan hasil optimal pada data test.\n",
        "\n",
        "\n",
        "1. max_depth : maximum depth of decision tree\n",
        "2. min_sample_split: The minimum number of samples required to split an internal node\n",
        "3. min_samples_leaf: The minimum number of samples required to be at a leaf node.\n",
        "\n",
        "Implementasi teknik pre-pruning"
      ],
      "metadata": {
        "id": "Yg92a7PUksuE"
      }
    },
    {
      "cell_type": "code",
      "source": [
        "params = {} # Fill the parameter\n",
        "\n",
        "clf = tree.DecisionTreeClassifier()\n",
        "gcv = GridSearchCV() # Fill the parameter\n",
        "\n",
        "gcv.fit(x_train, y_train)"
      ],
      "metadata": {
        "id": "QAWhnrFBls3u"
      },
      "execution_count": null,
      "outputs": []
    },
    {
      "cell_type": "code",
      "source": [
        "# PUT CODE HERE"
      ],
      "metadata": {
        "id": "w4gPP_56l-B1"
      },
      "execution_count": null,
      "outputs": []
    },
    {
      "cell_type": "markdown",
      "source": [
        "visualisasi"
      ],
      "metadata": {
        "id": "CvOYclBUmJVQ"
      }
    },
    {
      "cell_type": "code",
      "source": [
        "plt.figure(figsize = (20, 20))\n",
        "\n",
        "features = df.columns\n",
        "classes  = ['Not heart disease', 'heart disease']\n",
        "\n",
        "tree.plot_tree() # Fill the parameter\n",
        "plt.show()"
      ],
      "metadata": {
        "id": "7Qb7z4w5mKal"
      },
      "execution_count": null,
      "outputs": []
    },
    {
      "cell_type": "markdown",
      "source": [
        "### post-pruning techniques (cost complexity pruning)\n",
        "\n",
        "ovefitting sering terjadi pada decision tree, dimana untuk mengatasinya salah satu cara yang dapat digunakan ialah dengan memberi batasan pada tree kita. Namun, cara yang paling efisien adalah melalui penggunaan teknik post-pruning yang satunya adalah teknik cost complexity pruning. Teknik ini akan membentu meningkatkan akurasi dari model.\n",
        "\n",
        "cost complexity pruning merupakan teknik untuk menemukan parameter yang paling sesuai untuk nilai alpha. Akan dicoba untuk mendapat nilai alpha dari tree dan kita evaluasi model hasilnya."
      ],
      "metadata": {
        "id": "o4XqjEQjmZDE"
      }
    },
    {
      "cell_type": "code",
      "source": [
        "path = # PUT CODE HERE \n",
        "ccp_alphas, impurities = # PUT CODE HERE\n",
        "\n",
        "print(ccp_alphas)"
      ],
      "metadata": {
        "id": "AOqoWpO0nWBX"
      },
      "execution_count": null,
      "outputs": []
    },
    {
      "cell_type": "code",
      "source": [
        "# For each alpha we will append our model to a list\n",
        "clfs = []\n",
        "\n",
        "for ccp_alpha in ccp_alphas:\n",
        "    clf = # PUT CODE HERE\n",
        "    clf.fit(x_train, y_train)\n",
        "    clfs.append(clf)"
      ],
      "metadata": {
        "id": "xmQ-LgXSncI5"
      },
      "execution_count": null,
      "outputs": []
    },
    {
      "cell_type": "markdown",
      "source": [
        "buang element terakhir dalam variabel clfs dan ccp_alphas, karena hanya memiliki 1 node."
      ],
      "metadata": {
        "id": "XlH8IFbTnjlV"
      }
    },
    {
      "cell_type": "code",
      "source": [
        "clfs        = clfs[:-1]\n",
        "ccp_alphas  = ccp_alphas[:-1]\n",
        "node_counts = [clf.tree_.node_count for clf in clfs]\n",
        "depth       = [clf.tree_.max_depth for clf in clfs]\n",
        "\n",
        "# PUT CODE HERE"
      ],
      "metadata": {
        "id": "-FwXE5DmnrnF"
      },
      "execution_count": null,
      "outputs": []
    },
    {
      "cell_type": "markdown",
      "source": [
        "saat nilai alpha meningkat, jumlah nodes dan kedalaman berkurang."
      ],
      "metadata": {
        "id": "a-Hxn-aVn7KE"
      }
    },
    {
      "cell_type": "code",
      "source": [
        "train_acc = []\n",
        "test_acc  = []\n",
        "\n",
        "for c in clfs:\n",
        "    y_train_pred = c.predict(x_train)\n",
        "    y_test_pred  = c.predict(x_test)\n",
        "    train_acc.append(accuracy_score(y_train_pred, y_train))\n",
        "    test_acc.append(accuracy_score(y_test_pred, y_test))\n",
        "\n",
        "# PUT CODE HERE"
      ],
      "metadata": {
        "id": "D5tZUrcjoFmg"
      },
      "execution_count": null,
      "outputs": []
    },
    {
      "cell_type": "markdown",
      "source": [
        "pilih alpha = 0.020"
      ],
      "metadata": {
        "id": "Tz0DGCdqoVMT"
      }
    },
    {
      "cell_type": "code",
      "source": [
        "clf_ = tree.DecisionTreeClassifier(random_state = 0, ccp_alpha = 0.020)\n",
        "clf_.fit(x_train, y_train)\n",
        "\n",
        "y_train_pred = clf_.predict(x_train)\n",
        "y_test_pred  = clf_.predict(x_test)\n",
        "\n",
        "print(f'Train score {accuracy_score(y_train_pred, y_train)}')\n",
        "print(f'Test score {accuracy_score(y_test_pred, y_test)}')\n",
        "plot_confusionmatrix(y_train_pred, y_train, dom = 'Train')\n",
        "plot_confusionmatrix(y_test_pred, y_test, dom = 'Test')"
      ],
      "metadata": {
        "id": "iAbpzB_yoWff"
      },
      "execution_count": null,
      "outputs": []
    },
    {
      "cell_type": "markdown",
      "source": [
        "visualisasi"
      ],
      "metadata": {
        "id": "wIV82Zw-ok5b"
      }
    },
    {
      "cell_type": "code",
      "source": [
        "plt.figure(figsize = (20, 20))\n",
        "\n",
        "features = df.columns\n",
        "classes  = ['Not heart disease', 'heart disease']\n",
        "\n",
        "tree.plot_tree(clf_,feature_names = features, class_names = classes, filled = True)\n",
        "plt.show()"
      ],
      "metadata": {
        "id": "uw23MSEkolzb"
      },
      "execution_count": null,
      "outputs": []
    }
  ]
}