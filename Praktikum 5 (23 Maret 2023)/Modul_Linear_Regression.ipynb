{
  "cells": [
    {
      "cell_type": "markdown",
      "metadata": {
        "id": "HEKvGzaEGiYF"
      },
      "source": [
        "# Load Libraries"
      ]
    },
    {
      "cell_type": "code",
      "execution_count": 2,
      "metadata": {
        "id": "qhkaUt8dGiY3"
      },
      "outputs": [],
      "source": [
        "import numpy as np\n",
        "import seaborn as sns\n",
        "\n",
        "%matplotlib inline\n",
        "import matplotlib.pyplot as plt\n",
        "#sns.set(style = 'whitegrid', context = 'notebook') #optional\n",
        "\n",
        "from sklearn import datasets"
      ]
    },
    {
      "cell_type": "markdown",
      "metadata": {
        "id": "dfKwrBweGiZC"
      },
      "source": [
        "# Load Dataset (Iris)\n",
        "Dataset bunga iris adalah salah satu dataset bersejarah yang paling terkenal, banyak ditemukan di buku dan publikasi, karena datanya yang berguna untuk problem klasifikasi dan regresi.\n",
        "Dataset iris (https://archive.ics.uci.edu/ml/datasets/Iris) berisikan 50 catatan untuk masing-masing dari tiga jenis bunga Iris, 150 baris dari total lima kolom. Setiap baris adalah hasil pengukuran berikut:\n",
        "\n",
        "Panjang kelopak daun (Sepal) dalam cm  \n",
        "Lebar Sepal dalam cm  \n",
        "Panjang mahkota bunga (Petal) dalam cm  \n",
        "Lebar Petal dalam cm\n",
        "\n",
        "Kolom terakhir adalah tipe bunga (setosa, versicolor, atau virginica)."
      ]
    },
    {
      "cell_type": "code",
      "execution_count": 3,
      "metadata": {
        "id": "pJVhsMteGiZF"
      },
      "outputs": [],
      "source": [
        "iris = sns.load_dataset('iris')"
      ]
    },
    {
      "cell_type": "markdown",
      "metadata": {
        "id": "xZcLs0pRGiZK"
      },
      "source": [
        "Untuk memahami depedensi antar variabel, kita gunakan operasi covariance: "
      ]
    },
    {
      "cell_type": "code",
      "execution_count": 4,
      "metadata": {
        "id": "sBxMx7l2GiZO"
      },
      "outputs": [],
      "source": [
        "def covariance(X, Y):\n",
        "    xhat    = np.mean(X)\n",
        "    yhat    = np.mean(Y)\n",
        "    epsilon = 0\n",
        "\n",
        "    for x,y in zip(X, Y):\n",
        "        epsilon = epsilon + (x - xhat) * (y - yhat)\n",
        "\n",
        "    return epsilon / (len(X) - 1)"
      ]
    },
    {
      "cell_type": "code",
      "execution_count": 5,
      "metadata": {
        "colab": {
          "base_uri": "https://localhost:8080/"
        },
        "id": "vQW1BXsLGiZR",
        "outputId": "afd36937-f1a4-4c87-d942-64cdada8857f"
      },
      "outputs": [
        {
          "output_type": "stream",
          "name": "stdout",
          "text": [
            "1.25\n"
          ]
        }
      ],
      "source": [
        "# Contoh penggunaan\n",
        "print(covariance([1, 1, 4, 3], [1, 0, 2, 2]))"
      ]
    },
    {
      "cell_type": "markdown",
      "metadata": {
        "id": "ojRQiELdGiZZ"
      },
      "source": [
        "Operasi correlation:"
      ]
    },
    {
      "cell_type": "code",
      "execution_count": 6,
      "metadata": {
        "id": "23o3cSbUGiZb"
      },
      "outputs": [],
      "source": [
        "def correlation (X, Y):\n",
        "    return (covariance(X, Y) / (np.std(X, ddof = 1) * np.std(Y, ddof = 1))) # ddof = 1 agar pembagi untuk std adalah N - 1"
      ]
    },
    {
      "cell_type": "markdown",
      "metadata": {
        "id": "bT8Kq1ncGiZh"
      },
      "source": [
        "Contoh penggunaan:"
      ]
    },
    {
      "cell_type": "code",
      "execution_count": 7,
      "metadata": {
        "colab": {
          "base_uri": "https://localhost:8080/"
        },
        "id": "NfSk31USGiZk",
        "outputId": "a1a90faf-c8ef-4f90-ac23-8465af35c587"
      },
      "outputs": [
        {
          "output_type": "stream",
          "name": "stdout",
          "text": [
            "0.8703882797784892\n"
          ]
        }
      ],
      "source": [
        "print(correlation([1, 1, 4, 3], [1, 0, 2, 2]))"
      ]
    },
    {
      "cell_type": "markdown",
      "metadata": {
        "id": "g4DgtfmaGiZn"
      },
      "source": [
        "## Mendapatkan intuisi dengan tampilan visual menggunakan Seaborn pairplot.\n",
        "\n",
        "Seaborn dapat digunakan untuk mendapatkan representasi grafis dari semua kombinasi variabel yang mungkin.\n",
        "Fungsi pairplot Seaborn adalah membuat ringkasan grafis yang sangat lengkap dari semua pasangan variabel, direpresentasikan sebagai scatterplots, dan representasi dari distribusi untuk matriks diagonal, untuk mencari hubungan antar variabel."
      ]
    },
    {
      "cell_type": "code",
      "execution_count": 8,
      "metadata": {
        "colab": {
          "base_uri": "https://localhost:8080/",
          "height": 885
        },
        "id": "EV2G5lZZGiZs",
        "outputId": "dfe83a63-77e2-4788-989a-d4bad808a7ed"
      },
      "outputs": [
        {
          "output_type": "execute_result",
          "data": {
            "text/plain": [
              "<seaborn.axisgrid.PairGrid at 0x7f7bbd9aa730>"
            ]
          },
          "metadata": {},
          "execution_count": 8
        },
        {
          "output_type": "display_data",
          "data": {
            "text/plain": [
              "<Figure size 864x864 with 20 Axes>"
            ],
            "image/png": "[encoded data removed]"
          },
          "metadata": {
            "needs_background": "light"
          }
        }
      ],
      "source": [
        "sns.pairplot(iris, height = 3.0)"
      ]
    },
    {
      "cell_type": "markdown",
      "metadata": {
        "id": "a9NpANrQGiZy"
      },
      "source": [
        "Untuk analisis awal, kita ambil nilai petal_width dan petal_length yang memiliki hubungan linear"
      ]
    },
    {
      "cell_type": "code",
      "execution_count": 9,
      "metadata": {
        "id": "Q_TTpe9hGiZz"
      },
      "outputs": [],
      "source": [
        "X = iris['petal_width'].values # gunakan .values untuk mendapatkan bentuk numpy array\n",
        "Y = iris['petal_length'].values"
      ]
    },
    {
      "cell_type": "code",
      "execution_count": 10,
      "metadata": {
        "scrolled": true,
        "colab": {
          "base_uri": "https://localhost:8080/",
          "height": 282
        },
        "id": "qk7hTdxyGiZ3",
        "outputId": "bcfce7bc-62a2-4070-80f7-217c8242695e"
      },
      "outputs": [
        {
          "output_type": "execute_result",
          "data": {
            "text/plain": [
              "<matplotlib.collections.PathCollection at 0x7f7bbad89700>"
            ]
          },
          "metadata": {},
          "execution_count": 10
        },
        {
          "output_type": "display_data",
          "data": {
            "text/plain": [
              "<Figure size 432x288 with 1 Axes>"
            ],
            "image/png": "[encoded data removed]"
          },
          "metadata": {
            "needs_background": "light"
          }
        }
      ],
      "source": [
        "plt.scatter(X, Y)"
      ]
    },
    {
      "cell_type": "markdown",
      "metadata": {
        "id": "wbVu0sPHGiZ6"
      },
      "source": [
        "# Mengimplementasikan Metode Correlation untuk Mencari Parameter dari Regresi"
      ]
    },
    {
      "cell_type": "code",
      "execution_count": 11,
      "metadata": {
        "id": "wT-52AYmGiZ8"
      },
      "outputs": [],
      "source": [
        "def correlation_fit(x, y):\n",
        "    beta  = correlation(x, y) * np.std(y, ddof = 1) / np.std(x, ddof = 1) #Slope\n",
        "    alpha = np.mean(y) - beta * np.mean(x) #Intercept\n",
        "    \n",
        "    return alpha, beta"
      ]
    },
    {
      "cell_type": "code",
      "execution_count": 12,
      "metadata": {
        "colab": {
          "base_uri": "https://localhost:8080/"
        },
        "id": "M0e1Dj3IGiZ9",
        "outputId": "2b9d983a-ae0f-4feb-efed-4958827c9ec6"
      },
      "outputs": [
        {
          "output_type": "stream",
          "name": "stdout",
          "text": [
            "1.0835580328505117\n",
            "2.2299404951218635\n"
          ]
        }
      ],
      "source": [
        "alpha, beta = correlation_fit(X, Y)\n",
        "\n",
        "print(alpha)\n",
        "print(beta)"
      ]
    },
    {
      "cell_type": "markdown",
      "metadata": {
        "id": "TiZqfjUhGiaA"
      },
      "source": [
        "Tampilkan grafik garis regresi dengan datanya."
      ]
    },
    {
      "cell_type": "code",
      "execution_count": 13,
      "metadata": {
        "colab": {
          "base_uri": "https://localhost:8080/",
          "height": 283
        },
        "id": "30wMJiOUGiaD",
        "outputId": "eabe0f24-90ea-4d13-ca67-bef5f05054be"
      },
      "outputs": [
        {
          "output_type": "execute_result",
          "data": {
            "text/plain": [
              "[<matplotlib.lines.Line2D at 0x7f7bba1d3070>]"
            ]
          },
          "metadata": {},
          "execution_count": 13
        },
        {
          "output_type": "display_data",
          "data": {
            "text/plain": [
              "<Figure size 432x288 with 1 Axes>"
            ],
            "image/png": "[encoded data removed]"
          },
          "metadata": {
            "needs_background": "light"
          }
        }
      ],
      "source": [
        "# tampilkan scatter datanya\n",
        "plt.scatter(X, Y)\n",
        "\n",
        "# generate garis linear dari nilai alpha dan beta yang diperoleh\n",
        "xr = np.arange(0, 3.5)\n",
        "yr = (xr * beta) + alpha\n",
        "\n",
        "plt.plot(xr, yr)"
      ]
    },
    {
      "cell_type": "markdown",
      "metadata": {
        "tags": [],
        "id": "NLSBoI90GiaH"
      },
      "source": [
        "# Prediksi dan kesalahan (error) dari hasil prediksi"
      ]
    },
    {
      "cell_type": "markdown",
      "metadata": {
        "id": "9XX_iJouGiaM"
      },
      "source": [
        "Model dari data kita adalah dalam bentuk persamaan linear $\\hat{y} = w_0 + w_1 x$"
      ]
    },
    {
      "cell_type": "code",
      "execution_count": 14,
      "metadata": {
        "id": "RjzoPLb2GiaS"
      },
      "outputs": [],
      "source": [
        "def predict(w0, w1, x):\n",
        "    return w0 + w1 * x"
      ]
    },
    {
      "cell_type": "markdown",
      "metadata": {
        "tags": [],
        "id": "cKHeckaEGiaU"
      },
      "source": [
        "## Error\n",
        "\n",
        "- Permasalahan: garis hasil prediksi tidak _fit_ ke data secara tepat.\n",
        "- Kita dapat **mentoleransi** error sebesar $\\varepsilon$\n",
        "- Untuk pasangan data $(x_i, y_i)$, errornya dapat ditulis sebagai:\n",
        "\n",
        "$$\n",
        "\\varepsilon_i = y_i - (w_0 + w_1 x_i)\n",
        "$$\n",
        "\n",
        "- Atau secara umum dapat ditulis sebagai:\n",
        "\n",
        "$$\n",
        "\\varepsilon_i = y_i - \\hat{y_i}\n",
        "$$\n",
        "\n",
        "dimana $\\hat{y_i}$ adalah nilai prediksi dari $y_i$"
      ]
    },
    {
      "cell_type": "markdown",
      "metadata": {
        "id": "xQqHz-SqGiaV"
      },
      "source": [
        "---\n",
        "## Cost Function\n",
        "\n",
        "Dari fungsi error diatas, kita dapat memperoleh nilai \"error\" atau $\\varepsilon$ dari tiap-tiap data point terhadap nilai dari regresinya. Namun bagaimana cara agar kita tahu bahwa model regresi yang di _fit_ sudah baik **secara keseluruhan**? \n",
        "\n",
        "Cara paling sederhana adalah jumlahkan semua error sehingga akan kita dapatkan representasi error secara keseluruhan. Namun, nilai dari $\\varepsilon_i$ beragam dari nilai positif dan negatif, sehingga ada kemungkinan bahwa walaupun nilai dari masing-masing error besar, namun bisa saling menghilangkan satu sama lain. Maka, cara yang bisa dilakukan agar tidak ada nilai negatif adalah:\n",
        "- Jumlahkan nilai absolut error (sum of absolute error)  \n",
        "Persamaan matematis:  \n",
        "$$\n",
        "SAE = \\sum_{i=1}^{n_{samp}} |\\varepsilon_i| = \\sum_{i=1}^{n_{samp}} |y_i - \\hat{y_i}|\n",
        "$$\n",
        "- Jumlahkan nilai kuadrat dari error (sum of squared error)  \n",
        "Persamaan matematis:  \n",
        "$$\n",
        "SSE = \\sum_{i=1}^{n_{samp}} \\varepsilon_i^2 = \\sum_{i=1}^{n_{samp}} (y_i - \\hat{y_i})^2\n",
        "$$"
      ]
    },
    {
      "cell_type": "code",
      "execution_count": 15,
      "metadata": {
        "id": "D9FMSB1DGiaa"
      },
      "outputs": [],
      "source": [
        "# Membuat fungsi SAE dengan python:\n",
        "def sae(y_true, y_pred):\n",
        "    return np.sum(np.abs(y_true - y_pred))"
      ]
    },
    {
      "cell_type": "code",
      "execution_count": 16,
      "metadata": {
        "id": "CuMkXpo5Giac"
      },
      "outputs": [],
      "source": [
        "# Membuat fungsi SSE dengan python:\n",
        "def sse(y_true, y_pred):\n",
        "    return np.sum((y_true - y_pred)**2)"
      ]
    },
    {
      "cell_type": "markdown",
      "metadata": {
        "tags": [],
        "id": "kadkIrEVGiah"
      },
      "source": [
        "Jika kita membandingkan performa kesalahan prediksi suatu algoritma untuk dataset antara 1 juta data point dan 1000 data point, maka kemungkinan besar akan kita dapatkan jumlah kesalahan yang besar untuk dataset berjumlah 1 juta data point. Oleh karena itu, akan lebih adil jika kita menilai nilai rataan dari keseluruhan error. Maka pengukuran performa dapat dilakukan dengan menggunakan Mean of Absolut Error (MAE) atau Mean of Squared Error (MSE) sebagai berikut: \n",
        "\n",
        "$$\n",
        "MAE = \\frac{\\sum_{i=1}^{n_{samp}} |\\varepsilon_i|}{n_{samp}} = \\frac{\\sum_{i=1}^{n_{samp}} |y_i - \\hat{y_i}|}{n_{samp}} = \\frac{SAE}{n_{samp}}\n",
        "$$\n",
        "\n",
        "$$\n",
        "MSE = \\frac{\\sum_{i=1}^{n_{samp}} \\varepsilon_i^2}{n_{samp}} = \\frac{\\sum_{i=1}^{n_{samp}} (y_i - \\hat{y_i})^2}{n_{samp}} = \\frac{SSE}{n_{samp}}\n",
        "$$\n",
        "\n",
        "Karena MSE memiliki nilai kuadrat dari satuan unit error, maka tidak bisa digunakan untuk dibandingkan dengan satuan unit MAE. Maka kita juga bisa gunakan nilai akar dari MSE, atau Root MSE (RMSE) sebagai berikut sebagai salah satu metriks ukuran performa:\n",
        "$$\n",
        "RMSE = \\sqrt{MSE}\n",
        "$$\n"
      ]
    },
    {
      "cell_type": "markdown",
      "source": [
        "# Bonus - hanya jika waktu cukup, jika tidak coba di rumah\n"
      ],
      "metadata": {
        "id": "U9eI-a12LIUL"
      }
    },
    {
      "cell_type": "markdown",
      "source": [
        "### Polynomial Basis Functions\n",
        "\n",
        "Transformasi dengan fungsi basis polinomial mentransformasikan data sehingga model OLS tetap dapat bekerja dengan baik. Untuk memudahkan visualisasi, sementara waktu kita akan melihat data yang lebih mudah untuk ditransformasi. Agar lebih mudah terlihat, kita gunakan satu prediktor yang memiliki hubungan kubikal dengan variabel yang ingin kita prediksi. Di bawah ini disertakan data dan model OLS yang langsung diterapkan pada data yang ada."
      ],
      "metadata": {
        "id": "n1PDLEl2LUBK"
      }
    },
    {
      "cell_type": "code",
      "source": [
        "from sklearn.linear_model import LinearRegression\n",
        "\n",
        "np.random.seed(42)\n",
        "\n",
        "n = 30\n",
        "x = np.random.random(n) * 10\n",
        "y = x**3 + 5 * np.random.randn(n)\n",
        "\n",
        "x_1col = x.reshape(-1,1)\n",
        "reg    = LinearRegression()\n",
        "\n",
        "reg.fit(x_1col, y)\n",
        "\n",
        "xfit = np.linspace(x.min(), x.max())\n",
        "yfit = reg.predict(xfit.reshape(-1, 1))\n",
        "\n",
        "ax = plt.gca()\n",
        "plt.scatter(x, y, marker = 'o')\n",
        "plt.plot(xfit, yfit, c = 'red')\n",
        "plt.xlabel('x')\n",
        "plt.ylabel('y')\n",
        "sns.despine()"
      ],
      "metadata": {
        "colab": {
          "base_uri": "https://localhost:8080/",
          "height": 279
        },
        "id": "iuoiEfM4Lpc8",
        "outputId": "4590bdac-8a79-4cec-f115-cbab49649b34"
      },
      "execution_count": 21,
      "outputs": [
        {
          "output_type": "display_data",
          "data": {
            "text/plain": [
              "<Figure size 432x288 with 1 Axes>"
            ],
            "image/png": "[encoded data removed]"
          },
          "metadata": {
            "needs_background": "light"
          }
        }
      ]
    },
    {
      "cell_type": "markdown",
      "source": [
        "Mentransformasi nilai $x$ menjadi $x^3$ pada contoh di bawah membantu kita melihat secara visual bahwa sekarang hubungannya kembali linear!\n",
        "\n",
        "*Catatan: Perhatikan label sumbu x-nya!*"
      ],
      "metadata": {
        "id": "mn_QRlHaPGsF"
      }
    },
    {
      "cell_type": "code",
      "source": [
        "np.random.seed(42)\n",
        "\n",
        "n = 30\n",
        "x = np.random.random(n) * 10\n",
        "y = x**3 + 5 * np.random.randn(n) # kita seringnya tidak tahu relasi ini dalam dunia nyata\n",
        "\n",
        "ax = plt.gca()\n",
        "sns.regplot(x = x**3, y = y, ci = False, ax = ax)\n",
        "plt.xlabel('$x^3$')\n",
        "plt.ylabel('$y$');"
      ],
      "metadata": {
        "colab": {
          "base_uri": "https://localhost:8080/",
          "height": 283
        },
        "id": "moKxbM1aPJAN",
        "outputId": "cf7854f8-48de-4fa9-9c86-f6d04e8d7a78"
      },
      "execution_count": 20,
      "outputs": [
        {
          "output_type": "display_data",
          "data": {
            "text/plain": [
              "<Figure size 432x288 with 1 Axes>"
            ],
            "image/png": "[encoded data removed]"
          },
          "metadata": {
            "needs_background": "light"
          }
        }
      ]
    },
    {
      "cell_type": "markdown",
      "source": [
        "Berdasarkan contoh di atas, kita dapat mentransformasikan data agar model dapat mengenali pola dengan baik."
      ],
      "metadata": {
        "id": "89Ra3pKuSD-v"
      }
    },
    {
      "cell_type": "code",
      "source": [
        "from sklearn.pipeline import make_pipeline\n",
        "from sklearn.preprocessing import PolynomialFeatures\n",
        "\n",
        "np.random.seed(42)\n",
        "colors = sns.color_palette()\n",
        "\n",
        "x = np.random.random(25) * 2 * np.pi\n",
        "y = np.sin(x) + np.random.randn(25) * 0.05\n",
        "\n",
        "def draw_poly(order = 2, ax = None, regressor = LinearRegression(fit_intercept = False), c = 'r', label = None):\n",
        "    pipe    = make_pipeline(PolynomialFeatures(order), regressor)\n",
        "    support = np.linspace(0, 2 * np.pi)\n",
        "    \n",
        "    pipe.fit(x.reshape(-1, 1), y)\n",
        "    \n",
        "    y_pred = pipe.predict(support.reshape(-1, 1))\n",
        "\n",
        "    if ax:\n",
        "        ax.plot(support, y_pred, c = c, label = label)\n",
        "        ax.set_xlabel('x')\n",
        "        ax.set_ylabel('y')\n",
        "        sns.despine()"
      ],
      "metadata": {
        "id": "7CV5xXnYSHYF"
      },
      "execution_count": 24,
      "outputs": []
    },
    {
      "cell_type": "code",
      "source": [
        "ax = plt.gca()\n",
        "ax.scatter(x, y, marker = 'o')\n",
        "\n",
        "# Menggambar hasil prediksi dengan orde 3\n",
        "draw_poly(3, ax = ax, c = colors[3]);"
      ],
      "metadata": {
        "colab": {
          "base_uri": "https://localhost:8080/",
          "height": 279
        },
        "id": "LfHFuZoWVW3W",
        "outputId": "f8585b21-540e-4270-b26b-be9a51bb06a1"
      },
      "execution_count": 25,
      "outputs": [
        {
          "output_type": "display_data",
          "data": {
            "text/plain": [
              "<Figure size 432x288 with 1 Axes>"
            ],
            "image/png": "[encoded data removed]"
          },
          "metadata": {
            "needs_background": "light"
          }
        }
      ]
    },
    {
      "cell_type": "markdown",
      "metadata": {
        "id": "R4Y89nhHGiaj"
      },
      "source": [
        "### Tugas\n",
        "1. Bagi dataset iris menjadi data latih dan data uji dengan rasio 80:20, random_state=0\n",
        "2. Gunakan data latih untuk mendapatkan nilai parameter alpha dan beta\n",
        "3. Gunakan nilai parameter alpha dan beta tersebut untuk prediksi data uji\n",
        "4. Hitung SAE, SSE, MAE, MSE, dan RMSE dari hasil prediksi data uji terhadap data uji sebenarnya"
      ]
    },
    {
      "cell_type": "code",
      "execution_count": null,
      "metadata": {
        "id": "KwAEUhyHGiak"
      },
      "outputs": [],
      "source": [
        "# 1. Bagi dataset iris menjadi data latih dan data uji dengan rasio 80:20\n"
      ]
    },
    {
      "cell_type": "code",
      "execution_count": null,
      "metadata": {
        "id": "gpGlC_41Gial"
      },
      "outputs": [],
      "source": [
        "# 2. Gunakan data latih untuk mendapatkan nilai parameter alpha dan beta\n"
      ]
    },
    {
      "cell_type": "code",
      "execution_count": null,
      "metadata": {
        "id": "mLBjXZqaGiao"
      },
      "outputs": [],
      "source": [
        "# 3. Gunakan nilai parameter alpha dan beta tersebut untuk prediksi data uji\n",
        "# perhatikan bahwa alpha = y_intercept = w0, beta = slope = w1\n"
      ]
    },
    {
      "cell_type": "code",
      "execution_count": null,
      "metadata": {
        "id": "Fhb505IuGiaq"
      },
      "outputs": [],
      "source": [
        "# 4. Hitung SAE, SSE, MAE, MSE, dan RMSE dari hasil prediksi data uji terhadap data uji sebenarnya"
      ]
    },
    {
      "cell_type": "code",
      "execution_count": null,
      "metadata": {
        "id": "xR0UqEkIGias"
      },
      "outputs": [],
      "source": [
        "# SAE\n"
      ]
    },
    {
      "cell_type": "code",
      "execution_count": null,
      "metadata": {
        "id": "hRUo9HgnGiaw"
      },
      "outputs": [],
      "source": [
        "# SSE\n"
      ]
    },
    {
      "cell_type": "code",
      "execution_count": null,
      "metadata": {
        "id": "FHUfY7cmGia3"
      },
      "outputs": [],
      "source": [
        "# MAE\n"
      ]
    },
    {
      "cell_type": "code",
      "execution_count": null,
      "metadata": {
        "id": "d28z4jdeGia5"
      },
      "outputs": [],
      "source": [
        "# MSE\n"
      ]
    },
    {
      "cell_type": "code",
      "execution_count": null,
      "metadata": {
        "id": "xLelNEL_Gia8"
      },
      "outputs": [],
      "source": [
        "# RMSE\n"
      ]
    },
    {
      "cell_type": "markdown",
      "metadata": {
        "id": "Gv7ehjXjGia9"
      },
      "source": [
        "## Tugas tambahan jika ada waktu, atau pekerjaan rumah, sebagai pelengkap laporan akhir"
      ]
    },
    {
      "cell_type": "markdown",
      "metadata": {
        "id": "vCWtQ5zcGia_"
      },
      "source": [
        "1. Dari hasil di atas, analisis mengapa sae > sse atau sae < sse berdasarkan distribusi error (y_true-y_pred). Lengkapi dengan visualisasi !\n",
        "2. Gunakan library sklearn: LinearRegression. Hitung score performanya.\n",
        "3. Metrik apa yang digunakan di library sklearn: LinearRegression ? Jelaskan tentang metrik tersebut !  \n",
        "[ Hint: baca dokumentasi sklearn.linear_model.LinearRegression ]\n",
        "4. Bandingkan No.2 dengan hasil perhitungan di atas"
      ]
    },
    {
      "cell_type": "code",
      "execution_count": null,
      "metadata": {
        "id": "jYTjliw1GibC"
      },
      "outputs": [],
      "source": [
        "# 1. Dari hasil di atas, analisis mengapa sae > sse atau sae < sse berdasarkan distribusi error (y_true-y_pred). \n",
        "#    Lengkapi dengan visualisasi !\n",
        "\n"
      ]
    },
    {
      "cell_type": "code",
      "execution_count": null,
      "metadata": {
        "id": "1dNZinBpGibG"
      },
      "outputs": [],
      "source": [
        "# 2. Gunakan library sklearn: LinearRegression. Hitung score performanya.\n"
      ]
    },
    {
      "cell_type": "code",
      "execution_count": null,
      "metadata": {
        "id": "HXoftDw3GibJ"
      },
      "outputs": [],
      "source": [
        "# 3. Metrik apa yang digunakan di library sklearn: LinearRegression ? Jelaskan tentang metrik tersebut !  \n",
        "# [ Hint: baca dokumentasi sklearn.linear_model.LinearRegression ]"
      ]
    },
    {
      "cell_type": "code",
      "execution_count": null,
      "metadata": {
        "id": "9S06LlEXGibK"
      },
      "outputs": [],
      "source": [
        "# 4. Bandingkan No.2 dengan hasil perhitungan di atas"
      ]
    },
    {
      "cell_type": "markdown",
      "metadata": {
        "id": "DBo1BoKTGibM"
      },
      "source": [
        "# Laporan Akhir"
      ]
    },
    {
      "cell_type": "markdown",
      "metadata": {
        "id": "4ZbR7y9TGibN"
      },
      "source": [
        "- Cari dataset lain. Lakukan pre-processing data jika diperlukan, untuk mendapatkan hubungan linear antara input dan output, serta mengambil 1 fitur saja. \n",
        "- Tuliskan sumber dataset yang anda pakai disini\n",
        "- Jelaskan secara singkat mengenai isi dari dataset tersebut\n",
        "- Gunakan konsep correlation untuk mendapatkan parameter $\\alpha$ dan $\\beta$ \n",
        "- Gunakan parameter tersebut untuk melakukan prediksi\n",
        "- Hitung SAE, SSE, MAE, MSE, dan RMSE dari hasil prediksi\n",
        "- Tulis kesimpulan\n",
        "\n",
        "Note : Mohon untuk memberikan keterangan dari setiap kolom kode yang dijalankan pada file .ipynb\n"
      ]
    }
  ],
  "metadata": {
    "kernelspec": {
      "display_name": "Python 3 (ipykernel)",
      "language": "python",
      "name": "python3"
    },
    "language_info": {
      "codemirror_mode": {
        "name": "ipython",
        "version": 3
      },
      "file_extension": ".py",
      "mimetype": "text/x-python",
      "name": "python",
      "nbconvert_exporter": "python",
      "pygments_lexer": "ipython3",
      "version": "3.9.7"
    },
    "colab": {
      "provenance": []
    }
  },
  "nbformat": 4,
  "nbformat_minor": 0
}