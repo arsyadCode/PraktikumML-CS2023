{
 "cells": [
  {
   "cell_type": "markdown",
   "id": "363fa896",
   "metadata": {},
   "source": [
    "Model Linear\n",
    "==="
   ]
  },
  {
   "cell_type": "code",
   "execution_count": null,
   "id": "9f8ed867",
   "metadata": {},
   "outputs": [],
   "source": [
    "# Memanggil semua pustaka yang diperlukan\n",
    "import matplotlib.pyplot as plt\n",
    "import numpy as np\n",
    "import pandas as pd\n",
    "import seaborn as sns"
   ]
  },
  {
   "cell_type": "code",
   "execution_count": null,
   "id": "e988efee",
   "metadata": {},
   "outputs": [],
   "source": [
    "# Code di bawah ini hanya \"kosmetik\" untuk tampilan plot\n",
    "plt.rcParams['figure.figsize'] = (10, 7)\n",
    "sns.set_context('talk')\n",
    "colors = sns.color_palette()"
   ]
  },
  {
   "cell_type": "markdown",
   "id": "fb9775f9",
   "metadata": {},
   "source": [
    "# Regresi Linear\n",
    "\n",
    "Dalam modul ini, Anda akan mencoba membuat model linear, terkadang dikenal dengan nama *ordinary least squares* (OLS), dari data untuk prediksi tip dan *toy example* untuk fungsi basis polinomial."
   ]
  },
  {
   "cell_type": "markdown",
   "id": "7eae77cf",
   "metadata": {},
   "source": [
    "## Tugas 1 : Membaca data dari file csv (15 points)\n",
    "1. Baca data dari file tips.csv menggunakan pandas\n",
    "2. Simpan hasil pembacaan ke variable `data`\n",
    "3. Tampilkan 10 data pertama"
   ]
  },
  {
   "cell_type": "code",
   "execution_count": null,
   "id": "06dc9bb2",
   "metadata": {},
   "outputs": [],
   "source": [
    "# Kode Anda di bawah ini\n"
   ]
  },
  {
   "cell_type": "markdown",
   "id": "6f6d807a",
   "metadata": {},
   "source": [
    "## Tugas 2: Berdasarkan nama-nama kolom yang sudah terlihat di atas, jawab pertanyaan berikut ini: (10 points)\n",
    "1. Apa saja nama fitur dari dataset tersebut ?<p>\n",
    "Jawab:\n",
    "<p>\n",
    "\n",
    "2. Apa nama label dari dataset tersebut ?<p>\n",
    "Jawab:"
   ]
  },
  {
   "cell_type": "markdown",
   "id": "194f8ea6",
   "metadata": {},
   "source": [
    "# Regresi Linear menggunakan Library scikit-learn\n",
    "Referensi: https://scikit-learn.org/stable/modules/generated/sklearn.linear_model.LinearRegression.html\n",
    "\n",
    "## Tugas 3: Membuat model regresi linear dari library scikit-learn (15 points)\n",
    "1. Assign model ke variabel `reg`\n",
    "2. Lakukan fitting data dengan fitur: total_bill dan target: tip\n",
    "3. Lakukan prediksi dengan semua data dari fitur: total_bill, simpan ke variable: `y_pred`"
   ]
  },
  {
   "cell_type": "code",
   "execution_count": null,
   "id": "d418b772",
   "metadata": {},
   "outputs": [],
   "source": [
    "# Kode anda di bawah ini\n",
    "from sklearn.linear_model import LinearRegression\n",
    "\n",
    "\n"
   ]
  },
  {
   "cell_type": "markdown",
   "id": "5838d875",
   "metadata": {},
   "source": [
    "# Menampilkan data dan hasil prediksi"
   ]
  },
  {
   "cell_type": "markdown",
   "id": "ff27802b",
   "metadata": {},
   "source": [
    "Garis hijau yang dihasilkan di bawah adalah fungsi linear yang dicocokkan dengan data. Perhatikan bahwa model linear yang digunakan dalam pustaka `seaborn` menggunakan `statsmodels`, bukan `scikit-learn`."
   ]
  },
  {
   "cell_type": "code",
   "execution_count": null,
   "id": "e3973684",
   "metadata": {},
   "outputs": [],
   "source": [
    "ax = plt.gca()\n",
    "sns.regplot(\n",
    "    x=data['total_bill'].values,\n",
    "    y=data['tip'],\n",
    "    color=colors[2],\n",
    "    fit_reg=True,\n",
    "    ci=0,\n",
    "    marker='.'\n",
    ")\n",
    "plt.xlim(0.7, 54)\n",
    "plt.xlabel('total bill')\n",
    "sns.despine()"
   ]
  },
  {
   "cell_type": "markdown",
   "id": "f8f25a5f",
   "metadata": {},
   "source": [
    "Model regresi linear sederhana berusaha untuk meminimalkan *residual error*, lebih tepatnya *sum of squared error* yang didefinisikan sebagai\n",
    "\n",
    "$$\n",
    "E(w) = \\frac{1}{2} \\sum_{i=1}^N (y_i - \\mathbf{w}^T\\mathbf{x}_i)^2\n",
    "$$\n",
    "\n",
    "Bagian $y_i - \\mathbf{w}^T\\mathbf{x}_i$ adalah yang didefinisikan sebagai *residual error* atau yang digambarkan sebagai garis abu-abu pada gambar di bawah. Perhatikan bahwa fungsi error ini bersifat konveks, i.e. hanya ada satu titik optimal."
   ]
  },
  {
   "cell_type": "code",
   "execution_count": null,
   "id": "7522ff20",
   "metadata": {},
   "outputs": [],
   "source": [
    "ax = plt.gca()\n",
    "sns.regplot(\n",
    "    x=data['total_bill'].values,\n",
    "    y=data['tip'],\n",
    "    color='tab:green',\n",
    "    fit_reg=True,\n",
    "    ci=0,\n",
    "    marker='.'\n",
    ")\n",
    "plt.xlim(0.7, 54)\n",
    "plt.xlabel('total bill')\n",
    "plt.vlines(\n",
    "    x=data['total_bill'].values,\n",
    "    ymin=data['tip'],\n",
    "    ymax=y_pred,\n",
    "    color='grey',\n",
    "    alpha=0.3\n",
    ")\n",
    "plt.annotate(\n",
    "    'residual',\n",
    "    xy=(39, 7),\n",
    "    xytext=(30, 8),\n",
    "    arrowprops=dict(\n",
    "        arrowstyle='->',\n",
    "        facecolor='k',\n",
    "        connectionstyle='angle3,angleA=-90,angleB=0'\n",
    "    )\n",
    ");"
   ]
  },
  {
   "cell_type": "markdown",
   "id": "fa44c1b7",
   "metadata": {},
   "source": [
    "Kita dapat dengan mudah membuat ekstensi dari model linear saat menambahkan variabel baru dan menghasilkan *hyperplane* untuk dimensi $D$ alih-alih garis seperti pada contoh dua dimensi di atas. Dalam contoh di bawah ini, `total_bill` dan `size` untuk prediksi `tip` membentuk bidang. "
   ]
  },
  {
   "cell_type": "code",
   "execution_count": null,
   "id": "ee1b59dd",
   "metadata": {},
   "outputs": [],
   "source": [
    "# Tampilkan semua data total_bill, size, dan tip dalam 3D \n",
    "fig = plt.figure(figsize=(10,7))\n",
    "ax = fig.add_subplot(111, projection='3d')\n",
    "\n",
    "xs = data['total_bill'].values\n",
    "ys = data['size']\n",
    "zs = data['tip']\n",
    "ax.scatter(xs, ys, zs, color='tab:blue')\n",
    "ax.view_init(20, -60)\n",
    "ax.set_xlabel('total bill', labelpad=10)\n",
    "ax.set_ylabel('size', labelpad=15)\n",
    "ax.set_zlabel('tip', labelpad=10)"
   ]
  },
  {
   "cell_type": "markdown",
   "id": "50d79ef1",
   "metadata": {},
   "source": [
    "## Tugas 4: Prediksi dengan 2 Fitur (20 points)\n",
    "referensi: https://scikit-learn.org/stable/modules/generated/sklearn.linear_model.LinearRegression.html\n",
    "1. Lakukan fitting terhadap fitur: total_bill dan size, dengan label: tip\n",
    "2. Simpan nilai koefisien (w) ke dalam variable `w1` dan `w2` (karena ada 2 fitur)\n",
    "3. Simpan nilai intercept ke variable `w0`\n",
    "4. Buat model dengan rumus zz = $w_0 + w_1 \\times xx + w_2 \\times yy$"
   ]
  },
  {
   "cell_type": "code",
   "execution_count": null,
   "id": "dcef3718",
   "metadata": {},
   "outputs": [],
   "source": [
    "fig = plt.figure(figsize=(10,7))\n",
    "ax = fig.add_subplot(111, projection='3d')\n",
    "\n",
    "xs = data['total_bill'].values\n",
    "ys = data['size']\n",
    "zs = data['tip']\n",
    "ax.scatter(xs, ys, zs, color='tab:blue')\n",
    "ax.view_init(20, -60)\n",
    "ax.set_xlabel('total bill', labelpad=10)\n",
    "ax.set_ylabel('size', labelpad=15)\n",
    "ax.set_zlabel('tip', labelpad=10)\n",
    "\n",
    "# Menyiapkan meshgrid untuk membentuk bidang\n",
    "xx = np.linspace(*data['total_bill'].agg(['min','max']))\n",
    "yy = np.linspace(*data['size'].agg(['min','max']))\n",
    "xx, yy = np.meshgrid(xx, yy)\n",
    "\n",
    "# Kode Anda di bawah ini\n",
    "\n",
    "\n",
    "# Jangan hapus kode di bawah ini\n",
    "ax.plot_surface(xx, yy, zz, cmap='viridis', alpha=0.3)"
   ]
  },
  {
   "cell_type": "markdown",
   "id": "80cf295e",
   "metadata": {},
   "source": [
    "## Basis Functions\n",
    "\n",
    "Ketika hubungan antara variabel independen dan dependennya tidak berupa garis lurus, i.e. linear, maka perlu dilakukan transformasi terhadap data agar kita tetap dapat menggunakan model OLS."
   ]
  },
  {
   "cell_type": "code",
   "execution_count": null,
   "id": "4aea30bc",
   "metadata": {},
   "outputs": [],
   "source": [
    "np.random.seed(42)\n",
    "\n",
    "x = np.random.random(25) * 2 * np.pi\n",
    "y = np.sin(x) + np.random.randn(25) * 0.05\n",
    "\n",
    "ax = plt.gca()\n",
    "plt.scatter(x, y, marker='o')\n",
    "plt.xlabel('x')\n",
    "plt.ylabel('y')\n",
    "sns.despine()"
   ]
  },
  {
   "cell_type": "markdown",
   "id": "b39aae5d",
   "metadata": {},
   "source": [
    "Melatih model OLS dengan data secara langsung hanya akan menghasilkan model yang mengalami *underfitting*, i.e. model tidak berhasil menangkap pola data yang sebenarnya."
   ]
  },
  {
   "cell_type": "markdown",
   "id": "2c15aafd",
   "metadata": {},
   "source": [
    "## Tugas 5 (10 points)\n",
    "1. Reshape x menjadi 1 kolom dan simpan dalam variable `x_1col`\n",
    "2. Lakukan fitting linear regression terhadap `x_1col` dan label `y`"
   ]
  },
  {
   "cell_type": "code",
   "execution_count": null,
   "id": "74d509ba",
   "metadata": {},
   "outputs": [],
   "source": [
    "# kode Anda di bawah ini\n"
   ]
  },
  {
   "cell_type": "code",
   "execution_count": null,
   "id": "4ff64b23",
   "metadata": {},
   "outputs": [],
   "source": [
    "# Tampilkan data dan hasil prediksi linear regression\n",
    "xfit = np.linspace(x.min(), x.max())\n",
    "yfit = reg.predict(xfit.reshape(-1,1))\n",
    "\n",
    "ax = plt.gca()\n",
    "plt.scatter(x, y, marker='o')\n",
    "plt.plot(xfit, yfit, c='red')\n",
    "plt.xlabel('x')\n",
    "plt.ylabel('y')\n",
    "sns.despine()"
   ]
  },
  {
   "cell_type": "markdown",
   "id": "db64a9d3",
   "metadata": {},
   "source": [
    "### Polynomial Basis Functions\n",
    "\n",
    "Transformasi dengan fungsi basis polinomial mentransformasikan data sehingga model OLS tetap dapat bekerja dengan baik. Untuk memudahkan visualisasi, sementara waktu kita akan melihat data yang lebih mudah untuk ditransformasi. Agar lebih mudah terlihat, kita gunakan satu prediktor yang memiliki hubungan kubikal dengan variabel yang ingin kita prediksi. Di bawah ini disertakan data dan model OLS yang langsung diterapkan pada data yang ada."
   ]
  },
  {
   "cell_type": "markdown",
   "id": "736c2611",
   "metadata": {},
   "source": [
    "## Tugas 6 (25 points)\n",
    "Dengan cara yang sama seperti Tugas 5 diatas, lalukan prediksi terhadap x lalu tampilkan semua data dan hasil prediksinya terhadap data di bawah ini"
   ]
  },
  {
   "cell_type": "code",
   "execution_count": null,
   "id": "3c899aed",
   "metadata": {},
   "outputs": [],
   "source": [
    "np.random.seed(42)\n",
    "\n",
    "n = 30\n",
    "x = np.random.random(n) * 10\n",
    "y = x ** 3 + 5 * np.random.randn(n)\n",
    "\n",
    "# kode Anda di sini\n"
   ]
  },
  {
   "cell_type": "markdown",
   "id": "2aa47005",
   "metadata": {},
   "source": [
    "Mentransformasi nilai $x$ menjadi $x^3$ pada contoh di bawah membantu kita melihat secara visual bahwa sekarang hubungannya kembali linear!\n",
    "\n",
    "*Catatan: Perhatikan label sumbu x-nya!*"
   ]
  },
  {
   "cell_type": "code",
   "execution_count": null,
   "id": "7ea4eb68",
   "metadata": {},
   "outputs": [],
   "source": [
    "np.random.seed(42)\n",
    "\n",
    "n = 30\n",
    "x = np.random.random(n) * 10\n",
    "y = x ** 3 + 5 * np.random.randn(n) # kita seringnya tidak tahu relasi ini dalam dunia nyata\n",
    "\n",
    "ax = plt.gca()\n",
    "sns.regplot(x=x ** 3, y=y, ci=False, ax=ax)\n",
    "plt.xlabel('$x^3$')\n",
    "plt.ylabel('$y$');"
   ]
  },
  {
   "cell_type": "markdown",
   "id": "51ee3e06",
   "metadata": {},
   "source": [
    "Berdasarkan contoh di atas, kita dapat mentransformasikan data agar model dapat mengenali pola dengan baik."
   ]
  },
  {
   "cell_type": "code",
   "execution_count": null,
   "id": "9bf011d5",
   "metadata": {},
   "outputs": [],
   "source": [
    "from sklearn.pipeline import make_pipeline\n",
    "from sklearn.preprocessing import PolynomialFeatures\n",
    "\n",
    "np.random.seed(42)\n",
    "\n",
    "x = np.random.random(25) * 2 * np.pi\n",
    "y = np.sin(x) + np.random.randn(25) * 0.05\n",
    "\n",
    "def draw_poly(order=2, ax=None, regressor=LinearRegression(fit_intercept=False), c='r', label=None):\n",
    "    pipe = make_pipeline(\n",
    "        PolynomialFeatures(order),\n",
    "        regressor\n",
    "    )\n",
    "\n",
    "    support = np.linspace(0, 2 * np.pi)\n",
    "    pipe.fit(x.reshape(-1,1), y)\n",
    "    y_pred = pipe.predict(support.reshape(-1,1))\n",
    "\n",
    "    if ax:\n",
    "        ax.plot(support, y_pred, c=c, label=label)\n",
    "        ax.set_xlabel('x')\n",
    "        ax.set_ylabel('y')\n",
    "        sns.despine()"
   ]
  },
  {
   "cell_type": "code",
   "execution_count": null,
   "id": "08f0a7d8",
   "metadata": {},
   "outputs": [],
   "source": [
    "ax = plt.gca()\n",
    "ax.scatter(x, y, marker='o')\n",
    "# Menggambar hasil prediksi dengan orde 3\n",
    "draw_poly(3, ax=ax, c=colors[3]);"
   ]
  },
  {
   "cell_type": "markdown",
   "id": "cb854d06",
   "metadata": {},
   "source": [
    "Model telah berhasil menemukan pola umum dalam data! Namun, apa yang terjadi kalau kita buat model semakin kompleks dengan meningkatkan orde polinomialnya?"
   ]
  },
  {
   "cell_type": "markdown",
   "id": "714d5e6a",
   "metadata": {},
   "source": [
    "## Tugas 7 (5 points)\n",
    "Gambar hasil prediksi dengan polynomial orde 15"
   ]
  },
  {
   "cell_type": "code",
   "execution_count": null,
   "id": "714827ec",
   "metadata": {},
   "outputs": [],
   "source": [
    "# Kode Anda di bawah ini\n"
   ]
  },
  {
   "cell_type": "markdown",
   "id": "8355186c",
   "metadata": {},
   "source": [
    "Ternyata modelnya menjadi terlalu fleksibel sehingga tidak hanya mengenali pola utama (sinyal), tetapi juga *noise*-nya! Bagaimana menemukan moderasinya? Kita akan bahas ini di praktikum selanjutnya."
   ]
  }
 ],
 "metadata": {
  "interpreter": {
   "hash": "aee8b7b246df8f9039afb4144a1f6fd8d2ca17a180786b69acc140d282b71a49"
  },
  "kernelspec": {
   "display_name": "Python 3",
   "language": "python",
   "name": "python3"
  },
  "language_info": {
   "codemirror_mode": {
    "name": "ipython",
    "version": 3
   },
   "file_extension": ".py",
   "mimetype": "text/x-python",
   "name": "python",
   "nbconvert_exporter": "python",
   "pygments_lexer": "ipython3",
   "version": "3.9.5"
  }
 },
 "nbformat": 4,
 "nbformat_minor": 5
}
